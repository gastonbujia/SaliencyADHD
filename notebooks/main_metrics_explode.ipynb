{
 "cells": [
  {
   "cell_type": "code",
   "execution_count": 1,
   "id": "united-corps",
   "metadata": {},
   "outputs": [],
   "source": [
    "%load_ext autoreload"
   ]
  },
  {
   "cell_type": "code",
   "execution_count": 2,
   "id": "vocal-spray",
   "metadata": {
    "tags": []
   },
   "outputs": [],
   "source": [
    "%autoreload\n",
    "import os\n",
    "import numpy as np\n",
    "import pandas as pd\n",
    "import time\n",
    "import pickle\n",
    "from tqdm.notebook import tqdm\n",
    "from numpy.lib.format import open_memmap\n",
    "from pandarallel import pandarallel\n",
    "from scipy.stats import multivariate_normal, entropy\n",
    "from scripts.data import *\n",
    "from scripts.preprocessing import *\n",
    "from scripts.utils import *\n",
    "from scripts.main import *\n",
    "from scripts.saliency_metrics import *\n",
    "\n",
    "import matplotlib.pyplot as plt\n",
    "import seaborn as sns\n",
    "sns.set_style('darkgrid')\n",
    "%matplotlib inline"
   ]
  },
  {
   "cell_type": "code",
   "execution_count": 3,
   "id": "fabulous-original",
   "metadata": {},
   "outputs": [],
   "source": [
    "# data path where each subject forlder is \n",
    "data_path    = './../data/ETFinalCutSampleEC07/ETFinalCutSample/'\n",
    "results_path = './../results/'"
   ]
  },
  {
   "cell_type": "code",
   "execution_count": 4,
   "id": "mobile-bedroom",
   "metadata": {},
   "outputs": [
    {
     "data": {
      "text/html": [
       "<div>\n",
       "<style scoped>\n",
       "    .dataframe tbody tr th:only-of-type {\n",
       "        vertical-align: middle;\n",
       "    }\n",
       "\n",
       "    .dataframe tbody tr th {\n",
       "        vertical-align: top;\n",
       "    }\n",
       "\n",
       "    .dataframe thead th {\n",
       "        text-align: right;\n",
       "    }\n",
       "</style>\n",
       "<table border=\"1\" class=\"dataframe\">\n",
       "  <thead>\n",
       "    <tr style=\"text-align: right;\">\n",
       "      <th></th>\n",
       "      <th></th>\n",
       "      <th>FilePath</th>\n",
       "      <th>VideoName</th>\n",
       "      <th>SRate</th>\n",
       "      <th>Start</th>\n",
       "      <th>Stop</th>\n",
       "      <th>Duration</th>\n",
       "    </tr>\n",
       "    <tr>\n",
       "      <th>ID</th>\n",
       "      <th>Video_ID</th>\n",
       "      <th></th>\n",
       "      <th></th>\n",
       "      <th></th>\n",
       "      <th></th>\n",
       "      <th></th>\n",
       "      <th></th>\n",
       "    </tr>\n",
       "  </thead>\n",
       "  <tbody>\n",
       "    <tr>\n",
       "      <th rowspan=\"2\" valign=\"top\">NDARAA075AMK</th>\n",
       "      <th>Video1</th>\n",
       "      <td>/Volumes/methlab_data/HBN/EEG-ET/NDARAA075AMK/...</td>\n",
       "      <td>Diary</td>\n",
       "      <td>60</td>\n",
       "      <td>2887191440</td>\n",
       "      <td>3.004585e+09</td>\n",
       "      <td>117393138.0</td>\n",
       "    </tr>\n",
       "    <tr>\n",
       "      <th>Video3</th>\n",
       "      <td>/Volumes/methlab_data/HBN/EEG-ET/NDARAA075AMK/...</td>\n",
       "      <td>Despicable</td>\n",
       "      <td>60</td>\n",
       "      <td>3788400246</td>\n",
       "      <td>3.958946e+09</td>\n",
       "      <td>170545550.0</td>\n",
       "    </tr>\n",
       "    <tr>\n",
       "      <th>NDARAA117NEJ</th>\n",
       "      <th>Video1</th>\n",
       "      <td>/Volumes/methlab_data/HBN/EEG-ET/NDARAA117NEJ/...</td>\n",
       "      <td>Diary</td>\n",
       "      <td>60</td>\n",
       "      <td>3333897971</td>\n",
       "      <td>3.451293e+09</td>\n",
       "      <td>117395130.0</td>\n",
       "    </tr>\n",
       "  </tbody>\n",
       "</table>\n",
       "</div>"
      ],
      "text/plain": [
       "                                                                FilePath  \\\n",
       "ID           Video_ID                                                      \n",
       "NDARAA075AMK Video1    /Volumes/methlab_data/HBN/EEG-ET/NDARAA075AMK/...   \n",
       "             Video3    /Volumes/methlab_data/HBN/EEG-ET/NDARAA075AMK/...   \n",
       "NDARAA117NEJ Video1    /Volumes/methlab_data/HBN/EEG-ET/NDARAA117NEJ/...   \n",
       "\n",
       "                        VideoName  SRate       Start          Stop  \\\n",
       "ID           Video_ID                                                \n",
       "NDARAA075AMK Video1         Diary     60  2887191440  3.004585e+09   \n",
       "             Video3    Despicable     60  3788400246  3.958946e+09   \n",
       "NDARAA117NEJ Video1         Diary     60  3333897971  3.451293e+09   \n",
       "\n",
       "                          Duration  \n",
       "ID           Video_ID               \n",
       "NDARAA075AMK Video1    117393138.0  \n",
       "             Video3    170545550.0  \n",
       "NDARAA117NEJ Video1    117395130.0  "
      ]
     },
     "execution_count": 4,
     "metadata": {},
     "output_type": "execute_result"
    }
   ],
   "source": [
    "trials_data = load_trials_data()\n",
    "trials_data.head(3)"
   ]
  },
  {
   "cell_type": "code",
   "execution_count": 5,
   "id": "creative-sigma",
   "metadata": {},
   "outputs": [
    {
     "data": {
      "text/html": [
       "<div>\n",
       "<style scoped>\n",
       "    .dataframe tbody tr th:only-of-type {\n",
       "        vertical-align: middle;\n",
       "    }\n",
       "\n",
       "    .dataframe tbody tr th {\n",
       "        vertical-align: top;\n",
       "    }\n",
       "\n",
       "    .dataframe thead th {\n",
       "        text-align: right;\n",
       "    }\n",
       "</style>\n",
       "<table border=\"1\" class=\"dataframe\">\n",
       "  <thead>\n",
       "    <tr style=\"text-align: right;\">\n",
       "      <th></th>\n",
       "      <th>Video</th>\n",
       "      <th>Duration(s)</th>\n",
       "      <th>NFrames</th>\n",
       "      <th>FPS</th>\n",
       "      <th>Resolution</th>\n",
       "      <th>Width</th>\n",
       "      <th>Height</th>\n",
       "      <th>FramesTimestamps</th>\n",
       "      <th>VideoSaliency</th>\n",
       "      <th>VideoSaliencyNOcb</th>\n",
       "      <th>VideoSalPercentils</th>\n",
       "      <th>VideoSalPercentilsNOcb</th>\n",
       "      <th>Short Name</th>\n",
       "    </tr>\n",
       "    <tr>\n",
       "      <th>VideoName</th>\n",
       "      <th></th>\n",
       "      <th></th>\n",
       "      <th></th>\n",
       "      <th></th>\n",
       "      <th></th>\n",
       "      <th></th>\n",
       "      <th></th>\n",
       "      <th></th>\n",
       "      <th></th>\n",
       "      <th></th>\n",
       "      <th></th>\n",
       "      <th></th>\n",
       "      <th></th>\n",
       "    </tr>\n",
       "  </thead>\n",
       "  <tbody>\n",
       "    <tr>\n",
       "      <th>Diary</th>\n",
       "      <td>Diary_of_a_Wimpy_Kid_Trailer.mp4</td>\n",
       "      <td>117</td>\n",
       "      <td>2817.0</td>\n",
       "      <td>24.0</td>\n",
       "      <td>(346, 640)</td>\n",
       "      <td>640.0</td>\n",
       "      <td>346.0</td>\n",
       "      <td>[0.0, 41.708333333333336, 83.41666666666667, 1...</td>\n",
       "      <td>Diary_of_a_Wimpy_Kid_Trailer_saliency_cb.npy</td>\n",
       "      <td>Diary_of_a_Wimpy_Kid_Trailer_saliency.npy</td>\n",
       "      <td>Diary_of_a_Wimpy_Kid_Trailer_saliency_cb_perce...</td>\n",
       "      <td>Diary_of_a_Wimpy_Kid_Trailer_saliency_percenti...</td>\n",
       "      <td>WK</td>\n",
       "    </tr>\n",
       "    <tr>\n",
       "      <th>Fractals</th>\n",
       "      <td>Fun_Fractals_v2.mp4</td>\n",
       "      <td>274</td>\n",
       "      <td>8220.0</td>\n",
       "      <td>30.0</td>\n",
       "      <td>(360, 640)</td>\n",
       "      <td>640.0</td>\n",
       "      <td>360.0</td>\n",
       "      <td>[0.0, 33.36666666666667, 66.73333333333333, 10...</td>\n",
       "      <td>Fun_Fractals_v2_saliency_cb.npy</td>\n",
       "      <td>Fun_Fractals_v2_saliency.npy</td>\n",
       "      <td>Fun_Fractals_v2_saliency_cb_percentils.npy</td>\n",
       "      <td>Fun_Fractals_v2_saliency_percentils.npy</td>\n",
       "      <td>FF</td>\n",
       "    </tr>\n",
       "    <tr>\n",
       "      <th>Present</th>\n",
       "      <td>The Present_Short.mp4</td>\n",
       "      <td>203</td>\n",
       "      <td>4877.0</td>\n",
       "      <td>24.0</td>\n",
       "      <td>(720, 1280)</td>\n",
       "      <td>1280.0</td>\n",
       "      <td>720.0</td>\n",
       "      <td>[0.0, 41.666666666666664, 83.33333333333333, 1...</td>\n",
       "      <td>The Present_Short_saliency_cb.npy</td>\n",
       "      <td>The Present_Short_saliency.npy</td>\n",
       "      <td>The Present_Short_saliency_cb_percentils.npy</td>\n",
       "      <td>The Present_Short_saliency_percentils.npy</td>\n",
       "      <td>TP</td>\n",
       "    </tr>\n",
       "    <tr>\n",
       "      <th>Despicable</th>\n",
       "      <td>Three_Little_Kittens_Despicable_Me.mp4</td>\n",
       "      <td>170</td>\n",
       "      <td>4266.0</td>\n",
       "      <td>25.0</td>\n",
       "      <td>(336, 624)</td>\n",
       "      <td>624.0</td>\n",
       "      <td>336.0</td>\n",
       "      <td>[0.0, 40.0, 80.0, 120.0, 160.0, 200.0, 240.0, ...</td>\n",
       "      <td>Three_Little_Kittens_Despicable_Me_saliency_cb...</td>\n",
       "      <td>Three_Little_Kittens_Despicable_Me_saliency.npy</td>\n",
       "      <td>Three_Little_Kittens_Despicable_Me_saliency_cb...</td>\n",
       "      <td>Three_Little_Kittens_Despicable_Me_saliency_pe...</td>\n",
       "      <td>DM</td>\n",
       "    </tr>\n",
       "  </tbody>\n",
       "</table>\n",
       "</div>"
      ],
      "text/plain": [
       "                                             Video  Duration(s)  NFrames  \\\n",
       "VideoName                                                                  \n",
       "Diary             Diary_of_a_Wimpy_Kid_Trailer.mp4          117   2817.0   \n",
       "Fractals                       Fun_Fractals_v2.mp4          274   8220.0   \n",
       "Present                      The Present_Short.mp4          203   4877.0   \n",
       "Despicable  Three_Little_Kittens_Despicable_Me.mp4          170   4266.0   \n",
       "\n",
       "             FPS   Resolution   Width  Height  \\\n",
       "VideoName                                       \n",
       "Diary       24.0   (346, 640)   640.0   346.0   \n",
       "Fractals    30.0   (360, 640)   640.0   360.0   \n",
       "Present     24.0  (720, 1280)  1280.0   720.0   \n",
       "Despicable  25.0   (336, 624)   624.0   336.0   \n",
       "\n",
       "                                             FramesTimestamps  \\\n",
       "VideoName                                                       \n",
       "Diary       [0.0, 41.708333333333336, 83.41666666666667, 1...   \n",
       "Fractals    [0.0, 33.36666666666667, 66.73333333333333, 10...   \n",
       "Present     [0.0, 41.666666666666664, 83.33333333333333, 1...   \n",
       "Despicable  [0.0, 40.0, 80.0, 120.0, 160.0, 200.0, 240.0, ...   \n",
       "\n",
       "                                                VideoSaliency  \\\n",
       "VideoName                                                       \n",
       "Diary            Diary_of_a_Wimpy_Kid_Trailer_saliency_cb.npy   \n",
       "Fractals                      Fun_Fractals_v2_saliency_cb.npy   \n",
       "Present                     The Present_Short_saliency_cb.npy   \n",
       "Despicable  Three_Little_Kittens_Despicable_Me_saliency_cb...   \n",
       "\n",
       "                                          VideoSaliencyNOcb  \\\n",
       "VideoName                                                     \n",
       "Diary             Diary_of_a_Wimpy_Kid_Trailer_saliency.npy   \n",
       "Fractals                       Fun_Fractals_v2_saliency.npy   \n",
       "Present                      The Present_Short_saliency.npy   \n",
       "Despicable  Three_Little_Kittens_Despicable_Me_saliency.npy   \n",
       "\n",
       "                                           VideoSalPercentils  \\\n",
       "VideoName                                                       \n",
       "Diary       Diary_of_a_Wimpy_Kid_Trailer_saliency_cb_perce...   \n",
       "Fractals           Fun_Fractals_v2_saliency_cb_percentils.npy   \n",
       "Present          The Present_Short_saliency_cb_percentils.npy   \n",
       "Despicable  Three_Little_Kittens_Despicable_Me_saliency_cb...   \n",
       "\n",
       "                                       VideoSalPercentilsNOcb Short Name  \n",
       "VideoName                                                                 \n",
       "Diary       Diary_of_a_Wimpy_Kid_Trailer_saliency_percenti...         WK  \n",
       "Fractals              Fun_Fractals_v2_saliency_percentils.npy         FF  \n",
       "Present             The Present_Short_saliency_percentils.npy         TP  \n",
       "Despicable  Three_Little_Kittens_Despicable_Me_saliency_pe...         DM  "
      ]
     },
     "execution_count": 5,
     "metadata": {},
     "output_type": "execute_result"
    }
   ],
   "source": [
    "videos_data = load_video_data()\n",
    "videos_data"
   ]
  },
  {
   "cell_type": "code",
   "execution_count": 6,
   "id": "retained-millennium",
   "metadata": {},
   "outputs": [
    {
     "data": {
      "text/html": [
       "<div>\n",
       "<style scoped>\n",
       "    .dataframe tbody tr th:only-of-type {\n",
       "        vertical-align: middle;\n",
       "    }\n",
       "\n",
       "    .dataframe tbody tr th {\n",
       "        vertical-align: top;\n",
       "    }\n",
       "\n",
       "    .dataframe thead th {\n",
       "        text-align: right;\n",
       "    }\n",
       "</style>\n",
       "<table border=\"1\" class=\"dataframe\">\n",
       "  <thead>\n",
       "    <tr style=\"text-align: right;\">\n",
       "      <th></th>\n",
       "      <th>Age</th>\n",
       "      <th>ID</th>\n",
       "      <th>Enroll_Season</th>\n",
       "      <th>Enroll_Year</th>\n",
       "      <th>Release_Number</th>\n",
       "      <th>Sex</th>\n",
       "      <th>CV_Score</th>\n",
       "      <th>med_type_01</th>\n",
       "      <th>med_type_02</th>\n",
       "      <th>med_type_03</th>\n",
       "      <th>...</th>\n",
       "      <th>Site</th>\n",
       "      <th>EHQ_Total</th>\n",
       "      <th>Child_Race</th>\n",
       "      <th>SWAN_HY</th>\n",
       "      <th>SWAN_IN</th>\n",
       "      <th>SWAN_Total</th>\n",
       "      <th>WAIS_FSIQ_SCALE</th>\n",
       "      <th>WASI_FSIQ</th>\n",
       "      <th>WISC_FSIQ</th>\n",
       "      <th>SWAN</th>\n",
       "    </tr>\n",
       "  </thead>\n",
       "  <tbody>\n",
       "    <tr>\n",
       "      <th>3220</th>\n",
       "      <td>10.394022</td>\n",
       "      <td>NDARYA496WZD</td>\n",
       "      <td>Fall</td>\n",
       "      <td>2016</td>\n",
       "      <td>1</td>\n",
       "      <td>0</td>\n",
       "      <td>14</td>\n",
       "      <td>.</td>\n",
       "      <td>.</td>\n",
       "      <td>.</td>\n",
       "      <td>...</td>\n",
       "      <td>1</td>\n",
       "      <td>100</td>\n",
       "      <td>.</td>\n",
       "      <td>1.777777</td>\n",
       "      <td>1.333333</td>\n",
       "      <td>1.555555</td>\n",
       "      <td>.</td>\n",
       "      <td>.</td>\n",
       "      <td>105</td>\n",
       "      <td>1.555555</td>\n",
       "    </tr>\n",
       "    <tr>\n",
       "      <th>226</th>\n",
       "      <td>9.690965</td>\n",
       "      <td>NDARBK106KRH</td>\n",
       "      <td>Fall</td>\n",
       "      <td>2018</td>\n",
       "      <td>7</td>\n",
       "      <td>0</td>\n",
       "      <td>14</td>\n",
       "      <td>.</td>\n",
       "      <td>.</td>\n",
       "      <td>.</td>\n",
       "      <td>...</td>\n",
       "      <td>4</td>\n",
       "      <td>86.67</td>\n",
       "      <td>0</td>\n",
       "      <td>-1.666666</td>\n",
       "      <td>-1.555555</td>\n",
       "      <td>-1.611111</td>\n",
       "      <td>.</td>\n",
       "      <td>.</td>\n",
       "      <td>115</td>\n",
       "      <td>-1.611111</td>\n",
       "    </tr>\n",
       "    <tr>\n",
       "      <th>3399</th>\n",
       "      <td>17.419917</td>\n",
       "      <td>NDARZC497BFU</td>\n",
       "      <td>Summer</td>\n",
       "      <td>2018</td>\n",
       "      <td>6</td>\n",
       "      <td>0</td>\n",
       "      <td>NaN</td>\n",
       "      <td>.</td>\n",
       "      <td>.</td>\n",
       "      <td>.</td>\n",
       "      <td>...</td>\n",
       "      <td>3</td>\n",
       "      <td>.</td>\n",
       "      <td>0</td>\n",
       "      <td>0</td>\n",
       "      <td>0</td>\n",
       "      <td>0</td>\n",
       "      <td>100</td>\n",
       "      <td>NaN</td>\n",
       "      <td>.</td>\n",
       "      <td>0.000000</td>\n",
       "    </tr>\n",
       "  </tbody>\n",
       "</table>\n",
       "<p>3 rows × 50 columns</p>\n",
       "</div>"
      ],
      "text/plain": [
       "            Age            ID Enroll_Season Enroll_Year Release_Number Sex  \\\n",
       "3220  10.394022  NDARYA496WZD          Fall        2016              1   0   \n",
       "226    9.690965  NDARBK106KRH          Fall        2018              7   0   \n",
       "3399  17.419917  NDARZC497BFU        Summer        2018              6   0   \n",
       "\n",
       "     CV_Score med_type_01 med_type_02 med_type_03  ... Site EHQ_Total  \\\n",
       "3220       14           .           .           .  ...    1       100   \n",
       "226        14           .           .           .  ...    4     86.67   \n",
       "3399      NaN           .           .           .  ...    3         .   \n",
       "\n",
       "     Child_Race    SWAN_HY    SWAN_IN SWAN_Total WAIS_FSIQ_SCALE WASI_FSIQ  \\\n",
       "3220          .   1.777777   1.333333   1.555555               .         .   \n",
       "226           0  -1.666666  -1.555555  -1.611111               .         .   \n",
       "3399          0          0          0          0             100       NaN   \n",
       "\n",
       "     WISC_FSIQ      SWAN  \n",
       "3220       105  1.555555  \n",
       "226        115 -1.611111  \n",
       "3399         .  0.000000  \n",
       "\n",
       "[3 rows x 50 columns]"
      ]
     },
     "execution_count": 6,
     "metadata": {},
     "output_type": "execute_result"
    }
   ],
   "source": [
    "metadata = load_metadata()\n",
    "metadata.sample(3)"
   ]
  },
  {
   "cell_type": "markdown",
   "id": "verified-bronze",
   "metadata": {},
   "source": [
    "***\n",
    "## AUC"
   ]
  },
  {
   "cell_type": "code",
   "execution_count": 7,
   "id": "compressed-radical",
   "metadata": {},
   "outputs": [],
   "source": [
    "saliency_path = './../videos_sal/deepgaze/'\n",
    "percentils_path = './../cache/'"
   ]
  },
  {
   "cell_type": "code",
   "execution_count": 8,
   "id": "tropical-cancellation",
   "metadata": {},
   "outputs": [
    {
     "data": {
      "application/vnd.jupyter.widget-view+json": {
       "model_id": "21e699261967437f90cf8a68f951accb",
       "version_major": 2,
       "version_minor": 0
      },
      "text/plain": [
       "  0%|          | 0/1758 [00:00<?, ?it/s]"
      ]
     },
     "metadata": {},
     "output_type": "display_data"
    }
   ],
   "source": [
    "vid_name = 'Diary'\n",
    "trials_data_vid = trials_data[trials_data.VideoName==vid_name]\n",
    "\n",
    "saliency       = open_memmap(os.path.join(saliency_path, videos_data.loc[vid_name, 'VideoSaliency']))\n",
    "sal_perc       = np.load(os.path.join(percentils_path, videos_data.loc[vid_name, 'VideoSalPercentils']))\n",
    "\n",
    "missing_folders  = []\n",
    "missing_csv_vid  = []\n",
    "missing_metadata = []\n",
    "results          = []\n",
    "\n",
    "n_subj     = len(trials_data_vid)\n",
    "subj_count = 0\n",
    "\n",
    "for fold_subj in tqdm(os.listdir(data_path)):\n",
    "    if fold_subj in list(metadata['ID'].unique()):\n",
    "        pass\n",
    "    else:\n",
    "        missing_metadata.append(fold_subj)\n",
    "        continue\n",
    "        \n",
    "    csv_files    = os.listdir(data_path+fold_subj)\n",
    "    csv_vid_file = [f for f in csv_files if 'WK' in f]\n",
    "    if len(csv_vid_file) ==0:\n",
    "        missing_csv_vid.append(fold_subj)\n",
    "        continue\n",
    "        \n",
    "    et_file      = data_path + fold_subj + '/' + csv_vid_file[0]\n",
    "    df_et        = pd.read_csv(et_file)\n",
    "    frame_timest = videos_data.loc[vid_name,'FramesTimestamps']\n",
    "    trial_init   = trials_data.loc[fold_subj].set_index('VideoName').loc[vid_name].Start\n",
    "    df_fix, flag = preprocess_fixations_new_dataset(df_et, frame_timest, trial_init)\n",
    "    break\n",
    "    if flag==-1:\n",
    "        continue\n",
    "    else:\n",
    "        auc_score, tpr = fixations_subj_auc(df_fix, vid_saliency = saliency, vid_saliency_percentils = sal_perc,\n",
    "                                                trial_resol_width=800, trial_resol_hight=600, npercentils=21)\n",
    "    \n",
    "    results.append((fold_subj, auc_score, len(df_fix), flag, vid_name, et_file, tpr))"
   ]
  },
  {
   "cell_type": "code",
   "execution_count": 9,
   "id": "4ee6c058",
   "metadata": {},
   "outputs": [
    {
     "data": {
      "text/plain": [
       "(286.143999999855, 436.277000000235, array([ 7,  8,  9, 10]))"
      ]
     },
     "execution_count": 9,
     "metadata": {},
     "output_type": "execute_result"
    }
   ],
   "source": [
    "df_fix.start_time.iloc[0],df_fix.end_time.iloc[0], df_fix.frames_seen.iloc[0]"
   ]
  },
  {
   "cell_type": "code",
   "execution_count": 10,
   "id": "ef6898a8",
   "metadata": {},
   "outputs": [
    {
     "data": {
      "text/plain": [
       "18"
      ]
     },
     "execution_count": 10,
     "metadata": {},
     "output_type": "execute_result"
    }
   ],
   "source": [
    "len(df_fix.x.iloc[0])"
   ]
  },
  {
   "cell_type": "code",
   "execution_count": 11,
   "id": "gross-projection",
   "metadata": {},
   "outputs": [
    {
     "data": {
      "text/html": [
       "<div>\n",
       "<style scoped>\n",
       "    .dataframe tbody tr th:only-of-type {\n",
       "        vertical-align: middle;\n",
       "    }\n",
       "\n",
       "    .dataframe tbody tr th {\n",
       "        vertical-align: top;\n",
       "    }\n",
       "\n",
       "    .dataframe thead th {\n",
       "        text-align: right;\n",
       "    }\n",
       "</style>\n",
       "<table border=\"1\" class=\"dataframe\">\n",
       "  <thead>\n",
       "    <tr style=\"text-align: right;\">\n",
       "      <th></th>\n",
       "      <th>fix</th>\n",
       "      <th>x</th>\n",
       "      <th>y</th>\n",
       "      <th>subId</th>\n",
       "      <th>trialId</th>\n",
       "      <th>event_len</th>\n",
       "      <th>start_time</th>\n",
       "      <th>end_time</th>\n",
       "      <th>dur</th>\n",
       "      <th>x_mean</th>\n",
       "      <th>y_mean</th>\n",
       "      <th>x_std</th>\n",
       "      <th>y_std</th>\n",
       "      <th>sample_timestamps</th>\n",
       "      <th>frames_seen</th>\n",
       "    </tr>\n",
       "  </thead>\n",
       "  <tbody>\n",
       "    <tr>\n",
       "      <th>2</th>\n",
       "      <td>1</td>\n",
       "      <td>[453.24, 442.07, 445.2, 435.77, 430.88, 434.95...</td>\n",
       "      <td>[239.84, 239.22, 238.79, 236.44, 236.75, 237.5...</td>\n",
       "      <td>0</td>\n",
       "      <td>0</td>\n",
       "      <td>18</td>\n",
       "      <td>286.144</td>\n",
       "      <td>436.277</td>\n",
       "      <td>150.133</td>\n",
       "      <td>435.777778</td>\n",
       "      <td>239.205556</td>\n",
       "      <td>5.779414</td>\n",
       "      <td>1.534308</td>\n",
       "      <td>[286.143999999855, 294.48472222209836, 302.825...</td>\n",
       "      <td>[7, 8, 9, 10]</td>\n",
       "    </tr>\n",
       "    <tr>\n",
       "      <th>4</th>\n",
       "      <td>1</td>\n",
       "      <td>[265.15, 244.62, 247.48, 244.22, 240.22, 240.6...</td>\n",
       "      <td>[237.13, 236.56, 235.85, 235.16, 235.29, 235.1...</td>\n",
       "      <td>0</td>\n",
       "      <td>0</td>\n",
       "      <td>23</td>\n",
       "      <td>452.890</td>\n",
       "      <td>644.797</td>\n",
       "      <td>191.907</td>\n",
       "      <td>241.332174</td>\n",
       "      <td>232.651304</td>\n",
       "      <td>5.551998</td>\n",
       "      <td>3.621135</td>\n",
       "      <td>[452.89000000013, 461.233782608831, 469.577565...</td>\n",
       "      <td>[11, 12, 13, 14, 15]</td>\n",
       "    </tr>\n",
       "    <tr>\n",
       "      <th>6</th>\n",
       "      <td>1</td>\n",
       "      <td>[235.66, 233.67, 231.38, 229.08, 227.73, 226.4...</td>\n",
       "      <td>[222.07, 220.63, 219.67, 218.64, 217.44, 216.1...</td>\n",
       "      <td>0</td>\n",
       "      <td>0</td>\n",
       "      <td>10</td>\n",
       "      <td>653.148</td>\n",
       "      <td>736.541</td>\n",
       "      <td>83.393</td>\n",
       "      <td>230.147000</td>\n",
       "      <td>217.018000</td>\n",
       "      <td>6.166529</td>\n",
       "      <td>3.031171</td>\n",
       "      <td>[653.148000000045, 661.4873000000606, 669.8266...</td>\n",
       "      <td>[16, 17]</td>\n",
       "    </tr>\n",
       "    <tr>\n",
       "      <th>8</th>\n",
       "      <td>1</td>\n",
       "      <td>[308.53, 325.21, 328.89, 331.04, 333.1, 333.7,...</td>\n",
       "      <td>[212.12, 212.55, 212.57, 212.56, 212.82, 213.9...</td>\n",
       "      <td>0</td>\n",
       "      <td>0</td>\n",
       "      <td>28</td>\n",
       "      <td>744.893</td>\n",
       "      <td>978.405</td>\n",
       "      <td>233.512</td>\n",
       "      <td>338.341429</td>\n",
       "      <td>214.277500</td>\n",
       "      <td>7.817132</td>\n",
       "      <td>0.896759</td>\n",
       "      <td>[744.893000000156, 753.2327142858741, 761.5724...</td>\n",
       "      <td>[18, 19, 20, 21, 22, 23]</td>\n",
       "    </tr>\n",
       "    <tr>\n",
       "      <th>10</th>\n",
       "      <td>1</td>\n",
       "      <td>[487.59, 498.51, 502.33, 502.43, 503.78, 504.1...</td>\n",
       "      <td>[218.86, 219.5, 220.63, 221.52, 221.92, 222.12...</td>\n",
       "      <td>0</td>\n",
       "      <td>0</td>\n",
       "      <td>20</td>\n",
       "      <td>1003.535</td>\n",
       "      <td>1170.265</td>\n",
       "      <td>166.730</td>\n",
       "      <td>506.316000</td>\n",
       "      <td>224.636500</td>\n",
       "      <td>6.075180</td>\n",
       "      <td>3.398241</td>\n",
       "      <td>[1003.53500000015, 1011.871500000149, 1020.208...</td>\n",
       "      <td>[25, 26, 27, 28]</td>\n",
       "    </tr>\n",
       "  </tbody>\n",
       "</table>\n",
       "</div>"
      ],
      "text/plain": [
       "    fix                                                  x  \\\n",
       "2     1  [453.24, 442.07, 445.2, 435.77, 430.88, 434.95...   \n",
       "4     1  [265.15, 244.62, 247.48, 244.22, 240.22, 240.6...   \n",
       "6     1  [235.66, 233.67, 231.38, 229.08, 227.73, 226.4...   \n",
       "8     1  [308.53, 325.21, 328.89, 331.04, 333.1, 333.7,...   \n",
       "10    1  [487.59, 498.51, 502.33, 502.43, 503.78, 504.1...   \n",
       "\n",
       "                                                    y  subId  trialId  \\\n",
       "2   [239.84, 239.22, 238.79, 236.44, 236.75, 237.5...      0        0   \n",
       "4   [237.13, 236.56, 235.85, 235.16, 235.29, 235.1...      0        0   \n",
       "6   [222.07, 220.63, 219.67, 218.64, 217.44, 216.1...      0        0   \n",
       "8   [212.12, 212.55, 212.57, 212.56, 212.82, 213.9...      0        0   \n",
       "10  [218.86, 219.5, 220.63, 221.52, 221.92, 222.12...      0        0   \n",
       "\n",
       "    event_len  start_time  end_time      dur      x_mean      y_mean  \\\n",
       "2          18     286.144   436.277  150.133  435.777778  239.205556   \n",
       "4          23     452.890   644.797  191.907  241.332174  232.651304   \n",
       "6          10     653.148   736.541   83.393  230.147000  217.018000   \n",
       "8          28     744.893   978.405  233.512  338.341429  214.277500   \n",
       "10         20    1003.535  1170.265  166.730  506.316000  224.636500   \n",
       "\n",
       "       x_std     y_std                                  sample_timestamps  \\\n",
       "2   5.779414  1.534308  [286.143999999855, 294.48472222209836, 302.825...   \n",
       "4   5.551998  3.621135  [452.89000000013, 461.233782608831, 469.577565...   \n",
       "6   6.166529  3.031171  [653.148000000045, 661.4873000000606, 669.8266...   \n",
       "8   7.817132  0.896759  [744.893000000156, 753.2327142858741, 761.5724...   \n",
       "10  6.075180  3.398241  [1003.53500000015, 1011.871500000149, 1020.208...   \n",
       "\n",
       "                 frames_seen  \n",
       "2              [7, 8, 9, 10]  \n",
       "4       [11, 12, 13, 14, 15]  \n",
       "6                   [16, 17]  \n",
       "8   [18, 19, 20, 21, 22, 23]  \n",
       "10          [25, 26, 27, 28]  "
      ]
     },
     "execution_count": 11,
     "metadata": {},
     "output_type": "execute_result"
    }
   ],
   "source": [
    "df_fix.head()"
   ]
  },
  {
   "cell_type": "markdown",
   "id": "bored-hanging",
   "metadata": {},
   "source": [
    "***"
   ]
  },
  {
   "cell_type": "markdown",
   "id": "provincial-microwave",
   "metadata": {},
   "source": [
    "## NSS DeepGaze"
   ]
  },
  {
   "cell_type": "code",
   "execution_count": 12,
   "id": "c2c95f69",
   "metadata": {},
   "outputs": [],
   "source": [
    "def create_saliency_matrix(video_path, saliency_path ='../videos_sal/vinet'):\n",
    "    folder = video_path #videos_data.loc[video].Video[:-4]\n",
    "    maps = []\n",
    "    for img in sorted(os.listdir(os.path.join(saliency_path, folder))):\n",
    "        if img[0] == '.':\n",
    "            continue\n",
    "        maps.append(cv2.imread(os.path.join(saliency_path, folder, img), cv2.IMREAD_GRAYSCALE))\n",
    "    return np.stack(maps, axis=2)"
   ]
  },
  {
   "cell_type": "code",
   "execution_count": null,
   "id": "4f0a45d4",
   "metadata": {},
   "outputs": [],
   "source": [
    "def calculate_metric(data_path, trials_data, videos_data, vid_name = 'Diary', saliency = None, metric = 'NSS', saliency_path = ''):\n",
    "    \n",
    "    trials_data_vid = trials_data[trials_data.VideoName==vid_name]\n",
    "    frame_dur = (videos_data.loc[vid_name].FramesTimestamps[1])\n",
    "    vid = {'Diary': 'WK', 'Fractals': 'FF', 'Present': 'TP'}\n",
    "\n",
    "    # vid_saliency   = videos_data.loc[vid_name, 'VideoSaliency']\n",
    "    # vid_saliency_p = videos_data.loc[vid_name, 'VideoSalPercentils']\n",
    "    # saliency       = open_memmap('Videos_sal/cb/'+vid_saliency)\n",
    "    # sal_perc       = np.load('./cache/'+vid_saliency_p)\n",
    "    \n",
    "    if saliency is None:\n",
    "        #saliency = open_memmap(os.path.join(saliency_path, videos_data.loc[vid_name, 'VideoSaliency']))\n",
    "        saliency = create_saliency_matrix(videos_data.loc[vid_name].Video[:-4], saliency_path=saliency_path)\n",
    "        \n",
    "    missing_folders  = []\n",
    "    video_not_seen   = []\n",
    "    missing_metadata = []\n",
    "    results          = []\n",
    "\n",
    "    n_subj     = len(trials_data_vid)\n",
    "    subj_count = 0\n",
    "    \n",
    "    aux = sorted(os.listdir(data_path))\n",
    "    corte = int(len(aux)//6)\n",
    "    iter_list = aux[:corte]\n",
    "    for fold_subj in tqdm(iter_list):\n",
    "        if fold_subj in list(metadata['ID'].unique()):\n",
    "            pass\n",
    "        else:\n",
    "            missing_metadata.append(fold_subj)\n",
    "            continue\n",
    "\n",
    "        csv_files    = os.listdir(data_path+fold_subj)\n",
    "        csv_vid_file = [f for f in csv_files if vid[vid_name] in f]\n",
    "        if len(csv_vid_file) ==0:\n",
    "            video_not_seen.append(fold_subj)\n",
    "            continue\n",
    "\n",
    "        et_file      = os.path.join(data_path, fold_subj, csv_vid_file[0])\n",
    "        df_et        = pd.read_csv(et_file)\n",
    "        frame_timest = videos_data.loc[vid_name,'FramesTimestamps']\n",
    "        try:\n",
    "            trial_init   = trials_data.loc[fold_subj].set_index('VideoName').loc[vid_name].Start\n",
    "        except:\n",
    "            missing_metadata.append([fold_subj, vid_name])\n",
    "            continue\n",
    "        \n",
    "        df_fix, flag = preprocess_fixations_new_dataset(df_et, frame_timest, trial_init, sdt_correction = False)\n",
    "        # drop fixations after video ended\n",
    "        df_fix = df_fix[df_fix['start_time']//frame_dur < saliency.shape[-1]]\n",
    "        print(fold_subj)\n",
    "        if flag==-1:\n",
    "            continue\n",
    "        elif metric =='CC':\n",
    "            score = calculate_CC_apply(df_fix, saliency)\n",
    "        elif metric=='NSS':\n",
    "            score = calculate_NSS(df_fix, saliency, frame_dur)\n",
    "        else:\n",
    "            print('Metric not implemented')\n",
    "            break\n",
    "            \n",
    "        mean_score = np.mean(np.array(score))\n",
    "        results.append((fold_subj,  df_fix.index, score, mean_score, len(df_fix), flag, vid_name, et_file))\n",
    "        #results_nss.append((fold_subj, nss_mean_score, len(df_fix), flag, vid_name, et_file, nss_score))\n",
    "    return results, {'missing_folders': missing_folders, 'missing_metadata': missing_metadata, 'video_not_seen': video_not_seen}"
   ]
  },
  {
   "cell_type": "code",
   "execution_count": null,
   "id": "c84be375",
   "metadata": {},
   "outputs": [],
   "source": [
    "def calculate_metric_subject(df_et, trials_data, videos_data, vid_name, saliency, metric, trial_init=None, frame_dur=None, frame_timest=None):\n",
    "    \n",
    "    if not frame_dur:\n",
    "        frame_dur = (videos_data.loc[vid_name].FramesTimestamps[1])\n",
    "    if not trial_init:\n",
    "        trial_init   = trials_data.loc[fold_subj].set_index('VideoName').loc[vid_name].Start\n",
    "    if not frame_timest:\n",
    "        frame_timest = videos_data.loc[vid_name,'FramesTimestamps']\n",
    "    \n",
    "    df_fix, flag = preprocess_fixations_new_dataset(df_et, frame_timest, trial_init, sdt_correction = False)\n",
    "    # drop fixations after video ended\n",
    "    df_fix = df_fix[df_fix['start_time']//frame_dur < saliency.shape[-1]]\n",
    "    print(fold_subj)\n",
    "    if flag==-1:\n",
    "        pass\n",
    "    elif metric =='CC':\n",
    "        score = calculate_CC_apply(df_fix, saliency)\n",
    "    elif metric=='NSS':\n",
    "        score = calculate_NSS(df_fix, saliency, frame_dur)\n",
    "    else:\n",
    "        print('Metric not implemented')\n",
    "        pass\n",
    "    \n",
    "    mean_score = np.mean(np.array(score))\n",
    "\n",
    "    return df_fix, score, mean_score, flag"
   ]
  },
  {
   "cell_type": "code",
   "execution_count": 13,
   "id": "temporal-wales",
   "metadata": {},
   "outputs": [],
   "source": [
    "def calculate_metric_chunks(data_path, trials_data, videos_data, n_chunks:int, chunk_i:int, vid_name = 'Diary', saliency = None, metric = 'NSS', saliency_path = ''):\n",
    "    \n",
    "    trials_data_vid = trials_data[trials_data.VideoName==vid_name]\n",
    "    frame_dur = (videos_data.loc[vid_name].FramesTimestamps[1])\n",
    "    vid = {'Diary': 'WK', 'Fractals': 'FF', 'Present': 'TP'}\n",
    "\n",
    "    # vid_saliency   = videos_data.loc[vid_name, 'VideoSaliency']\n",
    "    # vid_saliency_p = videos_data.loc[vid_name, 'VideoSalPercentils']\n",
    "    # saliency       = open_memmap('Videos_sal/cb/'+vid_saliency)\n",
    "    # sal_perc       = np.load('./cache/'+vid_saliency_p)\n",
    "    \n",
    "    if saliency is None:\n",
    "        #saliency = open_memmap(os.path.join(saliency_path, videos_data.loc[vid_name, 'VideoSaliency']))\n",
    "        saliency = create_saliency_matrix(videos_data.loc[vid_name].Video[:-4], saliency_path=saliency_path)\n",
    "        \n",
    "    missing_folders  = []\n",
    "    video_not_seen   = []\n",
    "    missing_metadata = []\n",
    "    results          = []\n",
    "    error_list       = []\n",
    "\n",
    "    n_subj     = len(trials_data_vid)\n",
    "    subj_count = 0\n",
    "    \n",
    "    # calculate chunk\n",
    "    aux = sorted(os.listdir(data_path))\n",
    "    corte = int(len(aux)//n_chunks)\n",
    "    if chunk_i == n_chunks-1:\n",
    "        iter_list = aux[chunk_i * corte:]\n",
    "    else:\n",
    "        iter_list = aux[chunk_i * corte:(chunk_i+1)*corte]\n",
    "    \n",
    "    for fold_subj in tqdm(iter_list):\n",
    "        \n",
    "        if fold_subj not in list(metadata['ID'].unique()):\n",
    "            missing_metadata.append(fold_subj)\n",
    "            continue\n",
    "        \n",
    "        csv_files    = os.listdir(data_path+fold_subj)\n",
    "        csv_vid_file = [f for f in csv_files if vid[vid_name] in f]\n",
    "        if len(csv_vid_file) ==0:\n",
    "            video_not_seen.append(fold_subj)\n",
    "            continue\n",
    "\n",
    "        et_file      = os.path.join(data_path, fold_subj, csv_vid_file[0])\n",
    "        df_et        = pd.read_csv(et_file)\n",
    "        frame_timest = videos_data.loc[vid_name,'FramesTimestamps']\n",
    "        \n",
    "        try:\n",
    "            trial_init   = trials_data.loc[fold_subj].set_index('VideoName').loc[vid_name].Start\n",
    "        except:\n",
    "            missing_metadata.append([fold_subj, vid_name])\n",
    "            continue\n",
    "            \n",
    "        # calculate metric\n",
    "        try:\n",
    "            df_fix, score, mean_score, flag = calculate_metric_subject(df_et, trials_data, videos_data, vid_name, saliency, metric, trial_init, frame_dur, frame_timest)\n",
    "            results.append((fold_subj,  df_fix.index, score, mean_score, len(df_fix), flag, vid_name, et_file))\n",
    "        except:\n",
    "            error_list.append(fold_subj)\n",
    "        \n",
    "    return results, {'missing_folders': missing_folders, 'missing_metadata': missing_metadata, 'video_not_seen': video_not_seen}"
   ]
  },
  {
   "cell_type": "code",
   "execution_count": 14,
   "id": "capable-technician",
   "metadata": {},
   "outputs": [],
   "source": [
    "# add frame idx\n",
    "def add_frame_idx(df, vid_name, data_path, trials_data, videos_data):\n",
    "    dfs_list = []\n",
    "    for idx in df.ID.unique():\n",
    "    \n",
    "        df_aux       = df[df.ID==idx].copy()\n",
    "        et_file      = df_aux.ET_FILE.iloc[0]\n",
    "        df_et        = pd.read_csv(os.path.join(data_path,et_file[2:]))\n",
    "        frame_timest = videos_data.loc[vid_name,'FramesTimestamps']\n",
    "        trial_init   = trials_data.loc[idx].set_index('VideoName').loc[vid_name].Start\n",
    "        df_fix, flag = preprocess_fixations_new_dataset(df_et, frame_timest, trial_init)\n",
    "        frame_id     = df_fix.frames_seen.apply(lambda x: x[0])\n",
    "        #print(frame_id.columns)\n",
    "        #print(frame_id.index)\n",
    "        df_aux       = df_aux.merge(frame_id,how='right',left_on='FIX_idx',right_index=True)    \n",
    "        dfs_list.append(df_aux)\n",
    "        \n",
    "    df_exploded_frames = pd.concat(dfs_list)\n",
    "    df_exploded_frames.rename({'frames_seen':'FRAME_idx'}, axis=1, inplace=True)\n",
    "    \n",
    "    return df_exploded_frames"
   ]
  },
  {
   "cell_type": "code",
   "execution_count": 15,
   "id": "professional-border",
   "metadata": {},
   "outputs": [
    {
     "data": {
      "text/html": [
       "<div>\n",
       "<style scoped>\n",
       "    .dataframe tbody tr th:only-of-type {\n",
       "        vertical-align: middle;\n",
       "    }\n",
       "\n",
       "    .dataframe tbody tr th {\n",
       "        vertical-align: top;\n",
       "    }\n",
       "\n",
       "    .dataframe thead th {\n",
       "        text-align: right;\n",
       "    }\n",
       "</style>\n",
       "<table border=\"1\" class=\"dataframe\">\n",
       "  <thead>\n",
       "    <tr style=\"text-align: right;\">\n",
       "      <th></th>\n",
       "      <th></th>\n",
       "      <th>FilePath</th>\n",
       "      <th>VideoName</th>\n",
       "      <th>SRate</th>\n",
       "      <th>Start</th>\n",
       "      <th>Stop</th>\n",
       "      <th>Duration</th>\n",
       "    </tr>\n",
       "    <tr>\n",
       "      <th>ID</th>\n",
       "      <th>Video_ID</th>\n",
       "      <th></th>\n",
       "      <th></th>\n",
       "      <th></th>\n",
       "      <th></th>\n",
       "      <th></th>\n",
       "      <th></th>\n",
       "    </tr>\n",
       "  </thead>\n",
       "  <tbody>\n",
       "    <tr>\n",
       "      <th rowspan=\"2\" valign=\"top\">NDARAA075AMK</th>\n",
       "      <th>Video1</th>\n",
       "      <td>/Volumes/methlab_data/HBN/EEG-ET/NDARAA075AMK/...</td>\n",
       "      <td>Diary</td>\n",
       "      <td>60</td>\n",
       "      <td>2887191440</td>\n",
       "      <td>3.004585e+09</td>\n",
       "      <td>117393138.0</td>\n",
       "    </tr>\n",
       "    <tr>\n",
       "      <th>Video3</th>\n",
       "      <td>/Volumes/methlab_data/HBN/EEG-ET/NDARAA075AMK/...</td>\n",
       "      <td>Despicable</td>\n",
       "      <td>60</td>\n",
       "      <td>3788400246</td>\n",
       "      <td>3.958946e+09</td>\n",
       "      <td>170545550.0</td>\n",
       "    </tr>\n",
       "    <tr>\n",
       "      <th rowspan=\"2\" valign=\"top\">NDARAA117NEJ</th>\n",
       "      <th>Video1</th>\n",
       "      <td>/Volumes/methlab_data/HBN/EEG-ET/NDARAA117NEJ/...</td>\n",
       "      <td>Diary</td>\n",
       "      <td>60</td>\n",
       "      <td>3333897971</td>\n",
       "      <td>3.451293e+09</td>\n",
       "      <td>117395130.0</td>\n",
       "    </tr>\n",
       "    <tr>\n",
       "      <th>Video3</th>\n",
       "      <td>/Volumes/methlab_data/HBN/EEG-ET/NDARAA117NEJ/...</td>\n",
       "      <td>Despicable</td>\n",
       "      <td>60</td>\n",
       "      <td>4710198376</td>\n",
       "      <td>4.880739e+09</td>\n",
       "      <td>170540748.0</td>\n",
       "    </tr>\n",
       "    <tr>\n",
       "      <th>NDARAA306NT2</th>\n",
       "      <th>Video-DM</th>\n",
       "      <td>/Volumes/methlab_data/HBN/EEG-ET/NDARAA306NT2/...</td>\n",
       "      <td>Despicable</td>\n",
       "      <td>60</td>\n",
       "      <td>3125258026</td>\n",
       "      <td>3.295796e+09</td>\n",
       "      <td>170537702.0</td>\n",
       "    </tr>\n",
       "  </tbody>\n",
       "</table>\n",
       "</div>"
      ],
      "text/plain": [
       "                                                                FilePath  \\\n",
       "ID           Video_ID                                                      \n",
       "NDARAA075AMK Video1    /Volumes/methlab_data/HBN/EEG-ET/NDARAA075AMK/...   \n",
       "             Video3    /Volumes/methlab_data/HBN/EEG-ET/NDARAA075AMK/...   \n",
       "NDARAA117NEJ Video1    /Volumes/methlab_data/HBN/EEG-ET/NDARAA117NEJ/...   \n",
       "             Video3    /Volumes/methlab_data/HBN/EEG-ET/NDARAA117NEJ/...   \n",
       "NDARAA306NT2 Video-DM  /Volumes/methlab_data/HBN/EEG-ET/NDARAA306NT2/...   \n",
       "\n",
       "                        VideoName  SRate       Start          Stop  \\\n",
       "ID           Video_ID                                                \n",
       "NDARAA075AMK Video1         Diary     60  2887191440  3.004585e+09   \n",
       "             Video3    Despicable     60  3788400246  3.958946e+09   \n",
       "NDARAA117NEJ Video1         Diary     60  3333897971  3.451293e+09   \n",
       "             Video3    Despicable     60  4710198376  4.880739e+09   \n",
       "NDARAA306NT2 Video-DM  Despicable     60  3125258026  3.295796e+09   \n",
       "\n",
       "                          Duration  \n",
       "ID           Video_ID               \n",
       "NDARAA075AMK Video1    117393138.0  \n",
       "             Video3    170545550.0  \n",
       "NDARAA117NEJ Video1    117395130.0  \n",
       "             Video3    170540748.0  \n",
       "NDARAA306NT2 Video-DM  170537702.0  "
      ]
     },
     "execution_count": 15,
     "metadata": {},
     "output_type": "execute_result"
    }
   ],
   "source": [
    "trials_data.head()#index.droplevel(1).unique()"
   ]
  },
  {
   "cell_type": "markdown",
   "id": "blind-counter",
   "metadata": {},
   "source": [
    "### Diary"
   ]
  },
  {
   "cell_type": "code",
   "execution_count": 16,
   "id": "2137d6e6",
   "metadata": {},
   "outputs": [
    {
     "data": {
      "text/plain": [
       "<AxesSubplot:>"
      ]
     },
     "execution_count": 16,
     "metadata": {},
     "output_type": "execute_result"
    },
    {
     "data": {
      "image/png": "[encoded data removed]",
      "text/plain": [
       "<Figure size 432x288 with 1 Axes>"
      ]
     },
     "metadata": {
      "needs_background": "light"
     },
     "output_type": "display_data"
    }
   ],
   "source": [
    "df_fix.x.apply(max).hist()"
   ]
  },
  {
   "cell_type": "code",
   "execution_count": 17,
   "id": "c9b2c1f7",
   "metadata": {},
   "outputs": [
    {
     "data": {
      "text/plain": [
       "(346, 640, 2817)"
      ]
     },
     "execution_count": 17,
     "metadata": {},
     "output_type": "execute_result"
    }
   ],
   "source": [
    "saliency.shape"
   ]
  },
  {
   "cell_type": "code",
   "execution_count": 18,
   "id": "southern-robert",
   "metadata": {
    "tags": []
   },
   "outputs": [
    {
     "data": {
      "application/vnd.jupyter.widget-view+json": {
       "model_id": "9cc8e03955254fd9bc90187de04dcb28",
       "version_major": 2,
       "version_minor": 0
      },
      "text/plain": [
       "  0%|          | 0/293 [00:00<?, ?it/s]"
      ]
     },
     "metadata": {},
     "output_type": "display_data"
    },
    {
     "name": "stdout",
     "output_type": "stream",
     "text": [
      "NDARAB055BPR\n",
      "NDARAB348EWR\n",
      "NDARAB793GL3\n",
      "NDARAC857HDB\n",
      "NDARAD224CRB\n",
      "NDARAD615WLJ\n",
      "NDARAE866UVF\n",
      "NDARAG584XLU\n",
      "NDARAH304ED7\n",
      "NDARAH793FBF\n",
      "NDARAJ689BVN\n",
      "NDARAK653RYE\n",
      "NDARAM048AFP\n",
      "NDARAM848GTE\n",
      "NDARAN076TPG\n",
      "NDARAN461TGQ\n",
      "NDARAN524ZK6\n",
      "NDARAP522AFK\n",
      "NDARAP782TVC\n",
      "NDARAP785CTE\n",
      "NDARAR238RZ8\n",
      "NDARAT244VGA\n",
      "NDARAT358XM9\n",
      "NDARAU530GLJ\n",
      "NDARAU708TL8\n",
      "NDARAV189JGX\n",
      "NDARAW179AYF\n",
      "NDARAX358NB5\n",
      "NDARAX887JRN\n",
      "NDARAY283AU1\n",
      "NDARBA381JGH\n",
      "NDARBA507GCT\n",
      "NDARBC240LNC\n",
      "NDARBC580HR5\n",
      "NDARBD879MBX\n",
      "NDARBE091BGD\n",
      "NDARBE103DHM\n",
      "NDARBF183RFB\n",
      "NDARBF851NH6\n",
      "NDARBG188RA5\n",
      "NDARBH992ARB\n",
      "NDARBJ159HXB\n",
      "NDARBJ375VP4\n",
      "NDARBJ637CFZ\n",
      "NDARBJ674TVU\n",
      "NDARBK638HLZ\n",
      "NDARBL532FPT\n",
      "NDARBL935ZUA\n",
      "NDARBM433VER\n",
      "NDARBM642JFT\n",
      "NDARBR128UFP\n",
      "NDARBT747UHM\n",
      "NDARBU098PJT\n",
      "NDARBU532YXZ\n",
      "NDARBV059CGE\n",
      "NDARBV167RMU\n",
      "NDARBV630BK6\n",
      "NDARBW026UGE\n",
      "NDARBW255JE1\n",
      "NDARBW525JHY\n",
      "NDARBX974XDR\n",
      "NDARBZ475NKK\n",
      "NDARBZ913ZB9\n",
      "NDARBZ925PRF\n",
      "NDARCA578CEB\n",
      "NDARCC140AAK\n",
      "NDARCC340ER5\n",
      "NDARCC824FCL\n",
      "NDARCD296XU9\n",
      "NDARCD543VK6\n",
      "NDARCD661GL0\n",
      "NDARCE721YB5\n",
      "NDARCF052AE0\n",
      "NDARCG258NEF\n",
      "NDARCG438NML\n",
      "NDARCG785NND\n",
      "NDARCG947ZC0\n",
      "NDARCH514JCT\n",
      "NDARCH868WVX\n",
      "NDARCH889NUF\n",
      "NDARCJ330NBP\n",
      "NDARCJ433TCG\n",
      "NDARCK647MU6\n",
      "NDARCL016NHB\n",
      "NDARCL590LPD\n",
      "NDARCR576EV1\n",
      "NDARCR582GKJ\n",
      "NDARCR594JN0\n",
      "NDARCR743RHQ\n",
      "NDARCU417HRA\n",
      "NDARCU621EBN\n",
      "NDARCU736GZ1\n",
      "NDARCU744XWL\n",
      "NDARCU957PGQ\n",
      "NDARCV154DB9\n",
      "NDARCV378MMX\n",
      "NDARCV606ZZ5\n",
      "NDARCV981XUY\n",
      "NDARCW497XW2\n",
      "NDARCW932EU6\n",
      "NDARCW933FD5\n",
      "NDARDA573XGG\n",
      "NDARDA656RBN\n",
      "NDARDC814WW2\n",
      "NDARDC843HHM\n",
      "NDARDD073JKZ\n",
      "NDARDD128NWL\n",
      "NDARDD193HUP\n",
      "NDARDD854GF8\n",
      "NDARDE319VD1\n",
      "NDARDE502TEU\n",
      "NDARDE877RFH\n",
      "NDARDF374LGN\n",
      "NDARDF568GL5\n",
      "NDARDG484ZJ1\n",
      "NDARDG929LYJ\n",
      "NDARDH086ZKK\n",
      "NDARDK197BHM\n",
      "NDARDL305BT8\n",
      "NDARDL511UND\n",
      "NDARDM118LR6\n",
      "NDARDN393BJH\n",
      "NDARDN924BV2\n",
      "NDARDN996CPF\n",
      "NDARDP292DVC\n",
      "NDARDP725ZVY\n",
      "NDARDR067YMC\n",
      "NDARDR236FWH\n",
      "NDARDR439HY2\n",
      "NDARDR591AUC\n",
      "NDARDR595ZE5\n",
      "NDARDR804MFE\n",
      "NDARDT499DWP\n",
      "NDARDU566NUY\n",
      "NDARDU617ZW1\n",
      "NDARDU853XZ6\n",
      "NDARDV222JZ6\n",
      "NDARDV245WJG\n",
      "NDARDX770PJK\n",
      "NDARDX872VH6\n",
      "NDARDY741VEB\n",
      "NDARDY776AKH\n",
      "NDARDZ147ETZ\n",
      "NDARDZ266KET\n",
      "NDARDZ321FMY\n",
      "NDARDZ528DLZ\n",
      "NDAREB093GH6\n",
      "NDAREC078VFT\n",
      "NDAREC182WW2\n",
      "NDAREC277JCP\n",
      "NDAREC480KFA\n"
     ]
    }
   ],
   "source": [
    "results_nss_diary = calculate_metric(data_path, trials_data, videos_data, vid_name = 'Fractals', saliency_path='./../videos_sal/vinet/')"
   ]
  },
  {
   "cell_type": "code",
   "execution_count": 19,
   "id": "geological-instruction",
   "metadata": {},
   "outputs": [
    {
     "data": {
      "text/plain": [
       "140"
      ]
     },
     "execution_count": 19,
     "metadata": {},
     "output_type": "execute_result"
    }
   ],
   "source": [
    "len(results_nss_diary[1]['video_not_seen'])"
   ]
  },
  {
   "cell_type": "code",
   "execution_count": 20,
   "id": "useful-relief",
   "metadata": {},
   "outputs": [
    {
     "data": {
      "text/html": [
       "<div>\n",
       "<style scoped>\n",
       "    .dataframe tbody tr th:only-of-type {\n",
       "        vertical-align: middle;\n",
       "    }\n",
       "\n",
       "    .dataframe tbody tr th {\n",
       "        vertical-align: top;\n",
       "    }\n",
       "\n",
       "    .dataframe thead th {\n",
       "        text-align: right;\n",
       "    }\n",
       "</style>\n",
       "<table border=\"1\" class=\"dataframe\">\n",
       "  <thead>\n",
       "    <tr style=\"text-align: right;\">\n",
       "      <th></th>\n",
       "      <th>0</th>\n",
       "      <th>1</th>\n",
       "      <th>2</th>\n",
       "      <th>3</th>\n",
       "      <th>4</th>\n",
       "      <th>5</th>\n",
       "      <th>6</th>\n",
       "      <th>7</th>\n",
       "    </tr>\n",
       "  </thead>\n",
       "  <tbody>\n",
       "    <tr>\n",
       "      <th>0</th>\n",
       "      <td>NDARAB055BPR</td>\n",
       "      <td>Int64Index([   1,    3,    5,    7,    9,   11...</td>\n",
       "      <td>[-0.38542647295516763, -0.3957200964771436, 5....</td>\n",
       "      <td>2.830033</td>\n",
       "      <td>538</td>\n",
       "      <td>0</td>\n",
       "      <td>Fractals</td>\n",
       "      <td>./../data/ETFinalCutSampleEC07/ETFinalCutSampl...</td>\n",
       "    </tr>\n",
       "    <tr>\n",
       "      <th>1</th>\n",
       "      <td>NDARAB348EWR</td>\n",
       "      <td>Int64Index([   1,    3,    5,    7,    9,   11...</td>\n",
       "      <td>[-0.4177379349809336, -0.4083017949260995, -0....</td>\n",
       "      <td>1.146939</td>\n",
       "      <td>550</td>\n",
       "      <td>0</td>\n",
       "      <td>Fractals</td>\n",
       "      <td>./../data/ETFinalCutSampleEC07/ETFinalCutSampl...</td>\n",
       "    </tr>\n",
       "    <tr>\n",
       "      <th>2</th>\n",
       "      <td>NDARAB793GL3</td>\n",
       "      <td>Int64Index([   1,    3,    5,    7,    9,   11...</td>\n",
       "      <td>[5.243389030228941, 5.434201899179609, 4.63233...</td>\n",
       "      <td>2.040553</td>\n",
       "      <td>725</td>\n",
       "      <td>0</td>\n",
       "      <td>Fractals</td>\n",
       "      <td>./../data/ETFinalCutSampleEC07/ETFinalCutSampl...</td>\n",
       "    </tr>\n",
       "    <tr>\n",
       "      <th>3</th>\n",
       "      <td>NDARAC857HDB</td>\n",
       "      <td>Int64Index([  1,   3,   5,   7,   9,  11,  13,...</td>\n",
       "      <td>[3.785618607121861, 3.1063377194712745, 1.6036...</td>\n",
       "      <td>2.307955</td>\n",
       "      <td>391</td>\n",
       "      <td>0</td>\n",
       "      <td>Fractals</td>\n",
       "      <td>./../data/ETFinalCutSampleEC07/ETFinalCutSampl...</td>\n",
       "    </tr>\n",
       "    <tr>\n",
       "      <th>4</th>\n",
       "      <td>NDARAD224CRB</td>\n",
       "      <td>Int64Index([   1,    3,    5,    7,    8,   11...</td>\n",
       "      <td>[0.3022251704596166, 1.2886255047375095, 6.940...</td>\n",
       "      <td>2.917189</td>\n",
       "      <td>597</td>\n",
       "      <td>0</td>\n",
       "      <td>Fractals</td>\n",
       "      <td>./../data/ETFinalCutSampleEC07/ETFinalCutSampl...</td>\n",
       "    </tr>\n",
       "  </tbody>\n",
       "</table>\n",
       "</div>"
      ],
      "text/plain": [
       "              0                                                  1  \\\n",
       "0  NDARAB055BPR  Int64Index([   1,    3,    5,    7,    9,   11...   \n",
       "1  NDARAB348EWR  Int64Index([   1,    3,    5,    7,    9,   11...   \n",
       "2  NDARAB793GL3  Int64Index([   1,    3,    5,    7,    9,   11...   \n",
       "3  NDARAC857HDB  Int64Index([  1,   3,   5,   7,   9,  11,  13,...   \n",
       "4  NDARAD224CRB  Int64Index([   1,    3,    5,    7,    8,   11...   \n",
       "\n",
       "                                                   2         3    4  5  \\\n",
       "0  [-0.38542647295516763, -0.3957200964771436, 5....  2.830033  538  0   \n",
       "1  [-0.4177379349809336, -0.4083017949260995, -0....  1.146939  550  0   \n",
       "2  [5.243389030228941, 5.434201899179609, 4.63233...  2.040553  725  0   \n",
       "3  [3.785618607121861, 3.1063377194712745, 1.6036...  2.307955  391  0   \n",
       "4  [0.3022251704596166, 1.2886255047375095, 6.940...  2.917189  597  0   \n",
       "\n",
       "          6                                                  7  \n",
       "0  Fractals  ./../data/ETFinalCutSampleEC07/ETFinalCutSampl...  \n",
       "1  Fractals  ./../data/ETFinalCutSampleEC07/ETFinalCutSampl...  \n",
       "2  Fractals  ./../data/ETFinalCutSampleEC07/ETFinalCutSampl...  \n",
       "3  Fractals  ./../data/ETFinalCutSampleEC07/ETFinalCutSampl...  \n",
       "4  Fractals  ./../data/ETFinalCutSampleEC07/ETFinalCutSampl...  "
      ]
     },
     "execution_count": 20,
     "metadata": {},
     "output_type": "execute_result"
    }
   ],
   "source": [
    "pd.DataFrame(results_nss_diary[0]).head()"
   ]
  },
  {
   "cell_type": "code",
   "execution_count": 21,
   "id": "sought-flavor",
   "metadata": {},
   "outputs": [
    {
     "data": {
      "text/plain": [
       "(83108, 10)"
      ]
     },
     "execution_count": 21,
     "metadata": {},
     "output_type": "execute_result"
    }
   ],
   "source": [
    "df_nss_diary_aux = pd.DataFrame(results_nss_diary[0])\n",
    "df_nss_diary_aux.columns = ['ID', 'FIX_idx', 'NSS','NSS_MEAN', 'FIX_IN_VID', 'FLAG', 'VIDEO_NAME', 'ET_FILE']\n",
    "df_nss_diary_exploded = explode(df_nss_diary_aux, ['FIX_idx','NSS'])\n",
    "df_wk_final = add_frame_idx(df_nss_diary_exploded.reset_index(), vid_name = 'Fractals', data_path='./', trials_data=trials_data, videos_data=videos_data)\n",
    "df_wk_final.shape"
   ]
  },
  {
   "cell_type": "code",
   "execution_count": 22,
   "id": "b80746ef",
   "metadata": {},
   "outputs": [
    {
     "data": {
      "text/html": [
       "<div>\n",
       "<style scoped>\n",
       "    .dataframe tbody tr th:only-of-type {\n",
       "        vertical-align: middle;\n",
       "    }\n",
       "\n",
       "    .dataframe tbody tr th {\n",
       "        vertical-align: top;\n",
       "    }\n",
       "\n",
       "    .dataframe thead th {\n",
       "        text-align: right;\n",
       "    }\n",
       "</style>\n",
       "<table border=\"1\" class=\"dataframe\">\n",
       "  <thead>\n",
       "    <tr style=\"text-align: right;\">\n",
       "      <th></th>\n",
       "      <th>index</th>\n",
       "      <th>ID</th>\n",
       "      <th>FIX_idx</th>\n",
       "      <th>NSS</th>\n",
       "      <th>NSS_MEAN</th>\n",
       "      <th>FIX_IN_VID</th>\n",
       "      <th>FLAG</th>\n",
       "      <th>VIDEO_NAME</th>\n",
       "      <th>ET_FILE</th>\n",
       "      <th>FRAME_idx</th>\n",
       "    </tr>\n",
       "  </thead>\n",
       "  <tbody>\n",
       "    <tr>\n",
       "      <th>0</th>\n",
       "      <td>0</td>\n",
       "      <td>NDARAB055BPR</td>\n",
       "      <td>1</td>\n",
       "      <td>-0.385426</td>\n",
       "      <td>2.830033</td>\n",
       "      <td>538</td>\n",
       "      <td>0</td>\n",
       "      <td>Fractals</td>\n",
       "      <td>./../data/ETFinalCutSampleEC07/ETFinalCutSampl...</td>\n",
       "      <td>5</td>\n",
       "    </tr>\n",
       "    <tr>\n",
       "      <th>1</th>\n",
       "      <td>1</td>\n",
       "      <td>NDARAB055BPR</td>\n",
       "      <td>3</td>\n",
       "      <td>-0.395720</td>\n",
       "      <td>2.830033</td>\n",
       "      <td>538</td>\n",
       "      <td>0</td>\n",
       "      <td>Fractals</td>\n",
       "      <td>./../data/ETFinalCutSampleEC07/ETFinalCutSampl...</td>\n",
       "      <td>12</td>\n",
       "    </tr>\n",
       "    <tr>\n",
       "      <th>2</th>\n",
       "      <td>2</td>\n",
       "      <td>NDARAB055BPR</td>\n",
       "      <td>5</td>\n",
       "      <td>5.679343</td>\n",
       "      <td>2.830033</td>\n",
       "      <td>538</td>\n",
       "      <td>0</td>\n",
       "      <td>Fractals</td>\n",
       "      <td>./../data/ETFinalCutSampleEC07/ETFinalCutSampl...</td>\n",
       "      <td>17</td>\n",
       "    </tr>\n",
       "    <tr>\n",
       "      <th>3</th>\n",
       "      <td>3</td>\n",
       "      <td>NDARAB055BPR</td>\n",
       "      <td>7</td>\n",
       "      <td>4.140309</td>\n",
       "      <td>2.830033</td>\n",
       "      <td>538</td>\n",
       "      <td>0</td>\n",
       "      <td>Fractals</td>\n",
       "      <td>./../data/ETFinalCutSampleEC07/ETFinalCutSampl...</td>\n",
       "      <td>22</td>\n",
       "    </tr>\n",
       "    <tr>\n",
       "      <th>4</th>\n",
       "      <td>4</td>\n",
       "      <td>NDARAB055BPR</td>\n",
       "      <td>9</td>\n",
       "      <td>2.893168</td>\n",
       "      <td>2.830033</td>\n",
       "      <td>538</td>\n",
       "      <td>0</td>\n",
       "      <td>Fractals</td>\n",
       "      <td>./../data/ETFinalCutSampleEC07/ETFinalCutSampl...</td>\n",
       "      <td>24</td>\n",
       "    </tr>\n",
       "  </tbody>\n",
       "</table>\n",
       "</div>"
      ],
      "text/plain": [
       "   index            ID  FIX_idx       NSS  NSS_MEAN  FIX_IN_VID  FLAG  \\\n",
       "0      0  NDARAB055BPR        1 -0.385426  2.830033         538     0   \n",
       "1      1  NDARAB055BPR        3 -0.395720  2.830033         538     0   \n",
       "2      2  NDARAB055BPR        5  5.679343  2.830033         538     0   \n",
       "3      3  NDARAB055BPR        7  4.140309  2.830033         538     0   \n",
       "4      4  NDARAB055BPR        9  2.893168  2.830033         538     0   \n",
       "\n",
       "  VIDEO_NAME                                            ET_FILE  FRAME_idx  \n",
       "0   Fractals  ./../data/ETFinalCutSampleEC07/ETFinalCutSampl...          5  \n",
       "1   Fractals  ./../data/ETFinalCutSampleEC07/ETFinalCutSampl...         12  \n",
       "2   Fractals  ./../data/ETFinalCutSampleEC07/ETFinalCutSampl...         17  \n",
       "3   Fractals  ./../data/ETFinalCutSampleEC07/ETFinalCutSampl...         22  \n",
       "4   Fractals  ./../data/ETFinalCutSampleEC07/ETFinalCutSampl...         24  "
      ]
     },
     "execution_count": 22,
     "metadata": {},
     "output_type": "execute_result"
    }
   ],
   "source": [
    "df_wk_final.head()"
   ]
  },
  {
   "cell_type": "code",
   "execution_count": 23,
   "id": "biological-determination",
   "metadata": {},
   "outputs": [],
   "source": [
    "results_path = './../results/revised/'\n",
    "df_wk_final.drop(columns=['index', 'FLAG']).to_csv(os.path.join(results_path, 'FF', 'results_nss_ff_vn_1.csv'), index=False)\n"
   ]
  },
  {
   "cell_type": "code",
   "execution_count": 24,
   "id": "0114a815",
   "metadata": {},
   "outputs": [],
   "source": [
    "results_path = './../results/revised/'\n",
    "df_wk_final.drop(columns=['index', 'FLAG']).to_csv(os.path.join(results_path, 'FF', 'results_nss_ff_vn_1.csv'), index=False)\n",
    "\n",
    "import json\n",
    "\n",
    "with open(os.path.join(results_path, 'FF', 'dump_nss_ff_vn_1.json'), 'w') as jf:\n",
    "    json.dump(results_nss_diary[1], jf)"
   ]
  },
  {
   "cell_type": "code",
   "execution_count": 52,
   "id": "6bde6d06",
   "metadata": {},
   "outputs": [
    {
     "data": {
      "text/plain": [
       "<AxesSubplot:>"
      ]
     },
     "execution_count": 52,
     "metadata": {},
     "output_type": "execute_result"
    },
    {
     "data": {
      "image/png": "[encoded data removed]",
      "text/plain": [
       "<Figure size 432x288 with 1 Axes>"
      ]
     },
     "metadata": {
      "needs_background": "light"
     },
     "output_type": "display_data"
    }
   ],
   "source": [
    "df_wk_final.drop_duplicates('ID').NSS_MEAN.hist()"
   ]
  },
  {
   "cell_type": "markdown",
   "id": "descending-wholesale",
   "metadata": {},
   "source": [
    "Using other window"
   ]
  },
  {
   "cell_type": "code",
   "execution_count": null,
   "id": "expired-nursery",
   "metadata": {},
   "outputs": [],
   "source": []
  },
  {
   "cell_type": "code",
   "execution_count": null,
   "id": "parallel-label",
   "metadata": {},
   "outputs": [],
   "source": []
  },
  {
   "cell_type": "markdown",
   "id": "optimum-twelve",
   "metadata": {},
   "source": [
    "### Present"
   ]
  },
  {
   "cell_type": "code",
   "execution_count": 15,
   "id": "framed-communication",
   "metadata": {},
   "outputs": [
    {
     "data": {
      "application/vnd.jupyter.widget-view+json": {
       "model_id": "9c6f53fe09c74298bcbfc10b70fb1a82",
       "version_major": 2,
       "version_minor": 0
      },
      "text/plain": [
       "  0%|          | 0/994 [00:00<?, ?it/s]"
      ]
     },
     "metadata": {},
     "output_type": "display_data"
    }
   ],
   "source": [
    "results_nss_present = calculate_metric(data_path, trials_data, videos_data, vid_name = 'Present', saliency_path='./../videos_sal/deepgaze/')"
   ]
  },
  {
   "cell_type": "code",
   "execution_count": 16,
   "id": "secure-giving",
   "metadata": {},
   "outputs": [
    {
     "data": {
      "text/plain": [
       "1.3559091137840023"
      ]
     },
     "execution_count": 16,
     "metadata": {},
     "output_type": "execute_result"
    }
   ],
   "source": [
    "pd.DataFrame(results_nss_present[0])[3].mean()"
   ]
  },
  {
   "cell_type": "code",
   "execution_count": 17,
   "id": "played-confusion",
   "metadata": {},
   "outputs": [
    {
     "data": {
      "text/plain": [
       "753"
      ]
     },
     "execution_count": 17,
     "metadata": {},
     "output_type": "execute_result"
    }
   ],
   "source": [
    "len(results_nss_present[1]['video_not_seen'])"
   ]
  },
  {
   "cell_type": "code",
   "execution_count": 18,
   "id": "bibliographic-tobago",
   "metadata": {},
   "outputs": [
    {
     "data": {
      "text/plain": [
       "(237, 8)"
      ]
     },
     "execution_count": 18,
     "metadata": {},
     "output_type": "execute_result"
    }
   ],
   "source": [
    "pd.DataFrame(results_nss_present[0]).shape"
   ]
  },
  {
   "cell_type": "code",
   "execution_count": 31,
   "id": "alive-basic",
   "metadata": {},
   "outputs": [
    {
     "data": {
      "text/plain": [
       "(154614, 10)"
      ]
     },
     "execution_count": 31,
     "metadata": {},
     "output_type": "execute_result"
    }
   ],
   "source": [
    "df_nss_present = pd.DataFrame(results_nss_present[0])\n",
    "df_nss_present.columns = ['ID', 'FIX_idx', 'NSS','NSS_MEAN', 'FIX_IN_VID', 'FLAG', 'VIDEO_NAME', 'ET_FILE']\n",
    "df_nss_present_exploded = explode(df_nss_present, ['FIX_idx','NSS'])\n",
    "df_tp_final = add_frame_idx(df_nss_present_exploded.reset_index(), vid_name = 'Present', data_path='./', trials_data=trials_data, videos_data=videos_data)\n",
    "df_tp_final.shape"
   ]
  },
  {
   "cell_type": "code",
   "execution_count": 42,
   "id": "european-letters",
   "metadata": {},
   "outputs": [
    {
     "data": {
      "text/html": [
       "<div>\n",
       "<style scoped>\n",
       "    .dataframe tbody tr th:only-of-type {\n",
       "        vertical-align: middle;\n",
       "    }\n",
       "\n",
       "    .dataframe tbody tr th {\n",
       "        vertical-align: top;\n",
       "    }\n",
       "\n",
       "    .dataframe thead th {\n",
       "        text-align: right;\n",
       "    }\n",
       "</style>\n",
       "<table border=\"1\" class=\"dataframe\">\n",
       "  <thead>\n",
       "    <tr style=\"text-align: right;\">\n",
       "      <th></th>\n",
       "      <th>ID</th>\n",
       "      <th>FIX_idx</th>\n",
       "      <th>NSS</th>\n",
       "      <th>NSS_MEAN</th>\n",
       "      <th>FIX_IN_VID</th>\n",
       "      <th>FLAG</th>\n",
       "      <th>VIDEO_NAME</th>\n",
       "      <th>ET_FILE</th>\n",
       "      <th>FRAME_idx</th>\n",
       "    </tr>\n",
       "  </thead>\n",
       "  <tbody>\n",
       "    <tr>\n",
       "      <th>0</th>\n",
       "      <td>NDARVB819ENX</td>\n",
       "      <td>1</td>\n",
       "      <td>-0.955203</td>\n",
       "      <td>1.8578</td>\n",
       "      <td>527</td>\n",
       "      <td>0</td>\n",
       "      <td>Present</td>\n",
       "      <td>./../data/ETFinalCutSampleEC07/ETFinalCutSampl...</td>\n",
       "      <td>2</td>\n",
       "    </tr>\n",
       "    <tr>\n",
       "      <th>1</th>\n",
       "      <td>NDARVB819ENX</td>\n",
       "      <td>4</td>\n",
       "      <td>-0.018449</td>\n",
       "      <td>1.8578</td>\n",
       "      <td>527</td>\n",
       "      <td>0</td>\n",
       "      <td>Present</td>\n",
       "      <td>./../data/ETFinalCutSampleEC07/ETFinalCutSampl...</td>\n",
       "      <td>11</td>\n",
       "    </tr>\n",
       "    <tr>\n",
       "      <th>2</th>\n",
       "      <td>NDARVB819ENX</td>\n",
       "      <td>6</td>\n",
       "      <td>-0.354813</td>\n",
       "      <td>1.8578</td>\n",
       "      <td>527</td>\n",
       "      <td>0</td>\n",
       "      <td>Present</td>\n",
       "      <td>./../data/ETFinalCutSampleEC07/ETFinalCutSampl...</td>\n",
       "      <td>14</td>\n",
       "    </tr>\n",
       "    <tr>\n",
       "      <th>3</th>\n",
       "      <td>NDARVB819ENX</td>\n",
       "      <td>8</td>\n",
       "      <td>-0.342154</td>\n",
       "      <td>1.8578</td>\n",
       "      <td>527</td>\n",
       "      <td>0</td>\n",
       "      <td>Present</td>\n",
       "      <td>./../data/ETFinalCutSampleEC07/ETFinalCutSampl...</td>\n",
       "      <td>17</td>\n",
       "    </tr>\n",
       "    <tr>\n",
       "      <th>4</th>\n",
       "      <td>NDARVB819ENX</td>\n",
       "      <td>10</td>\n",
       "      <td>6.080756</td>\n",
       "      <td>1.8578</td>\n",
       "      <td>527</td>\n",
       "      <td>0</td>\n",
       "      <td>Present</td>\n",
       "      <td>./../data/ETFinalCutSampleEC07/ETFinalCutSampl...</td>\n",
       "      <td>22</td>\n",
       "    </tr>\n",
       "  </tbody>\n",
       "</table>\n",
       "</div>"
      ],
      "text/plain": [
       "             ID  FIX_idx       NSS  NSS_MEAN  FIX_IN_VID  FLAG VIDEO_NAME  \\\n",
       "0  NDARVB819ENX        1 -0.955203    1.8578         527     0    Present   \n",
       "1  NDARVB819ENX        4 -0.018449    1.8578         527     0    Present   \n",
       "2  NDARVB819ENX        6 -0.354813    1.8578         527     0    Present   \n",
       "3  NDARVB819ENX        8 -0.342154    1.8578         527     0    Present   \n",
       "4  NDARVB819ENX       10  6.080756    1.8578         527     0    Present   \n",
       "\n",
       "                                             ET_FILE  FRAME_idx  \n",
       "0  ./../data/ETFinalCutSampleEC07/ETFinalCutSampl...          2  \n",
       "1  ./../data/ETFinalCutSampleEC07/ETFinalCutSampl...         11  \n",
       "2  ./../data/ETFinalCutSampleEC07/ETFinalCutSampl...         14  \n",
       "3  ./../data/ETFinalCutSampleEC07/ETFinalCutSampl...         17  \n",
       "4  ./../data/ETFinalCutSampleEC07/ETFinalCutSampl...         22  "
      ]
     },
     "execution_count": 42,
     "metadata": {},
     "output_type": "execute_result"
    }
   ],
   "source": [
    "df_tp_final.drop(columns=['index']).head()"
   ]
  },
  {
   "cell_type": "code",
   "execution_count": 48,
   "id": "surgical-philippines",
   "metadata": {},
   "outputs": [],
   "source": [
    "df_tp_final.drop(columns=['index']).to_csv(os.path.join(results_path, 'TP', 'results_nss_tp_dg.csv'), index=False)"
   ]
  },
  {
   "cell_type": "code",
   "execution_count": null,
   "id": "variable-trinity",
   "metadata": {},
   "outputs": [],
   "source": []
  },
  {
   "cell_type": "markdown",
   "id": "affecting-banner",
   "metadata": {},
   "source": [
    "### Fractals"
   ]
  },
  {
   "cell_type": "code",
   "execution_count": 19,
   "id": "macro-nature",
   "metadata": {},
   "outputs": [
    {
     "data": {
      "application/vnd.jupyter.widget-view+json": {
       "model_id": "1050b27605a64443a21c4f782e8fed62",
       "version_major": 2,
       "version_minor": 0
      },
      "text/plain": [
       "  0%|          | 0/994 [00:00<?, ?it/s]"
      ]
     },
     "metadata": {},
     "output_type": "display_data"
    }
   ],
   "source": [
    "results_nss_fractals = calculate_metric(data_path, trials_data, videos_data, vid_name = 'Fractals', saliency_path='./../videos_sal/deepgaze/')"
   ]
  },
  {
   "cell_type": "code",
   "execution_count": 20,
   "id": "norwegian-static",
   "metadata": {},
   "outputs": [
    {
     "data": {
      "text/plain": [
       "1.2365694818860393"
      ]
     },
     "execution_count": 20,
     "metadata": {},
     "output_type": "execute_result"
    }
   ],
   "source": [
    "pd.DataFrame(results_nss_fractals[0])[3].mean()"
   ]
  },
  {
   "cell_type": "code",
   "execution_count": 21,
   "id": "vital-celtic",
   "metadata": {},
   "outputs": [
    {
     "data": {
      "text/plain": [
       "813"
      ]
     },
     "execution_count": 21,
     "metadata": {},
     "output_type": "execute_result"
    }
   ],
   "source": [
    "len(results_nss_fractals[1]['video_not_seen'])"
   ]
  },
  {
   "cell_type": "code",
   "execution_count": 33,
   "id": "saved-thinking",
   "metadata": {},
   "outputs": [
    {
     "data": {
      "text/plain": [
       "(88877, 10)"
      ]
     },
     "execution_count": 33,
     "metadata": {},
     "output_type": "execute_result"
    }
   ],
   "source": [
    "df_nss_fractals = pd.DataFrame(results_nss_fractals[0])\n",
    "df_nss_fractals.columns = ['ID', 'FIX_idx', 'NSS','NSS_MEAN', 'FIX_IN_VID', 'FLAG', 'VIDEO_NAME', 'ET_FILE']\n",
    "df_nss_fractals_exploded = explode(df_nss_fractals, ['FIX_idx','NSS'])\n",
    "df_ff_final = add_frame_idx(df_nss_fractals_exploded.reset_index(), vid_name = 'Fractals', data_path='./', trials_data=trials_data, videos_data=videos_data)\n",
    "df_ff_final.shape"
   ]
  },
  {
   "cell_type": "code",
   "execution_count": 49,
   "id": "foreign-alignment",
   "metadata": {},
   "outputs": [],
   "source": [
    "df_ff_final.drop(columns=['index']).to_csv(os.path.join(results_path, 'FF', 'results_nss_ff_dg.csv'), index=False)"
   ]
  },
  {
   "cell_type": "code",
   "execution_count": null,
   "id": "loving-manual",
   "metadata": {},
   "outputs": [],
   "source": []
  },
  {
   "cell_type": "markdown",
   "id": "narrative-shelter",
   "metadata": {},
   "source": [
    "### Checking ids"
   ]
  },
  {
   "cell_type": "code",
   "execution_count": 36,
   "id": "empty-harvard",
   "metadata": {},
   "outputs": [],
   "source": [
    "def dummy_check_data_path(data_path):\n",
    "\n",
    "    file_count = dict()\n",
    "    file_ids   = dict()\n",
    "    file_out   = dict()\n",
    "    for vid in ['WK', 'TP', 'FF']:\n",
    "        err = []\n",
    "        ids = []\n",
    "        for fold in os.listdir(data_path):\n",
    "            try:\n",
    "                csv_files    = os.listdir(data_path+fold)\n",
    "            except NotADirectoryError:\n",
    "                continue\n",
    "\n",
    "            csv_vid_file = [f for f in csv_files if vid in f]\n",
    "            if len(csv_vid_file)==0:\n",
    "                err.append(fold)\n",
    "            else:\n",
    "                ids.append(fold)\n",
    "                \n",
    "\n",
    "        file_ids[vid]   = ids\n",
    "        file_out[vid]   = err\n",
    "        file_count[vid] = len(err)\n",
    "        \n",
    "    return file_ids, file_out, file_count"
   ]
  },
  {
   "cell_type": "code",
   "execution_count": 38,
   "id": "indie-egyptian",
   "metadata": {},
   "outputs": [],
   "source": [
    "tmp = dummy_check_data_path(data_path)"
   ]
  },
  {
   "cell_type": "code",
   "execution_count": 39,
   "id": "oriental-water",
   "metadata": {},
   "outputs": [],
   "source": [
    "alternative_data_path = './../data/ETFinalCutSample/'\n",
    "tmp2 = dummy_check_data_path(alternative_data_path)"
   ]
  },
  {
   "cell_type": "markdown",
   "id": "magnetic-grace",
   "metadata": {},
   "source": [
    "### Check exclusion criteria"
   ]
  },
  {
   "cell_type": "code",
   "execution_count": 9,
   "id": "defined-transaction",
   "metadata": {},
   "outputs": [],
   "source": [
    "df_checks = pd.read_csv('./../data/QualityControlSummary.csv').set_index('ID')"
   ]
  },
  {
   "cell_type": "code",
   "execution_count": null,
   "id": "arbitrary-length",
   "metadata": {},
   "outputs": [],
   "source": []
  },
  {
   "cell_type": "markdown",
   "id": "utility-dancing",
   "metadata": {},
   "source": [
    "## NSS ViNet"
   ]
  },
  {
   "cell_type": "code",
   "execution_count": 7,
   "id": "mounted-neutral",
   "metadata": {},
   "outputs": [],
   "source": [
    "def create_saliency_matrix(video, videos_data, vinet_path ='../videos_sal/vinet'):\n",
    "    folder = videos_data.loc[video].Video[:-4]\n",
    "    maps = []\n",
    "    for img in sorted(os.listdir(os.path.join(vinet_path, folder))):\n",
    "        maps.append(cv2.imread(os.path.join(vinet_path, folder, img), cv2.IMREAD_GRAYSCALE))\n",
    "    return np.stack(maps, axis=2)"
   ]
  },
  {
   "cell_type": "markdown",
   "id": "greek-pottery",
   "metadata": {},
   "source": [
    "### Diary"
   ]
  },
  {
   "cell_type": "code",
   "execution_count": 8,
   "id": "expensive-terminal",
   "metadata": {},
   "outputs": [
    {
     "ename": "ValueError",
     "evalue": "all input arrays must have the same shape",
     "output_type": "error",
     "traceback": [
      "\u001b[0;31m---------------------------------------------------------------------------\u001b[0m",
      "\u001b[0;31mValueError\u001b[0m                                Traceback (most recent call last)",
      "\u001b[0;32m<ipython-input-8-0c809e5bc864>\u001b[0m in \u001b[0;36m<module>\u001b[0;34m\u001b[0m\n\u001b[0;32m----> 1\u001b[0;31m \u001b[0msaliency_diary\u001b[0m \u001b[0;34m=\u001b[0m \u001b[0mcreate_saliency_matrix\u001b[0m\u001b[0;34m(\u001b[0m\u001b[0;34m'Diary'\u001b[0m\u001b[0;34m,\u001b[0m \u001b[0mvideos_data\u001b[0m\u001b[0;34m)\u001b[0m\u001b[0;34m\u001b[0m\u001b[0;34m\u001b[0m\u001b[0m\n\u001b[0m",
      "\u001b[0;32m<ipython-input-7-e84556fc7e2a>\u001b[0m in \u001b[0;36mcreate_saliency_matrix\u001b[0;34m(video, videos_data, vinet_path)\u001b[0m\n\u001b[1;32m      4\u001b[0m     \u001b[0;32mfor\u001b[0m \u001b[0mimg\u001b[0m \u001b[0;32min\u001b[0m \u001b[0msorted\u001b[0m\u001b[0;34m(\u001b[0m\u001b[0mos\u001b[0m\u001b[0;34m.\u001b[0m\u001b[0mlistdir\u001b[0m\u001b[0;34m(\u001b[0m\u001b[0mos\u001b[0m\u001b[0;34m.\u001b[0m\u001b[0mpath\u001b[0m\u001b[0;34m.\u001b[0m\u001b[0mjoin\u001b[0m\u001b[0;34m(\u001b[0m\u001b[0mvinet_path\u001b[0m\u001b[0;34m,\u001b[0m \u001b[0mfolder\u001b[0m\u001b[0;34m)\u001b[0m\u001b[0;34m)\u001b[0m\u001b[0;34m)\u001b[0m\u001b[0;34m:\u001b[0m\u001b[0;34m\u001b[0m\u001b[0;34m\u001b[0m\u001b[0m\n\u001b[1;32m      5\u001b[0m         \u001b[0mmaps\u001b[0m\u001b[0;34m.\u001b[0m\u001b[0mappend\u001b[0m\u001b[0;34m(\u001b[0m\u001b[0mcv2\u001b[0m\u001b[0;34m.\u001b[0m\u001b[0mimread\u001b[0m\u001b[0;34m(\u001b[0m\u001b[0mos\u001b[0m\u001b[0;34m.\u001b[0m\u001b[0mpath\u001b[0m\u001b[0;34m.\u001b[0m\u001b[0mjoin\u001b[0m\u001b[0;34m(\u001b[0m\u001b[0mvinet_path\u001b[0m\u001b[0;34m,\u001b[0m \u001b[0mfolder\u001b[0m\u001b[0;34m,\u001b[0m \u001b[0mimg\u001b[0m\u001b[0;34m)\u001b[0m\u001b[0;34m,\u001b[0m \u001b[0mcv2\u001b[0m\u001b[0;34m.\u001b[0m\u001b[0mIMREAD_GRAYSCALE\u001b[0m\u001b[0;34m)\u001b[0m\u001b[0;34m)\u001b[0m\u001b[0;34m\u001b[0m\u001b[0;34m\u001b[0m\u001b[0m\n\u001b[0;32m----> 6\u001b[0;31m     \u001b[0;32mreturn\u001b[0m \u001b[0mnp\u001b[0m\u001b[0;34m.\u001b[0m\u001b[0mstack\u001b[0m\u001b[0;34m(\u001b[0m\u001b[0mmaps\u001b[0m\u001b[0;34m,\u001b[0m \u001b[0maxis\u001b[0m\u001b[0;34m=\u001b[0m\u001b[0;36m2\u001b[0m\u001b[0;34m)\u001b[0m\u001b[0;34m\u001b[0m\u001b[0;34m\u001b[0m\u001b[0m\n\u001b[0m",
      "\u001b[0;32m<__array_function__ internals>\u001b[0m in \u001b[0;36mstack\u001b[0;34m(*args, **kwargs)\u001b[0m\n",
      "\u001b[0;32m~/anaconda3/envs/langer/lib/python3.7/site-packages/numpy/core/shape_base.py\u001b[0m in \u001b[0;36mstack\u001b[0;34m(arrays, axis, out)\u001b[0m\n\u001b[1;32m    425\u001b[0m     \u001b[0mshapes\u001b[0m \u001b[0;34m=\u001b[0m \u001b[0;34m{\u001b[0m\u001b[0marr\u001b[0m\u001b[0;34m.\u001b[0m\u001b[0mshape\u001b[0m \u001b[0;32mfor\u001b[0m \u001b[0marr\u001b[0m \u001b[0;32min\u001b[0m \u001b[0marrays\u001b[0m\u001b[0;34m}\u001b[0m\u001b[0;34m\u001b[0m\u001b[0;34m\u001b[0m\u001b[0m\n\u001b[1;32m    426\u001b[0m     \u001b[0;32mif\u001b[0m \u001b[0mlen\u001b[0m\u001b[0;34m(\u001b[0m\u001b[0mshapes\u001b[0m\u001b[0;34m)\u001b[0m \u001b[0;34m!=\u001b[0m \u001b[0;36m1\u001b[0m\u001b[0;34m:\u001b[0m\u001b[0;34m\u001b[0m\u001b[0;34m\u001b[0m\u001b[0m\n\u001b[0;32m--> 427\u001b[0;31m         \u001b[0;32mraise\u001b[0m \u001b[0mValueError\u001b[0m\u001b[0;34m(\u001b[0m\u001b[0;34m'all input arrays must have the same shape'\u001b[0m\u001b[0;34m)\u001b[0m\u001b[0;34m\u001b[0m\u001b[0;34m\u001b[0m\u001b[0m\n\u001b[0m\u001b[1;32m    428\u001b[0m \u001b[0;34m\u001b[0m\u001b[0m\n\u001b[1;32m    429\u001b[0m     \u001b[0mresult_ndim\u001b[0m \u001b[0;34m=\u001b[0m \u001b[0marrays\u001b[0m\u001b[0;34m[\u001b[0m\u001b[0;36m0\u001b[0m\u001b[0;34m]\u001b[0m\u001b[0;34m.\u001b[0m\u001b[0mndim\u001b[0m \u001b[0;34m+\u001b[0m \u001b[0;36m1\u001b[0m\u001b[0;34m\u001b[0m\u001b[0;34m\u001b[0m\u001b[0m\n",
      "\u001b[0;31mValueError\u001b[0m: all input arrays must have the same shape"
     ]
    }
   ],
   "source": [
    "saliency_diary = create_saliency_matrix('Diary', videos_data)"
   ]
  },
  {
   "cell_type": "code",
   "execution_count": 71,
   "id": "unknown-characterization",
   "metadata": {},
   "outputs": [
    {
     "data": {
      "application/vnd.jupyter.widget-view+json": {
       "model_id": "e47dacd8e3874e3889f170808d8ae6c5",
       "version_major": 2,
       "version_minor": 0
      },
      "text/plain": [
       "  0%|          | 0/764 [00:00<?, ?it/s]"
      ]
     },
     "metadata": {},
     "output_type": "display_data"
    }
   ],
   "source": [
    "# prueba\n",
    "results_nss_diary = calculate_metric(data_path, trials_data, videos_data, vid_name = 'Diary', saliency = saliency_diary)"
   ]
  },
  {
   "cell_type": "code",
   "execution_count": 89,
   "id": "martial-century",
   "metadata": {},
   "outputs": [
    {
     "data": {
      "text/plain": [
       "(325877, 8)"
      ]
     },
     "execution_count": 89,
     "metadata": {},
     "output_type": "execute_result"
    }
   ],
   "source": [
    "df_nss_diary = pd.DataFrame(results_nss_diary[0])\n",
    "df_nss_diary.columns = ['ID', 'FIX_idx', 'NSS','NSS_MEAN', 'FIX_IN_VID', 'FLAG', 'VIDEO_NAME', 'ET_FILE']\n",
    "df_nss_diary_exploded = explode(df_nss_diary, ['FIX_idx','NSS'])\n",
    "df_nss_diary_exploded.shape"
   ]
  },
  {
   "cell_type": "code",
   "execution_count": null,
   "id": "infrared-malawi",
   "metadata": {},
   "outputs": [],
   "source": []
  },
  {
   "cell_type": "markdown",
   "id": "changed-receptor",
   "metadata": {},
   "source": [
    "### Present"
   ]
  },
  {
   "cell_type": "code",
   "execution_count": 13,
   "id": "changing-marriage",
   "metadata": {},
   "outputs": [],
   "source": [
    "saliency_present = create_saliency_matrix('Present', videos_data)"
   ]
  },
  {
   "cell_type": "code",
   "execution_count": 73,
   "id": "temporal-headquarters",
   "metadata": {},
   "outputs": [
    {
     "data": {
      "application/vnd.jupyter.widget-view+json": {
       "model_id": "d28128fdfb474c7c8b47e8bc783fb508",
       "version_major": 2,
       "version_minor": 0
      },
      "text/plain": [
       "  0%|          | 0/764 [00:00<?, ?it/s]"
      ]
     },
     "metadata": {},
     "output_type": "display_data"
    }
   ],
   "source": [
    "results_nss_present = calculate_metric(data_path, trials_data, videos_data, vid_name = 'Present', saliency = saliency_present)"
   ]
  },
  {
   "cell_type": "code",
   "execution_count": 90,
   "id": "fatal-limit",
   "metadata": {},
   "outputs": [
    {
     "data": {
      "text/plain": [
       "(527907, 8)"
      ]
     },
     "execution_count": 90,
     "metadata": {},
     "output_type": "execute_result"
    }
   ],
   "source": [
    "df_nss_present = pd.DataFrame(results_nss_present[0])\n",
    "df_nss_present.columns = ['ID','FIX_idx', 'NSS', 'NSS_MEAN', 'FIX_IN_VID', 'FLAG', 'VIDEO_NAME', 'ET_FILE']\n",
    "df_nss_present_exploded = explode(df_nss_present, ['FIX_idx','NSS'])\n",
    "df_nss_present_exploded.shape"
   ]
  },
  {
   "cell_type": "code",
   "execution_count": null,
   "id": "champion-swedish",
   "metadata": {},
   "outputs": [],
   "source": []
  },
  {
   "cell_type": "markdown",
   "id": "thrown-hypothetical",
   "metadata": {},
   "source": [
    "### Fractals"
   ]
  },
  {
   "cell_type": "code",
   "execution_count": 15,
   "id": "athletic-impact",
   "metadata": {},
   "outputs": [],
   "source": [
    "saliency_fractals = create_saliency_matrix('Fractals', videos_data)"
   ]
  },
  {
   "cell_type": "code",
   "execution_count": 75,
   "id": "painted-frontier",
   "metadata": {},
   "outputs": [
    {
     "data": {
      "application/vnd.jupyter.widget-view+json": {
       "model_id": "b181bdeb39ef497e9ee0d503dac7dec5",
       "version_major": 2,
       "version_minor": 0
      },
      "text/plain": [
       "  0%|          | 0/764 [00:00<?, ?it/s]"
      ]
     },
     "metadata": {},
     "output_type": "display_data"
    }
   ],
   "source": [
    "results_nss_fractals = calculate_metric(data_path, trials_data, videos_data, vid_name = 'Fractals', saliency = saliency_fractals)"
   ]
  },
  {
   "cell_type": "code",
   "execution_count": 85,
   "id": "loose-conspiracy",
   "metadata": {},
   "outputs": [
    {
     "data": {
      "text/plain": [
       "(416045, 8)"
      ]
     },
     "execution_count": 85,
     "metadata": {},
     "output_type": "execute_result"
    }
   ],
   "source": [
    "df_nss_fractals = pd.DataFrame(results_nss_fractals[0])\n",
    "df_nss_fractals.columns = ['ID', 'FIX_idx', 'NSS', 'NSS_MEAN', 'FIX_IN_VID', 'FLAG', 'VIDEO_NAME', 'ET_FILE']\n",
    "df_nss_fractals_exploded = explode(df_nss_fractals, ['FIX_idx','NSS'])\n",
    "df_nss_fractals_exploded.shape"
   ]
  },
  {
   "cell_type": "markdown",
   "id": "facial-steering",
   "metadata": {},
   "source": [
    "### Adding frames"
   ]
  },
  {
   "cell_type": "code",
   "execution_count": 113,
   "id": "general-astronomy",
   "metadata": {},
   "outputs": [],
   "source": [
    "df_tp_final = add_frame_idx(df_nss_present_exploded.reset_index(), vid_name = 'Present', data_path='./', trials_data=trials_data, videos_data=videos_data)\n",
    "df_ff_final = add_frame_idx(df_nss_fractals_exploded.reset_index(), vid_name = 'Fractals', data_path='./', trials_data=trials_data, videos_data=videos_data)\n",
    "df_wk_final = add_frame_idx(df_nss_diary_exploded.reset_index(), vid_name = 'Diary', data_path='./', trials_data=trials_data, videos_data=videos_data)"
   ]
  },
  {
   "cell_type": "code",
   "execution_count": 114,
   "id": "structural-meditation",
   "metadata": {},
   "outputs": [
    {
     "data": {
      "text/html": [
       "<div>\n",
       "<style scoped>\n",
       "    .dataframe tbody tr th:only-of-type {\n",
       "        vertical-align: middle;\n",
       "    }\n",
       "\n",
       "    .dataframe tbody tr th {\n",
       "        vertical-align: top;\n",
       "    }\n",
       "\n",
       "    .dataframe thead th {\n",
       "        text-align: right;\n",
       "    }\n",
       "</style>\n",
       "<table border=\"1\" class=\"dataframe\">\n",
       "  <thead>\n",
       "    <tr style=\"text-align: right;\">\n",
       "      <th></th>\n",
       "      <th>ID</th>\n",
       "      <th>FIX_idx</th>\n",
       "      <th>NSS</th>\n",
       "      <th>NSS_MEAN</th>\n",
       "      <th>FIX_IN_VID</th>\n",
       "      <th>FLAG</th>\n",
       "      <th>VIDEO_NAME</th>\n",
       "      <th>ET_FILE</th>\n",
       "      <th>FRAME_idx</th>\n",
       "    </tr>\n",
       "  </thead>\n",
       "  <tbody>\n",
       "    <tr>\n",
       "      <th>0</th>\n",
       "      <td>NDARGX173AC3</td>\n",
       "      <td>1</td>\n",
       "      <td>1.632614</td>\n",
       "      <td>1.664862</td>\n",
       "      <td>708</td>\n",
       "      <td>0</td>\n",
       "      <td>Present</td>\n",
       "      <td>./../data/ETFinalCutSample/NDARGX173AC3/NDARGX...</td>\n",
       "      <td>3</td>\n",
       "    </tr>\n",
       "    <tr>\n",
       "      <th>1</th>\n",
       "      <td>NDARGX173AC3</td>\n",
       "      <td>3</td>\n",
       "      <td>-0.120065</td>\n",
       "      <td>1.664862</td>\n",
       "      <td>708</td>\n",
       "      <td>0</td>\n",
       "      <td>Present</td>\n",
       "      <td>./../data/ETFinalCutSample/NDARGX173AC3/NDARGX...</td>\n",
       "      <td>9</td>\n",
       "    </tr>\n",
       "    <tr>\n",
       "      <th>2</th>\n",
       "      <td>NDARGX173AC3</td>\n",
       "      <td>5</td>\n",
       "      <td>-0.404257</td>\n",
       "      <td>1.664862</td>\n",
       "      <td>708</td>\n",
       "      <td>0</td>\n",
       "      <td>Present</td>\n",
       "      <td>./../data/ETFinalCutSample/NDARGX173AC3/NDARGX...</td>\n",
       "      <td>14</td>\n",
       "    </tr>\n",
       "    <tr>\n",
       "      <th>3</th>\n",
       "      <td>NDARGX173AC3</td>\n",
       "      <td>7</td>\n",
       "      <td>-0.415283</td>\n",
       "      <td>1.664862</td>\n",
       "      <td>708</td>\n",
       "      <td>0</td>\n",
       "      <td>Present</td>\n",
       "      <td>./../data/ETFinalCutSample/NDARGX173AC3/NDARGX...</td>\n",
       "      <td>16</td>\n",
       "    </tr>\n",
       "    <tr>\n",
       "      <th>4</th>\n",
       "      <td>NDARGX173AC3</td>\n",
       "      <td>9</td>\n",
       "      <td>2.906565</td>\n",
       "      <td>1.664862</td>\n",
       "      <td>708</td>\n",
       "      <td>0</td>\n",
       "      <td>Present</td>\n",
       "      <td>./../data/ETFinalCutSample/NDARGX173AC3/NDARGX...</td>\n",
       "      <td>32</td>\n",
       "    </tr>\n",
       "    <tr>\n",
       "      <th>...</th>\n",
       "      <td>...</td>\n",
       "      <td>...</td>\n",
       "      <td>...</td>\n",
       "      <td>...</td>\n",
       "      <td>...</td>\n",
       "      <td>...</td>\n",
       "      <td>...</td>\n",
       "      <td>...</td>\n",
       "      <td>...</td>\n",
       "    </tr>\n",
       "    <tr>\n",
       "      <th>527902</th>\n",
       "      <td>NDARGC559LN8</td>\n",
       "      <td>1093</td>\n",
       "      <td>0.377692</td>\n",
       "      <td>1.105855</td>\n",
       "      <td>550</td>\n",
       "      <td>0</td>\n",
       "      <td>Present</td>\n",
       "      <td>./../data/ETFinalCutSample/NDARGC559LN8/NDARGC...</td>\n",
       "      <td>4835</td>\n",
       "    </tr>\n",
       "    <tr>\n",
       "      <th>527903</th>\n",
       "      <td>NDARGC559LN8</td>\n",
       "      <td>1095</td>\n",
       "      <td>-0.089380</td>\n",
       "      <td>1.105855</td>\n",
       "      <td>550</td>\n",
       "      <td>0</td>\n",
       "      <td>Present</td>\n",
       "      <td>./../data/ETFinalCutSample/NDARGC559LN8/NDARGC...</td>\n",
       "      <td>4844</td>\n",
       "    </tr>\n",
       "    <tr>\n",
       "      <th>527904</th>\n",
       "      <td>NDARGC559LN8</td>\n",
       "      <td>1097</td>\n",
       "      <td>-0.144578</td>\n",
       "      <td>1.105855</td>\n",
       "      <td>550</td>\n",
       "      <td>0</td>\n",
       "      <td>Present</td>\n",
       "      <td>./../data/ETFinalCutSample/NDARGC559LN8/NDARGC...</td>\n",
       "      <td>4849</td>\n",
       "    </tr>\n",
       "    <tr>\n",
       "      <th>527905</th>\n",
       "      <td>NDARGC559LN8</td>\n",
       "      <td>1100</td>\n",
       "      <td>0.535246</td>\n",
       "      <td>1.105855</td>\n",
       "      <td>550</td>\n",
       "      <td>0</td>\n",
       "      <td>Present</td>\n",
       "      <td>./../data/ETFinalCutSample/NDARGC559LN8/NDARGC...</td>\n",
       "      <td>4860</td>\n",
       "    </tr>\n",
       "    <tr>\n",
       "      <th>527906</th>\n",
       "      <td>NDARGC559LN8</td>\n",
       "      <td>1102</td>\n",
       "      <td>1.469226</td>\n",
       "      <td>1.105855</td>\n",
       "      <td>550</td>\n",
       "      <td>0</td>\n",
       "      <td>Present</td>\n",
       "      <td>./../data/ETFinalCutSample/NDARGC559LN8/NDARGC...</td>\n",
       "      <td>4865</td>\n",
       "    </tr>\n",
       "  </tbody>\n",
       "</table>\n",
       "<p>527907 rows × 9 columns</p>\n",
       "</div>"
      ],
      "text/plain": [
       "                  ID  FIX_idx       NSS  NSS_MEAN  FIX_IN_VID  FLAG  \\\n",
       "0       NDARGX173AC3        1  1.632614  1.664862         708     0   \n",
       "1       NDARGX173AC3        3 -0.120065  1.664862         708     0   \n",
       "2       NDARGX173AC3        5 -0.404257  1.664862         708     0   \n",
       "3       NDARGX173AC3        7 -0.415283  1.664862         708     0   \n",
       "4       NDARGX173AC3        9  2.906565  1.664862         708     0   \n",
       "...              ...      ...       ...       ...         ...   ...   \n",
       "527902  NDARGC559LN8     1093  0.377692  1.105855         550     0   \n",
       "527903  NDARGC559LN8     1095 -0.089380  1.105855         550     0   \n",
       "527904  NDARGC559LN8     1097 -0.144578  1.105855         550     0   \n",
       "527905  NDARGC559LN8     1100  0.535246  1.105855         550     0   \n",
       "527906  NDARGC559LN8     1102  1.469226  1.105855         550     0   \n",
       "\n",
       "       VIDEO_NAME                                            ET_FILE  \\\n",
       "0         Present  ./../data/ETFinalCutSample/NDARGX173AC3/NDARGX...   \n",
       "1         Present  ./../data/ETFinalCutSample/NDARGX173AC3/NDARGX...   \n",
       "2         Present  ./../data/ETFinalCutSample/NDARGX173AC3/NDARGX...   \n",
       "3         Present  ./../data/ETFinalCutSample/NDARGX173AC3/NDARGX...   \n",
       "4         Present  ./../data/ETFinalCutSample/NDARGX173AC3/NDARGX...   \n",
       "...           ...                                                ...   \n",
       "527902    Present  ./../data/ETFinalCutSample/NDARGC559LN8/NDARGC...   \n",
       "527903    Present  ./../data/ETFinalCutSample/NDARGC559LN8/NDARGC...   \n",
       "527904    Present  ./../data/ETFinalCutSample/NDARGC559LN8/NDARGC...   \n",
       "527905    Present  ./../data/ETFinalCutSample/NDARGC559LN8/NDARGC...   \n",
       "527906    Present  ./../data/ETFinalCutSample/NDARGC559LN8/NDARGC...   \n",
       "\n",
       "        FRAME_idx  \n",
       "0               3  \n",
       "1               9  \n",
       "2              14  \n",
       "3              16  \n",
       "4              32  \n",
       "...           ...  \n",
       "527902       4835  \n",
       "527903       4844  \n",
       "527904       4849  \n",
       "527905       4860  \n",
       "527906       4865  \n",
       "\n",
       "[527907 rows x 9 columns]"
      ]
     },
     "execution_count": 114,
     "metadata": {},
     "output_type": "execute_result"
    }
   ],
   "source": [
    "df_tp_final.drop(columns=['index'])"
   ]
  },
  {
   "cell_type": "code",
   "execution_count": 117,
   "id": "integrated-establishment",
   "metadata": {},
   "outputs": [
    {
     "data": {
      "text/html": [
       "<div>\n",
       "<style scoped>\n",
       "    .dataframe tbody tr th:only-of-type {\n",
       "        vertical-align: middle;\n",
       "    }\n",
       "\n",
       "    .dataframe tbody tr th {\n",
       "        vertical-align: top;\n",
       "    }\n",
       "\n",
       "    .dataframe thead th {\n",
       "        text-align: right;\n",
       "    }\n",
       "</style>\n",
       "<table border=\"1\" class=\"dataframe\">\n",
       "  <thead>\n",
       "    <tr style=\"text-align: right;\">\n",
       "      <th></th>\n",
       "      <th>fix</th>\n",
       "      <th>x</th>\n",
       "      <th>y</th>\n",
       "      <th>subId</th>\n",
       "      <th>trialId</th>\n",
       "      <th>event_len</th>\n",
       "      <th>start_time</th>\n",
       "      <th>end_time</th>\n",
       "    </tr>\n",
       "  </thead>\n",
       "  <tbody>\n",
       "    <tr>\n",
       "      <th>0</th>\n",
       "      <td>0</td>\n",
       "      <td>[438.94, 305.29, 170.39, 141.72, 302.51, 219.9...</td>\n",
       "      <td>[171.3, 189.95, 378.0, 425.31, 357.06, 374.12,...</td>\n",
       "      <td>0</td>\n",
       "      <td>0</td>\n",
       "      <td>14</td>\n",
       "      <td>6.932</td>\n",
       "      <td>123.708</td>\n",
       "    </tr>\n",
       "    <tr>\n",
       "      <th>1</th>\n",
       "      <td>1</td>\n",
       "      <td>[205.54, 205.87, 207.08, 199.27, 215.34, 214.8...</td>\n",
       "      <td>[315.62, 312.3, 314.06, 312.58, 307.18, 309.03...</td>\n",
       "      <td>0</td>\n",
       "      <td>0</td>\n",
       "      <td>15</td>\n",
       "      <td>123.708</td>\n",
       "      <td>248.783</td>\n",
       "    </tr>\n",
       "    <tr>\n",
       "      <th>2</th>\n",
       "      <td>0</td>\n",
       "      <td>[222.17, 224.87, 226.87, 226.96, 228.85, 230.5...</td>\n",
       "      <td>[328.37, 326.21, 325.55, 325.99, 323.89, 321.4...</td>\n",
       "      <td>0</td>\n",
       "      <td>0</td>\n",
       "      <td>14</td>\n",
       "      <td>248.783</td>\n",
       "      <td>365.560</td>\n",
       "    </tr>\n",
       "    <tr>\n",
       "      <th>3</th>\n",
       "      <td>1</td>\n",
       "      <td>[585.58, 583.44, 581.74, 581.66, 584.9, 584.67...</td>\n",
       "      <td>[390.46, 389.55, 393.73, 395.74, 397.22, 397.6...</td>\n",
       "      <td>0</td>\n",
       "      <td>0</td>\n",
       "      <td>20</td>\n",
       "      <td>365.560</td>\n",
       "      <td>532.455</td>\n",
       "    </tr>\n",
       "    <tr>\n",
       "      <th>4</th>\n",
       "      <td>0</td>\n",
       "      <td>[604.14, 606.02, 610.05, 616.39]</td>\n",
       "      <td>[409.15, 412.4, 418.44, 426.04]</td>\n",
       "      <td>0</td>\n",
       "      <td>0</td>\n",
       "      <td>4</td>\n",
       "      <td>532.455</td>\n",
       "      <td>565.818</td>\n",
       "    </tr>\n",
       "    <tr>\n",
       "      <th>...</th>\n",
       "      <td>...</td>\n",
       "      <td>...</td>\n",
       "      <td>...</td>\n",
       "      <td>...</td>\n",
       "      <td>...</td>\n",
       "      <td>...</td>\n",
       "      <td>...</td>\n",
       "      <td>...</td>\n",
       "    </tr>\n",
       "    <tr>\n",
       "      <th>1566</th>\n",
       "      <td>0</td>\n",
       "      <td>[66.87]</td>\n",
       "      <td>[325.67]</td>\n",
       "      <td>0</td>\n",
       "      <td>0</td>\n",
       "      <td>1</td>\n",
       "      <td>202683.148</td>\n",
       "      <td>202691.536</td>\n",
       "    </tr>\n",
       "    <tr>\n",
       "      <th>1567</th>\n",
       "      <td>-1</td>\n",
       "      <td>[0.0, 0.0, 0.0, 0.0, 0.0, 0.0, 0.0, 0.0, 0.0, ...</td>\n",
       "      <td>[0.0, 0.0, 0.0, 0.0, 0.0, 0.0, 0.0, 0.0, 0.0, ...</td>\n",
       "      <td>0</td>\n",
       "      <td>0</td>\n",
       "      <td>17</td>\n",
       "      <td>202699.901</td>\n",
       "      <td>202841.655</td>\n",
       "    </tr>\n",
       "    <tr>\n",
       "      <th>1568</th>\n",
       "      <td>0</td>\n",
       "      <td>[82.84, 47.51, 47.92, 65.63, 234.18, 326.52, 3...</td>\n",
       "      <td>[437.48, 473.38, 464.29, 435.59, 304.57, 306.4...</td>\n",
       "      <td>0</td>\n",
       "      <td>0</td>\n",
       "      <td>9</td>\n",
       "      <td>202841.655</td>\n",
       "      <td>202916.785</td>\n",
       "    </tr>\n",
       "    <tr>\n",
       "      <th>1569</th>\n",
       "      <td>1</td>\n",
       "      <td>[250.02, 233.43, 237.82, 229.41, 232.48, 227.8...</td>\n",
       "      <td>[302.56, 303.46, 304.52, 305.98, 306.36, 305.9...</td>\n",
       "      <td>0</td>\n",
       "      <td>0</td>\n",
       "      <td>10</td>\n",
       "      <td>202916.785</td>\n",
       "      <td>203000.147</td>\n",
       "    </tr>\n",
       "    <tr>\n",
       "      <th>1570</th>\n",
       "      <td>0</td>\n",
       "      <td>[215.94, 212.54, 199.05]</td>\n",
       "      <td>[311.47, 313.29, 314.02]</td>\n",
       "      <td>0</td>\n",
       "      <td>0</td>\n",
       "      <td>3</td>\n",
       "      <td>203000.147</td>\n",
       "      <td>203025.153</td>\n",
       "    </tr>\n",
       "  </tbody>\n",
       "</table>\n",
       "<p>1571 rows × 8 columns</p>\n",
       "</div>"
      ],
      "text/plain": [
       "      fix                                                  x  \\\n",
       "0       0  [438.94, 305.29, 170.39, 141.72, 302.51, 219.9...   \n",
       "1       1  [205.54, 205.87, 207.08, 199.27, 215.34, 214.8...   \n",
       "2       0  [222.17, 224.87, 226.87, 226.96, 228.85, 230.5...   \n",
       "3       1  [585.58, 583.44, 581.74, 581.66, 584.9, 584.67...   \n",
       "4       0                   [604.14, 606.02, 610.05, 616.39]   \n",
       "...   ...                                                ...   \n",
       "1566    0                                            [66.87]   \n",
       "1567   -1  [0.0, 0.0, 0.0, 0.0, 0.0, 0.0, 0.0, 0.0, 0.0, ...   \n",
       "1568    0  [82.84, 47.51, 47.92, 65.63, 234.18, 326.52, 3...   \n",
       "1569    1  [250.02, 233.43, 237.82, 229.41, 232.48, 227.8...   \n",
       "1570    0                           [215.94, 212.54, 199.05]   \n",
       "\n",
       "                                                      y  subId  trialId  \\\n",
       "0     [171.3, 189.95, 378.0, 425.31, 357.06, 374.12,...      0        0   \n",
       "1     [315.62, 312.3, 314.06, 312.58, 307.18, 309.03...      0        0   \n",
       "2     [328.37, 326.21, 325.55, 325.99, 323.89, 321.4...      0        0   \n",
       "3     [390.46, 389.55, 393.73, 395.74, 397.22, 397.6...      0        0   \n",
       "4                       [409.15, 412.4, 418.44, 426.04]      0        0   \n",
       "...                                                 ...    ...      ...   \n",
       "1566                                           [325.67]      0        0   \n",
       "1567  [0.0, 0.0, 0.0, 0.0, 0.0, 0.0, 0.0, 0.0, 0.0, ...      0        0   \n",
       "1568  [437.48, 473.38, 464.29, 435.59, 304.57, 306.4...      0        0   \n",
       "1569  [302.56, 303.46, 304.52, 305.98, 306.36, 305.9...      0        0   \n",
       "1570                           [311.47, 313.29, 314.02]      0        0   \n",
       "\n",
       "      event_len  start_time    end_time  \n",
       "0            14       6.932     123.708  \n",
       "1            15     123.708     248.783  \n",
       "2            14     248.783     365.560  \n",
       "3            20     365.560     532.455  \n",
       "4             4     532.455     565.818  \n",
       "...         ...         ...         ...  \n",
       "1566          1  202683.148  202691.536  \n",
       "1567         17  202699.901  202841.655  \n",
       "1568          9  202841.655  202916.785  \n",
       "1569         10  202916.785  203000.147  \n",
       "1570          3  203000.147  203025.153  \n",
       "\n",
       "[1571 rows x 8 columns]"
      ]
     },
     "execution_count": 117,
     "metadata": {},
     "output_type": "execute_result"
    }
   ],
   "source": [
    "load_subj_et_data('NDARGX173AC3', video_id='TP', data_path = './../data/ETFinalCutSample/')"
   ]
  },
  {
   "cell_type": "markdown",
   "id": "persistent-walker",
   "metadata": {},
   "source": [
    "### Save"
   ]
  },
  {
   "cell_type": "code",
   "execution_count": null,
   "id": "threaded-timeline",
   "metadata": {},
   "outputs": [],
   "source": [
    "df_wk_final.drop(columns=['index']).to_csv(os.path.join(results_path, 'WK', 'results_nss_wk_vn.csv'), index=False)\n",
    "df_tp_final.drop(columns=['index']).to_csv(os.path.join(results_path, 'TP', 'results_nss_tp_vn.csv'), index=False)\n",
    "df_ff_final.drop(columns=['index']).to_csv(os.path.join(results_path, 'FF', 'results_nss_ff_vn.csv'), index=False)"
   ]
  },
  {
   "cell_type": "code",
   "execution_count": null,
   "id": "answering-marks",
   "metadata": {},
   "outputs": [],
   "source": []
  },
  {
   "cell_type": "markdown",
   "id": "existing-report",
   "metadata": {},
   "source": [
    "## NSS - Spectral saliency"
   ]
  },
  {
   "cell_type": "markdown",
   "id": "smooth-papua",
   "metadata": {},
   "source": [
    "### Diary"
   ]
  },
  {
   "cell_type": "code",
   "execution_count": 16,
   "id": "administrative-beginning",
   "metadata": {},
   "outputs": [],
   "source": [
    "saliency_diary = create_saliency_matrix('Diary', videos_data, vinet_path ='../videos_sal/spectral')"
   ]
  },
  {
   "cell_type": "code",
   "execution_count": 18,
   "id": "technological-guest",
   "metadata": {},
   "outputs": [
    {
     "data": {
      "application/vnd.jupyter.widget-view+json": {
       "model_id": "9eec5e3d557746429c88df5eef6852e4",
       "version_major": 2,
       "version_minor": 0
      },
      "text/plain": [
       "  0%|          | 0/994 [00:00<?, ?it/s]"
      ]
     },
     "metadata": {},
     "output_type": "display_data"
    }
   ],
   "source": [
    "results_nss_diary = calculate_metric(data_path, trials_data, videos_data, vid_name = 'Diary', saliency = saliency_diary)"
   ]
  },
  {
   "cell_type": "code",
   "execution_count": 19,
   "id": "universal-picnic",
   "metadata": {},
   "outputs": [
    {
     "data": {
      "text/plain": [
       "(363788, 8)"
      ]
     },
     "execution_count": 19,
     "metadata": {},
     "output_type": "execute_result"
    }
   ],
   "source": [
    "df_nss_diary = pd.DataFrame(results_nss_diary[0])\n",
    "df_nss_diary.columns = ['ID', 'FIX_idx', 'NSS','NSS_MEAN', 'FIX_IN_VID', 'FLAG', 'VIDEO_NAME', 'ET_FILE']\n",
    "df_nss_diary_exploded = explode(df_nss_diary, ['FIX_idx','NSS'])\n",
    "df_nss_diary_exploded.shape"
   ]
  },
  {
   "cell_type": "code",
   "execution_count": 20,
   "id": "seven-bangkok",
   "metadata": {},
   "outputs": [],
   "source": [
    "df_wk_final = add_frame_idx(df_nss_diary_exploded.reset_index(), vid_name = 'Diary', data_path='./', trials_data=trials_data, videos_data=videos_data)"
   ]
  },
  {
   "cell_type": "code",
   "execution_count": 21,
   "id": "becoming-underwear",
   "metadata": {},
   "outputs": [],
   "source": [
    "df_wk_final.drop(columns=['index']).to_csv(os.path.join(results_path, 'WK', 'results_nss_wk_spectral.csv'), index=False)"
   ]
  },
  {
   "cell_type": "code",
   "execution_count": null,
   "id": "worth-patrick",
   "metadata": {},
   "outputs": [],
   "source": []
  },
  {
   "cell_type": "markdown",
   "id": "genetic-female",
   "metadata": {},
   "source": [
    "### Present"
   ]
  },
  {
   "cell_type": "code",
   "execution_count": 22,
   "id": "personal-antenna",
   "metadata": {},
   "outputs": [
    {
     "data": {
      "application/vnd.jupyter.widget-view+json": {
       "model_id": "59dcb60181f34135a9536394f47f3ce7",
       "version_major": 2,
       "version_minor": 0
      },
      "text/plain": [
       "  0%|          | 0/994 [00:00<?, ?it/s]"
      ]
     },
     "metadata": {},
     "output_type": "display_data"
    }
   ],
   "source": [
    "saliency_present = create_saliency_matrix('Present', videos_data, vinet_path ='../videos_sal/spectral')\n",
    "results_nss_present = calculate_metric(data_path, trials_data, videos_data, vid_name = 'Present', saliency = saliency_present)\n",
    "df_nss_present = pd.DataFrame(results_nss_present[0])\n",
    "df_nss_present.columns = ['ID', 'FIX_idx', 'NSS','NSS_MEAN', 'FIX_IN_VID', 'FLAG', 'VIDEO_NAME', 'ET_FILE']\n",
    "df_nss_present_exploded = explode(df_nss_present, ['FIX_idx','NSS'])\n",
    "df_nss_present_exploded.shape\n",
    "df_tp_final = add_frame_idx(df_nss_present_exploded.reset_index(), vid_name = 'Present', data_path='./', trials_data=trials_data, videos_data=videos_data)"
   ]
  },
  {
   "cell_type": "code",
   "execution_count": 23,
   "id": "frequent-frank",
   "metadata": {},
   "outputs": [],
   "source": [
    "df_tp_final.drop(columns=['index']).to_csv(os.path.join(results_path, 'TP', 'results_nss_tp_spectral.csv'), index=False)"
   ]
  },
  {
   "cell_type": "code",
   "execution_count": null,
   "id": "sitting-daisy",
   "metadata": {},
   "outputs": [],
   "source": []
  },
  {
   "cell_type": "markdown",
   "id": "developing-latest",
   "metadata": {},
   "source": [
    "### Fractals"
   ]
  },
  {
   "cell_type": "code",
   "execution_count": 24,
   "id": "broken-jewel",
   "metadata": {},
   "outputs": [
    {
     "data": {
      "application/vnd.jupyter.widget-view+json": {
       "model_id": "3c7ba149d36247ccb37f81fb1c2fa441",
       "version_major": 2,
       "version_minor": 0
      },
      "text/plain": [
       "  0%|          | 0/994 [00:00<?, ?it/s]"
      ]
     },
     "metadata": {},
     "output_type": "display_data"
    }
   ],
   "source": [
    "saliency_fractals = create_saliency_matrix('Fractals', videos_data, vinet_path ='../videos_sal/spectral')\n",
    "results_nss_fractals = calculate_metric(data_path, trials_data, videos_data, vid_name = 'Fractals', saliency = saliency_fractals)\n",
    "df_nss_fractals = pd.DataFrame(results_nss_fractals[0])\n",
    "df_nss_fractals.columns = ['ID', 'FIX_idx', 'NSS','NSS_MEAN', 'FIX_IN_VID', 'FLAG', 'VIDEO_NAME', 'ET_FILE']\n",
    "df_nss_fractals_exploded = explode(df_nss_fractals, ['FIX_idx','NSS'])\n",
    "df_nss_fractals_exploded.shape\n",
    "df_ff_final = add_frame_idx(df_nss_fractals_exploded.reset_index(), vid_name = 'Fractals', data_path='./', trials_data=trials_data, videos_data=videos_data)"
   ]
  },
  {
   "cell_type": "code",
   "execution_count": 25,
   "id": "acquired-senior",
   "metadata": {},
   "outputs": [],
   "source": [
    "df_ff_final.drop(columns=['index']).to_csv(os.path.join(results_path, 'FF', 'results_nss_ff_spectral.csv'), index=False)"
   ]
  },
  {
   "cell_type": "code",
   "execution_count": null,
   "id": "divided-package",
   "metadata": {},
   "outputs": [],
   "source": []
  },
  {
   "cell_type": "markdown",
   "id": "decent-compiler",
   "metadata": {},
   "source": [
    "*****"
   ]
  },
  {
   "cell_type": "markdown",
   "id": "plain-membership",
   "metadata": {},
   "source": [
    "# OLD"
   ]
  },
  {
   "cell_type": "markdown",
   "id": "lasting-sharp",
   "metadata": {},
   "source": [
    "***\n",
    "## CC"
   ]
  },
  {
   "cell_type": "code",
   "execution_count": 13,
   "id": "comprehensive-stuart",
   "metadata": {},
   "outputs": [
    {
     "data": {
      "application/vnd.jupyter.widget-view+json": {
       "model_id": "8c576e7b374d47e89a917b53c5f247a1",
       "version_major": 2,
       "version_minor": 0
      },
      "text/plain": [
       "  0%|          | 0/1362 [00:00<?, ?it/s]"
      ]
     },
     "metadata": {},
     "output_type": "display_data"
    }
   ],
   "source": [
    "# CC\n",
    "vid_name = 'Diary'\n",
    "trials_data_vid = trials_data[trials_data.VideoName==vid_name]\n",
    "\n",
    "# vid_saliency   = videos_data.loc[vid_name, 'VideoSaliency']\n",
    "# vid_saliency_p = videos_data.loc[vid_name, 'VideoSalPercentils']\n",
    "# saliency       = open_memmap('Videos_sal/cb/'+vid_saliency)\n",
    "# sal_perc       = np.load('./cache/'+vid_saliency_p)\n",
    "\n",
    "missing_folders  = []\n",
    "missing_csv_vid  = []\n",
    "missing_metadata = []\n",
    "results_cc       = []\n",
    "\n",
    "n_subj     = len(trials_data_vid)\n",
    "subj_count = 0\n",
    "\n",
    "for fold_subj in tqdm(os.listdir(data_path)):\n",
    "    if fold_subj in list(metadata['ID'].unique()):\n",
    "        pass\n",
    "    else:\n",
    "        missing_metadata.append(fold_subj)\n",
    "        continue\n",
    "        \n",
    "    csv_files    = os.listdir(data_path+fold_subj)\n",
    "    csv_vid_file = [f for f in csv_files if 'WK' in f]\n",
    "    if len(csv_vid_file) ==0:\n",
    "        missing_csv_vid.append(fold_subj)\n",
    "        continue\n",
    "        \n",
    "    et_file      = data_path + fold_subj + '/' + csv_vid_file[0]\n",
    "    df_et        = pd.read_csv(et_file)\n",
    "    frame_timest = videos_data.loc[vid_name,'FramesTimestamps']\n",
    "    trial_init   = trials_data.loc[fold_subj].set_index('VideoName').loc[vid_name].Start\n",
    "    df_fix, flag = preprocess_fixations_new_dataset(df_et, frame_timest, trial_init)\n",
    "    if flag==-1:\n",
    "        continue\n",
    "    else:\n",
    "        cc_score = calculate_CC_apply(df_fix, saliency)\n",
    "        \n",
    "    results_cc.append((fold_subj, cc_score, len(df_fix), flag, vid_name, et_file))"
   ]
  },
  {
   "cell_type": "code",
   "execution_count": 14,
   "id": "separated-samuel",
   "metadata": {},
   "outputs": [
    {
     "data": {
      "text/html": [
       "<div>\n",
       "<style scoped>\n",
       "    .dataframe tbody tr th:only-of-type {\n",
       "        vertical-align: middle;\n",
       "    }\n",
       "\n",
       "    .dataframe tbody tr th {\n",
       "        vertical-align: top;\n",
       "    }\n",
       "\n",
       "    .dataframe thead th {\n",
       "        text-align: right;\n",
       "    }\n",
       "</style>\n",
       "<table border=\"1\" class=\"dataframe\">\n",
       "  <thead>\n",
       "    <tr style=\"text-align: right;\">\n",
       "      <th></th>\n",
       "      <th>fix</th>\n",
       "      <th>subId</th>\n",
       "      <th>trialId</th>\n",
       "      <th>event_len</th>\n",
       "      <th>start_time</th>\n",
       "      <th>end_time</th>\n",
       "      <th>dur</th>\n",
       "      <th>x_mean</th>\n",
       "      <th>y_mean</th>\n",
       "      <th>x_std</th>\n",
       "      <th>y_std</th>\n",
       "      <th>frames_seen</th>\n",
       "    </tr>\n",
       "  </thead>\n",
       "  <tbody>\n",
       "    <tr>\n",
       "      <th>2</th>\n",
       "      <td>1</td>\n",
       "      <td>0</td>\n",
       "      <td>0</td>\n",
       "      <td>12</td>\n",
       "      <td>250.878</td>\n",
       "      <td>450.766</td>\n",
       "      <td>199.888</td>\n",
       "      <td>284.195833</td>\n",
       "      <td>302.794167</td>\n",
       "      <td>2.243879</td>\n",
       "      <td>4.033988</td>\n",
       "      <td>[7, 8, 9, 10]</td>\n",
       "    </tr>\n",
       "    <tr>\n",
       "      <th>4</th>\n",
       "      <td>1</td>\n",
       "      <td>0</td>\n",
       "      <td>0</td>\n",
       "      <td>15</td>\n",
       "      <td>467.419</td>\n",
       "      <td>717.391</td>\n",
       "      <td>249.972</td>\n",
       "      <td>260.640667</td>\n",
       "      <td>258.804667</td>\n",
       "      <td>5.392660</td>\n",
       "      <td>2.995091</td>\n",
       "      <td>[12, 13, 14, 15, 16, 17]</td>\n",
       "    </tr>\n",
       "    <tr>\n",
       "      <th>6</th>\n",
       "      <td>1</td>\n",
       "      <td>0</td>\n",
       "      <td>0</td>\n",
       "      <td>18</td>\n",
       "      <td>733.969</td>\n",
       "      <td>1033.841</td>\n",
       "      <td>299.872</td>\n",
       "      <td>354.416111</td>\n",
       "      <td>279.398889</td>\n",
       "      <td>2.938195</td>\n",
       "      <td>8.464311</td>\n",
       "      <td>[18, 19, 20, 21, 22, 23, 24]</td>\n",
       "    </tr>\n",
       "    <tr>\n",
       "      <th>8</th>\n",
       "      <td>1</td>\n",
       "      <td>0</td>\n",
       "      <td>0</td>\n",
       "      <td>13</td>\n",
       "      <td>1050.602</td>\n",
       "      <td>1267.088</td>\n",
       "      <td>216.486</td>\n",
       "      <td>381.828462</td>\n",
       "      <td>298.411538</td>\n",
       "      <td>5.236345</td>\n",
       "      <td>3.152947</td>\n",
       "      <td>[26, 27, 28, 29, 30]</td>\n",
       "    </tr>\n",
       "    <tr>\n",
       "      <th>10</th>\n",
       "      <td>1</td>\n",
       "      <td>0</td>\n",
       "      <td>0</td>\n",
       "      <td>16</td>\n",
       "      <td>1283.847</td>\n",
       "      <td>1550.425</td>\n",
       "      <td>266.578</td>\n",
       "      <td>331.649375</td>\n",
       "      <td>332.028125</td>\n",
       "      <td>3.019645</td>\n",
       "      <td>5.152048</td>\n",
       "      <td>[31, 32, 33, 34, 35, 36, 37]</td>\n",
       "    </tr>\n",
       "  </tbody>\n",
       "</table>\n",
       "</div>"
      ],
      "text/plain": [
       "    fix  subId  trialId  event_len  start_time  end_time      dur      x_mean  \\\n",
       "2     1      0        0         12     250.878   450.766  199.888  284.195833   \n",
       "4     1      0        0         15     467.419   717.391  249.972  260.640667   \n",
       "6     1      0        0         18     733.969  1033.841  299.872  354.416111   \n",
       "8     1      0        0         13    1050.602  1267.088  216.486  381.828462   \n",
       "10    1      0        0         16    1283.847  1550.425  266.578  331.649375   \n",
       "\n",
       "        y_mean     x_std     y_std                   frames_seen  \n",
       "2   302.794167  2.243879  4.033988                 [7, 8, 9, 10]  \n",
       "4   258.804667  5.392660  2.995091      [12, 13, 14, 15, 16, 17]  \n",
       "6   279.398889  2.938195  8.464311  [18, 19, 20, 21, 22, 23, 24]  \n",
       "8   298.411538  5.236345  3.152947          [26, 27, 28, 29, 30]  \n",
       "10  332.028125  3.019645  5.152048  [31, 32, 33, 34, 35, 36, 37]  "
      ]
     },
     "execution_count": 14,
     "metadata": {},
     "output_type": "execute_result"
    }
   ],
   "source": [
    "df_fix.head()"
   ]
  },
  {
   "cell_type": "code",
   "execution_count": 60,
   "id": "prostate-fifteen",
   "metadata": {},
   "outputs": [
    {
     "data": {
      "text/html": [
       "<div>\n",
       "<style scoped>\n",
       "    .dataframe tbody tr th:only-of-type {\n",
       "        vertical-align: middle;\n",
       "    }\n",
       "\n",
       "    .dataframe tbody tr th {\n",
       "        vertical-align: top;\n",
       "    }\n",
       "\n",
       "    .dataframe thead th {\n",
       "        text-align: right;\n",
       "    }\n",
       "</style>\n",
       "<table border=\"1\" class=\"dataframe\">\n",
       "  <thead>\n",
       "    <tr style=\"text-align: right;\">\n",
       "      <th></th>\n",
       "      <th>ID</th>\n",
       "      <th>CC</th>\n",
       "      <th>FIX_IN_VID</th>\n",
       "      <th>FLAG</th>\n",
       "      <th>VIDEO_NAME</th>\n",
       "      <th>ET_FILE</th>\n",
       "      <th>SWAN</th>\n",
       "      <th>Age</th>\n",
       "      <th>SWAN_HY</th>\n",
       "      <th>SWAN_IN</th>\n",
       "      <th>CC_MEAN</th>\n",
       "    </tr>\n",
       "  </thead>\n",
       "  <tbody>\n",
       "    <tr>\n",
       "      <th>0</th>\n",
       "      <td>NDARUG492VF0</td>\n",
       "      <td>0\n",
       "1    0.054258\n",
       "3    0.056806\n",
       "5   ...</td>\n",
       "      <td>357</td>\n",
       "      <td>0</td>\n",
       "      <td>Diary</td>\n",
       "      <td>./data/ETFinalCutSample/NDARUG492VF0/NDARUG492...</td>\n",
       "      <td>-0.333333</td>\n",
       "      <td>9.506958</td>\n",
       "      <td>-0.333333</td>\n",
       "      <td>-0.333333</td>\n",
       "      <td>0.009876</td>\n",
       "    </tr>\n",
       "    <tr>\n",
       "      <th>1</th>\n",
       "      <td>NDARJH925ZCD</td>\n",
       "      <td>0\n",
       "5    -0.019697\n",
       "7     0.046304\n",
       "9...</td>\n",
       "      <td>545</td>\n",
       "      <td>0</td>\n",
       "      <td>Diary</td>\n",
       "      <td>./data/ETFinalCutSample/NDARJH925ZCD/NDARJH925...</td>\n",
       "      <td>2.888888</td>\n",
       "      <td>9.964179</td>\n",
       "      <td>3</td>\n",
       "      <td>2.777777</td>\n",
       "      <td>0.010195</td>\n",
       "    </tr>\n",
       "    <tr>\n",
       "      <th>2</th>\n",
       "      <td>NDARGR106TJB</td>\n",
       "      <td>0\n",
       "3    0.046197\n",
       "5    0.061559\n",
       "7   ...</td>\n",
       "      <td>338</td>\n",
       "      <td>0</td>\n",
       "      <td>Diary</td>\n",
       "      <td>./data/ETFinalCutSample/NDARGR106TJB/NDARGR106...</td>\n",
       "      <td>NaN</td>\n",
       "      <td>19.379648</td>\n",
       "      <td>.</td>\n",
       "      <td>.</td>\n",
       "      <td>0.008049</td>\n",
       "    </tr>\n",
       "    <tr>\n",
       "      <th>3</th>\n",
       "      <td>NDARRK135YAZ</td>\n",
       "      <td>0\n",
       "1    0.034740\n",
       "3    0.046701\n",
       "5   ...</td>\n",
       "      <td>479</td>\n",
       "      <td>0</td>\n",
       "      <td>Diary</td>\n",
       "      <td>./data/ETFinalCutSample/NDARRK135YAZ/NDARRK135...</td>\n",
       "      <td>-0.444444</td>\n",
       "      <td>17.732032</td>\n",
       "      <td>-2.555555</td>\n",
       "      <td>1.666666</td>\n",
       "      <td>0.008404</td>\n",
       "    </tr>\n",
       "    <tr>\n",
       "      <th>4</th>\n",
       "      <td>NDARRX443NVT</td>\n",
       "      <td>0\n",
       "2    0.046130\n",
       "4    0.066060\n",
       "6   ...</td>\n",
       "      <td>359</td>\n",
       "      <td>0</td>\n",
       "      <td>Diary</td>\n",
       "      <td>./data/ETFinalCutSample/NDARRX443NVT/NDARRX443...</td>\n",
       "      <td>0.888888</td>\n",
       "      <td>12.058635</td>\n",
       "      <td>0.666666</td>\n",
       "      <td>1.111111</td>\n",
       "      <td>0.008206</td>\n",
       "    </tr>\n",
       "  </tbody>\n",
       "</table>\n",
       "</div>"
      ],
      "text/plain": [
       "             ID                                                 CC  \\\n",
       "0  NDARUG492VF0              0\n",
       "1    0.054258\n",
       "3    0.056806\n",
       "5   ...   \n",
       "1  NDARJH925ZCD               0\n",
       "5    -0.019697\n",
       "7     0.046304\n",
       "9...   \n",
       "2  NDARGR106TJB              0\n",
       "3    0.046197\n",
       "5    0.061559\n",
       "7   ...   \n",
       "3  NDARRK135YAZ              0\n",
       "1    0.034740\n",
       "3    0.046701\n",
       "5   ...   \n",
       "4  NDARRX443NVT              0\n",
       "2    0.046130\n",
       "4    0.066060\n",
       "6   ...   \n",
       "\n",
       "   FIX_IN_VID  FLAG VIDEO_NAME  \\\n",
       "0         357     0      Diary   \n",
       "1         545     0      Diary   \n",
       "2         338     0      Diary   \n",
       "3         479     0      Diary   \n",
       "4         359     0      Diary   \n",
       "\n",
       "                                             ET_FILE      SWAN        Age  \\\n",
       "0  ./data/ETFinalCutSample/NDARUG492VF0/NDARUG492... -0.333333   9.506958   \n",
       "1  ./data/ETFinalCutSample/NDARJH925ZCD/NDARJH925...  2.888888   9.964179   \n",
       "2  ./data/ETFinalCutSample/NDARGR106TJB/NDARGR106...       NaN  19.379648   \n",
       "3  ./data/ETFinalCutSample/NDARRK135YAZ/NDARRK135... -0.444444  17.732032   \n",
       "4  ./data/ETFinalCutSample/NDARRX443NVT/NDARRX443...  0.888888  12.058635   \n",
       "\n",
       "     SWAN_HY    SWAN_IN   CC_MEAN  \n",
       "0  -0.333333  -0.333333  0.009876  \n",
       "1          3   2.777777  0.010195  \n",
       "2          .          .  0.008049  \n",
       "3  -2.555555   1.666666  0.008404  \n",
       "4   0.666666   1.111111  0.008206  "
      ]
     },
     "execution_count": 60,
     "metadata": {},
     "output_type": "execute_result"
    }
   ],
   "source": [
    "metadata_aux = metadata[['ID','SWAN','Age','SWAN_HY','SWAN_IN']]\n",
    "df_cc = pd.DataFrame(results_cc)\n",
    "df_cc.columns = ['ID', 'CC', 'FIX_IN_VID', 'FLAG', 'VIDEO_NAME', 'ET_FILE']\n",
    "df_cc = pd.merge(df_cc, metadata_aux,on='ID')\n",
    "df_cc['CC_MEAN'] = df_cc['CC'].apply(lambda x: np.array(x).mean())\n",
    "df_cc['CC'] = df_cc['CC'].apply(lambda x: pd.DataFrame(x))\n",
    "df_cc.head()"
   ]
  },
  {
   "cell_type": "markdown",
   "id": "expired-alexandria",
   "metadata": {},
   "source": [
    "### save CC"
   ]
  },
  {
   "cell_type": "code",
   "execution_count": 16,
   "id": "english-syntax",
   "metadata": {},
   "outputs": [],
   "source": [
    "# save\n",
    "\n",
    "results_path = './results/CC/'\n",
    "df_cc.to_csv(results_path+'results_cc_swan_s01_finegrained.csv')\n",
    "df_cc.to_json(results_path+'results_cc_swan_s01_finegrained.json')"
   ]
  },
  {
   "cell_type": "markdown",
   "id": "finite-hormone",
   "metadata": {},
   "source": [
    "### load CC"
   ]
  },
  {
   "cell_type": "code",
   "execution_count": 21,
   "id": "confidential-thumb",
   "metadata": {},
   "outputs": [
    {
     "data": {
      "text/html": [
       "<div>\n",
       "<style scoped>\n",
       "    .dataframe tbody tr th:only-of-type {\n",
       "        vertical-align: middle;\n",
       "    }\n",
       "\n",
       "    .dataframe tbody tr th {\n",
       "        vertical-align: top;\n",
       "    }\n",
       "\n",
       "    .dataframe thead th {\n",
       "        text-align: right;\n",
       "    }\n",
       "</style>\n",
       "<table border=\"1\" class=\"dataframe\">\n",
       "  <thead>\n",
       "    <tr style=\"text-align: right;\">\n",
       "      <th></th>\n",
       "      <th>ID</th>\n",
       "      <th>CC</th>\n",
       "      <th>FIX_IN_VID</th>\n",
       "      <th>FLAG</th>\n",
       "      <th>VIDEO_NAME</th>\n",
       "      <th>ET_FILE</th>\n",
       "      <th>SWAN</th>\n",
       "      <th>Age</th>\n",
       "      <th>CC_MEAN</th>\n",
       "    </tr>\n",
       "  </thead>\n",
       "  <tbody>\n",
       "    <tr>\n",
       "      <th>0</th>\n",
       "      <td>NDARUG492VF0</td>\n",
       "      <td>0\n",
       "1    0.097183\n",
       "10   0.017125\n",
       "100 ...</td>\n",
       "      <td>357</td>\n",
       "      <td>0</td>\n",
       "      <td>Diary</td>\n",
       "      <td>./data/ETFinalCutSample/NDARUG492VF0/NDARUG492...</td>\n",
       "      <td>-0.333333</td>\n",
       "      <td>9.506958</td>\n",
       "      <td>0.048263</td>\n",
       "    </tr>\n",
       "    <tr>\n",
       "      <th>1</th>\n",
       "      <td>NDARJH925ZCD</td>\n",
       "      <td>0\n",
       "1001 -0.002297\n",
       "1003 -0.008134\n",
       "1...</td>\n",
       "      <td>545</td>\n",
       "      <td>0</td>\n",
       "      <td>Diary</td>\n",
       "      <td>./data/ETFinalCutSample/NDARJH925ZCD/NDARJH925...</td>\n",
       "      <td>2.888888</td>\n",
       "      <td>9.964179</td>\n",
       "      <td>0.044393</td>\n",
       "    </tr>\n",
       "    <tr>\n",
       "      <th>2</th>\n",
       "      <td>NDARGR106TJB</td>\n",
       "      <td>0\n",
       "101  0.061725\n",
       "103  0.061533\n",
       "105 ...</td>\n",
       "      <td>338</td>\n",
       "      <td>0</td>\n",
       "      <td>Diary</td>\n",
       "      <td>./data/ETFinalCutSample/NDARGR106TJB/NDARGR106...</td>\n",
       "      <td>NaN</td>\n",
       "      <td>19.379648</td>\n",
       "      <td>0.048965</td>\n",
       "    </tr>\n",
       "    <tr>\n",
       "      <th>3</th>\n",
       "      <td>NDARRK135YAZ</td>\n",
       "      <td>0\n",
       "1    0.000349\n",
       "100  0.049007\n",
       "102 ...</td>\n",
       "      <td>479</td>\n",
       "      <td>0</td>\n",
       "      <td>Diary</td>\n",
       "      <td>./data/ETFinalCutSample/NDARRK135YAZ/NDARRK135...</td>\n",
       "      <td>-0.444444</td>\n",
       "      <td>17.732032</td>\n",
       "      <td>0.052455</td>\n",
       "    </tr>\n",
       "    <tr>\n",
       "      <th>4</th>\n",
       "      <td>NDARRX443NVT</td>\n",
       "      <td>0\n",
       "101  0.047059\n",
       "105  0.041879\n",
       "107 ...</td>\n",
       "      <td>359</td>\n",
       "      <td>0</td>\n",
       "      <td>Diary</td>\n",
       "      <td>./data/ETFinalCutSample/NDARRX443NVT/NDARRX443...</td>\n",
       "      <td>0.888888</td>\n",
       "      <td>12.058635</td>\n",
       "      <td>0.047281</td>\n",
       "    </tr>\n",
       "  </tbody>\n",
       "</table>\n",
       "</div>"
      ],
      "text/plain": [
       "             ID                                                 CC  \\\n",
       "0  NDARUG492VF0              0\n",
       "1    0.097183\n",
       "10   0.017125\n",
       "100 ...   \n",
       "1  NDARJH925ZCD               0\n",
       "1001 -0.002297\n",
       "1003 -0.008134\n",
       "1...   \n",
       "2  NDARGR106TJB              0\n",
       "101  0.061725\n",
       "103  0.061533\n",
       "105 ...   \n",
       "3  NDARRK135YAZ              0\n",
       "1    0.000349\n",
       "100  0.049007\n",
       "102 ...   \n",
       "4  NDARRX443NVT              0\n",
       "101  0.047059\n",
       "105  0.041879\n",
       "107 ...   \n",
       "\n",
       "   FIX_IN_VID  FLAG VIDEO_NAME  \\\n",
       "0         357     0      Diary   \n",
       "1         545     0      Diary   \n",
       "2         338     0      Diary   \n",
       "3         479     0      Diary   \n",
       "4         359     0      Diary   \n",
       "\n",
       "                                             ET_FILE      SWAN        Age  \\\n",
       "0  ./data/ETFinalCutSample/NDARUG492VF0/NDARUG492... -0.333333   9.506958   \n",
       "1  ./data/ETFinalCutSample/NDARJH925ZCD/NDARJH925...  2.888888   9.964179   \n",
       "2  ./data/ETFinalCutSample/NDARGR106TJB/NDARGR106...       NaN  19.379648   \n",
       "3  ./data/ETFinalCutSample/NDARRK135YAZ/NDARRK135... -0.444444  17.732032   \n",
       "4  ./data/ETFinalCutSample/NDARRX443NVT/NDARRX443...  0.888888  12.058635   \n",
       "\n",
       "    CC_MEAN  \n",
       "0  0.048263  \n",
       "1  0.044393  \n",
       "2  0.048965  \n",
       "3  0.052455  \n",
       "4  0.047281  "
      ]
     },
     "execution_count": 21,
     "metadata": {},
     "output_type": "execute_result"
    }
   ],
   "source": [
    "# load\n",
    "\n",
    "results_path = './results/CC/'\n",
    "df_cc = pd.read_json(results_path+'results_cc_swan_s03.json')\n",
    "df_cc['CC'] = df_cc['CC'].apply(lambda x: pd.DataFrame(x,dtype=float))\n",
    "\n",
    "df_cc.head()"
   ]
  },
  {
   "cell_type": "code",
   "execution_count": 22,
   "id": "documentary-attraction",
   "metadata": {},
   "outputs": [],
   "source": [
    "# merge other swans and sex\n",
    "\n",
    "df_cc = df_cc.merge(metadata[['ID','SWAN_IN','SWAN_HY']], on='ID', how='left').dropna(axis = 0, subset=['SWAN'])\n",
    "df_cc.SWAN_IN = df_cc.SWAN_IN.astype(float)\n",
    "df_cc.SWAN_HY = df_cc.SWAN_HY.astype(float)\n",
    "# g = sns.jointplot(data=df_cc, x='SWAN_IN', y='CC_MEAN');\n",
    "\n",
    "# g.set_xticks([]) # <--- set the ticks first\n",
    "# g.set_xticklabels(['2011','2012','2013','2014','2015','2016','2017','2018'])"
   ]
  },
  {
   "cell_type": "code",
   "execution_count": 23,
   "id": "encouraging-boost",
   "metadata": {},
   "outputs": [
    {
     "data": {
      "image/png": "[encoded data removed]",
      "text/plain": [
       "<Figure size 432x432 with 3 Axes>"
      ]
     },
     "metadata": {
      "needs_background": "light"
     },
     "output_type": "display_data"
    }
   ],
   "source": [
    "sns.jointplot(data=df_cc, x='SWAN_HY', y='CC_MEAN');"
   ]
  },
  {
   "cell_type": "code",
   "execution_count": 24,
   "id": "recreational-vinyl",
   "metadata": {},
   "outputs": [
    {
     "data": {
      "image/png": "[encoded data removed]",
      "text/plain": [
       "<Figure size 432x432 with 3 Axes>"
      ]
     },
     "metadata": {
      "needs_background": "light"
     },
     "output_type": "display_data"
    }
   ],
   "source": [
    "sns.jointplot(data=df_cc, x='SWAN_IN', y='CC_MEAN');"
   ]
  },
  {
   "cell_type": "code",
   "execution_count": 20,
   "id": "compliant-vertex",
   "metadata": {
    "tags": []
   },
   "outputs": [],
   "source": [
    "# only for merging timestamps\n",
    "\n",
    "cc_times = []\n",
    "for idx, row in df_cc.iterrows():\n",
    "    df_aux = pd.read_csv(row.ET_FILE)\n",
    "    #display(df_aux.start_time.index)\n",
    "    #display(row.CC.index)\n",
    "    index_aux = row.CC.index.astype(int)\n",
    "    row.CC.set_index(index_aux, inplace=True)\n",
    "    cc_times.append(((row.CC).sort_index()).merge(df_aux.start_time, how = 'left',left_index = True, right_index = True).reset_index())"
   ]
  },
  {
   "cell_type": "code",
   "execution_count": 21,
   "id": "broke-coupon",
   "metadata": {},
   "outputs": [
    {
     "data": {
      "text/html": [
       "<div>\n",
       "<style scoped>\n",
       "    .dataframe tbody tr th:only-of-type {\n",
       "        vertical-align: middle;\n",
       "    }\n",
       "\n",
       "    .dataframe tbody tr th {\n",
       "        vertical-align: top;\n",
       "    }\n",
       "\n",
       "    .dataframe thead th {\n",
       "        text-align: right;\n",
       "    }\n",
       "</style>\n",
       "<table border=\"1\" class=\"dataframe\">\n",
       "  <thead>\n",
       "    <tr style=\"text-align: right;\">\n",
       "      <th></th>\n",
       "      <th>index</th>\n",
       "      <th>0</th>\n",
       "      <th>start_time</th>\n",
       "    </tr>\n",
       "  </thead>\n",
       "  <tbody>\n",
       "    <tr>\n",
       "      <th>0</th>\n",
       "      <td>7</td>\n",
       "      <td>0.045563</td>\n",
       "      <td>410.163</td>\n",
       "    </tr>\n",
       "    <tr>\n",
       "      <th>1</th>\n",
       "      <td>9</td>\n",
       "      <td>0.054663</td>\n",
       "      <td>593.677</td>\n",
       "    </tr>\n",
       "    <tr>\n",
       "      <th>2</th>\n",
       "      <td>11</td>\n",
       "      <td>0.048694</td>\n",
       "      <td>760.550</td>\n",
       "    </tr>\n",
       "    <tr>\n",
       "      <th>3</th>\n",
       "      <td>13</td>\n",
       "      <td>0.056558</td>\n",
       "      <td>960.693</td>\n",
       "    </tr>\n",
       "    <tr>\n",
       "      <th>4</th>\n",
       "      <td>15</td>\n",
       "      <td>0.057001</td>\n",
       "      <td>1052.443</td>\n",
       "    </tr>\n",
       "    <tr>\n",
       "      <th>...</th>\n",
       "      <td>...</td>\n",
       "      <td>...</td>\n",
       "      <td>...</td>\n",
       "    </tr>\n",
       "    <tr>\n",
       "      <th>472</th>\n",
       "      <td>980</td>\n",
       "      <td>-0.017773</td>\n",
       "      <td>115961.886</td>\n",
       "    </tr>\n",
       "    <tr>\n",
       "      <th>473</th>\n",
       "      <td>982</td>\n",
       "      <td>0.060840</td>\n",
       "      <td>116203.750</td>\n",
       "    </tr>\n",
       "    <tr>\n",
       "      <th>474</th>\n",
       "      <td>984</td>\n",
       "      <td>0.074480</td>\n",
       "      <td>116437.378</td>\n",
       "    </tr>\n",
       "    <tr>\n",
       "      <th>475</th>\n",
       "      <td>986</td>\n",
       "      <td>0.000000</td>\n",
       "      <td>116804.369</td>\n",
       "    </tr>\n",
       "    <tr>\n",
       "      <th>476</th>\n",
       "      <td>988</td>\n",
       "      <td>0.000000</td>\n",
       "      <td>117021.255</td>\n",
       "    </tr>\n",
       "  </tbody>\n",
       "</table>\n",
       "<p>477 rows × 3 columns</p>\n",
       "</div>"
      ],
      "text/plain": [
       "     index         0  start_time\n",
       "0        7  0.045563     410.163\n",
       "1        9  0.054663     593.677\n",
       "2       11  0.048694     760.550\n",
       "3       13  0.056558     960.693\n",
       "4       15  0.057001    1052.443\n",
       "..     ...       ...         ...\n",
       "472    980 -0.017773  115961.886\n",
       "473    982  0.060840  116203.750\n",
       "474    984  0.074480  116437.378\n",
       "475    986  0.000000  116804.369\n",
       "476    988  0.000000  117021.255\n",
       "\n",
       "[477 rows x 3 columns]"
      ]
     },
     "execution_count": 21,
     "metadata": {},
     "output_type": "execute_result"
    }
   ],
   "source": [
    "df_cc['CC'] = pd.Series(cc_times)\n",
    "df_cc['CC'].iloc[576]"
   ]
  },
  {
   "cell_type": "markdown",
   "id": "deluxe-trigger",
   "metadata": {},
   "source": [
    "Hasta aca toda la triquiñuela para acomodar los tiempos para tener las series temporales"
   ]
  },
  {
   "cell_type": "code",
   "execution_count": 22,
   "id": "quantitative-glossary",
   "metadata": {},
   "outputs": [
    {
     "data": {
      "text/plain": [
       "<Figure size 792x648 with 0 Axes>"
      ]
     },
     "metadata": {},
     "output_type": "display_data"
    },
    {
     "data": {
      "image/png": "[encoded data removed]",
      "text/plain": [
       "<Figure size 432x432 with 3 Axes>"
      ]
     },
     "metadata": {
      "needs_background": "light"
     },
     "output_type": "display_data"
    }
   ],
   "source": [
    "plt.figure(figsize=(11,9))\n",
    "sns.jointplot(x='CC_MEAN',y='SWAN',data=df_cc);\n",
    "# plt.savefig('figs/CC/scatter_swan_CC_video_{}.jpg'.format(vid_name))"
   ]
  },
  {
   "cell_type": "code",
   "execution_count": 23,
   "id": "reserved-trunk",
   "metadata": {},
   "outputs": [
    {
     "data": {
      "text/plain": [
       "<Figure size 792x648 with 0 Axes>"
      ]
     },
     "metadata": {},
     "output_type": "display_data"
    },
    {
     "data": {
      "image/png": "[encoded data removed]",
      "text/plain": [
       "<Figure size 432x432 with 3 Axes>"
      ]
     },
     "metadata": {
      "needs_background": "light"
     },
     "output_type": "display_data"
    }
   ],
   "source": [
    "plt.figure(figsize=(11,9))\n",
    "sns.jointplot(data=df_cc, x='FIX_IN_VID', y='CC_MEAN');\n",
    "# plt.savefig('figs/CC/scatter_swan_nfix_CC_video_{}.jpg'.format(vid_name))"
   ]
  },
  {
   "cell_type": "code",
   "execution_count": 24,
   "id": "loving-understanding",
   "metadata": {},
   "outputs": [
    {
     "data": {
      "image/png": "[encoded data removed]",
      "text/plain": [
       "<Figure size 720x504 with 1 Axes>"
      ]
     },
     "metadata": {
      "needs_background": "light"
     },
     "output_type": "display_data"
    }
   ],
   "source": [
    "swan_median_bins = np.digitize(df_cc.SWAN, bins=[df_cc.SWAN.median()])\n",
    "df_cc['median_split'] = swan_median_bins\n",
    "\n",
    "fig_dims = (10, 7)\n",
    "fig, ax = plt.subplots(figsize=fig_dims)\n",
    "sns.boxplot(y = 'CC_MEAN', x = 'median_split', data = df_cc,ax=ax)\n",
    "\n",
    "labels = ['Below median', 'Above median']\n",
    "ax.axes.set_xticklabels(labels);\n",
    "\n",
    "# plt.savefig('figs/CC/boxplot_CC_median_split_swan_video_{}.jpg'.format(vid_name))"
   ]
  },
  {
   "cell_type": "code",
   "execution_count": 58,
   "id": "valuable-mouth",
   "metadata": {},
   "outputs": [
    {
     "data": {
      "image/png": "[encoded data removed]",
      "text/plain": [
       "<Figure size 720x504 with 1 Axes>"
      ]
     },
     "metadata": {},
     "output_type": "display_data"
    }
   ],
   "source": [
    "swan_bins = np.digitize(df_nss.SWAN,bins=[-0.51, 0.51])\n",
    "labels = ['Below 0', 'Swan 0', 'Above 0']\n",
    "df_cc['SWAN_bins'] = swan_bins\n",
    "fig_dims = (10, 7)\n",
    "fig, ax = plt.subplots(figsize=fig_dims)\n",
    "sns.boxplot(y = 'CC_MEAN', x = 'SWAN_bins', data = df_cc,ax=ax);\n",
    "ax.axes.set_xticklabels(labels);\n",
    "ax.set_title(\"Mean CC grouped by SWAN\");"
   ]
  },
  {
   "cell_type": "code",
   "execution_count": 25,
   "id": "confidential-douglas",
   "metadata": {},
   "outputs": [
    {
     "data": {
      "text/plain": [
       "<Figure size 792x648 with 0 Axes>"
      ]
     },
     "metadata": {},
     "output_type": "display_data"
    },
    {
     "data": {
      "image/png": "[encoded data removed]",
      "text/plain": [
       "<Figure size 432x432 with 3 Axes>"
      ]
     },
     "metadata": {
      "needs_background": "light"
     },
     "output_type": "display_data"
    }
   ],
   "source": [
    "# pintar con edad / swan vs edad - color nss\n",
    "plt.figure(figsize=(11,9))\n",
    "sns.jointplot(data=df_cc, x='FIX_IN_VID', y='CC_MEAN', hue='median_split');\n",
    "# plt.savefig('figs/CC/scatter_swan_nfix_CC_video_{}.jpg'.format(vid_name))"
   ]
  },
  {
   "cell_type": "code",
   "execution_count": 26,
   "id": "differential-confidence",
   "metadata": {},
   "outputs": [
    {
     "data": {
      "text/plain": [
       "<Figure size 792x648 with 0 Axes>"
      ]
     },
     "metadata": {},
     "output_type": "display_data"
    },
    {
     "data": {
      "image/png": "[encoded data removed]",
      "text/plain": [
       "<Figure size 432x432 with 3 Axes>"
      ]
     },
     "metadata": {
      "needs_background": "light"
     },
     "output_type": "display_data"
    }
   ],
   "source": [
    "plt.figure(figsize=(11,9))\n",
    "sns.jointplot(data=df_cc, x='Age', y='CC_MEAN', hue='median_split');\n",
    "# plt.savefig('figs/CC/scatter_swan_age_CC_video_{}.jpg'.format(vid_name))"
   ]
  },
  {
   "cell_type": "markdown",
   "id": "strategic-wellington",
   "metadata": {},
   "source": [
    "***\n",
    "## NSS"
   ]
  },
  {
   "cell_type": "code",
   "execution_count": 17,
   "id": "fifteen-following",
   "metadata": {},
   "outputs": [
    {
     "data": {
      "application/vnd.jupyter.widget-view+json": {
       "model_id": "e720d41bc8cd4adb9e6e1817dc3e2dd6",
       "version_major": 2,
       "version_minor": 0
      },
      "text/plain": [
       "  0%|          | 0/1362 [00:00<?, ?it/s]"
      ]
     },
     "metadata": {},
     "output_type": "display_data"
    }
   ],
   "source": [
    "# NSS\n",
    "vid_name = 'Diary'\n",
    "trials_data_vid = trials_data[trials_data.VideoName==vid_name]\n",
    "\n",
    "# vid_saliency   = videos_data.loc[vid_name, 'VideoSaliency']\n",
    "# vid_saliency_p = videos_data.loc[vid_name, 'VideoSalPercentils']\n",
    "# saliency       = open_memmap('Videos_sal/cb/'+vid_saliency)\n",
    "# sal_perc       = np.load('./cache/'+vid_saliency_p)\n",
    "\n",
    "missing_folders  = []\n",
    "missing_csv_vid  = []\n",
    "missing_metadata = []\n",
    "results_nss      = []\n",
    "\n",
    "n_subj     = len(trials_data_vid)\n",
    "subj_count = 0\n",
    "\n",
    "for fold_subj in tqdm(os.listdir(data_path)):\n",
    "    if fold_subj in list(metadata['ID'].unique()):\n",
    "        pass\n",
    "    else:\n",
    "        missing_metadata.append(fold_subj)\n",
    "        continue\n",
    "        \n",
    "    csv_files    = os.listdir(data_path+fold_subj)\n",
    "    csv_vid_file = [f for f in csv_files if 'WK' in f]\n",
    "    if len(csv_vid_file) ==0:\n",
    "        missing_csv_vid.append(fold_subj)\n",
    "        continue\n",
    "        \n",
    "    et_file      = data_path + fold_subj + '/' + csv_vid_file[0]\n",
    "    df_et        = pd.read_csv(et_file)\n",
    "    frame_timest = videos_data.loc[vid_name,'FramesTimestamps']\n",
    "    trial_init   = trials_data.loc[fold_subj].set_index('VideoName').loc[vid_name].Start\n",
    "    df_fix, flag = preprocess_fixations_new_dataset(df_et, frame_timest, trial_init)\n",
    "    if flag==-1:\n",
    "        continue\n",
    "    else:\n",
    "        nss_score = calculate_NSS(df_fix, saliency)\n",
    "        nss_mean_score = np.mean(np.array(nss_score))\n",
    "    \n",
    "    results_nss.append((fold_subj, nss_mean_score, len(df_fix), flag, vid_name, et_file, nss_score))"
   ]
  },
  {
   "cell_type": "code",
   "execution_count": 18,
   "id": "digital-baghdad",
   "metadata": {},
   "outputs": [
    {
     "data": {
      "text/html": [
       "<div>\n",
       "<style scoped>\n",
       "    .dataframe tbody tr th:only-of-type {\n",
       "        vertical-align: middle;\n",
       "    }\n",
       "\n",
       "    .dataframe tbody tr th {\n",
       "        vertical-align: top;\n",
       "    }\n",
       "\n",
       "    .dataframe thead th {\n",
       "        text-align: right;\n",
       "    }\n",
       "</style>\n",
       "<table border=\"1\" class=\"dataframe\">\n",
       "  <thead>\n",
       "    <tr style=\"text-align: right;\">\n",
       "      <th></th>\n",
       "      <th>ID</th>\n",
       "      <th>NSS_MEAN</th>\n",
       "      <th>FIX_IN_VID</th>\n",
       "      <th>FLAG</th>\n",
       "      <th>VIDEO_NAME</th>\n",
       "      <th>ET_FILE</th>\n",
       "      <th>NSS</th>\n",
       "      <th>SWAN</th>\n",
       "      <th>Age</th>\n",
       "    </tr>\n",
       "  </thead>\n",
       "  <tbody>\n",
       "    <tr>\n",
       "      <th>0</th>\n",
       "      <td>NDARUG492VF0</td>\n",
       "      <td>0.275558</td>\n",
       "      <td>357</td>\n",
       "      <td>0</td>\n",
       "      <td>Diary</td>\n",
       "      <td>./data/ETFinalCutSample/NDARUG492VF0/NDARUG492...</td>\n",
       "      <td>[4.7991614, 2.705862, 1.3183514, -0.01890319, ...</td>\n",
       "      <td>-0.333333</td>\n",
       "      <td>9.506958</td>\n",
       "    </tr>\n",
       "    <tr>\n",
       "      <th>1</th>\n",
       "      <td>NDARJH925ZCD</td>\n",
       "      <td>0.264806</td>\n",
       "      <td>545</td>\n",
       "      <td>0</td>\n",
       "      <td>Diary</td>\n",
       "      <td>./data/ETFinalCutSample/NDARJH925ZCD/NDARJH925...</td>\n",
       "      <td>[-0.3963129, 0.8899732, 2.1758342, 0.4855892, ...</td>\n",
       "      <td>2.888888</td>\n",
       "      <td>9.964179</td>\n",
       "    </tr>\n",
       "    <tr>\n",
       "      <th>2</th>\n",
       "      <td>NDARGR106TJB</td>\n",
       "      <td>0.254832</td>\n",
       "      <td>338</td>\n",
       "      <td>0</td>\n",
       "      <td>Diary</td>\n",
       "      <td>./data/ETFinalCutSample/NDARGR106TJB/NDARGR106...</td>\n",
       "      <td>[4.16822, 4.344761, 4.622182, 2.2003243, 0.107...</td>\n",
       "      <td>NaN</td>\n",
       "      <td>19.379648</td>\n",
       "    </tr>\n",
       "    <tr>\n",
       "      <th>3</th>\n",
       "      <td>NDARRK135YAZ</td>\n",
       "      <td>0.293484</td>\n",
       "      <td>479</td>\n",
       "      <td>0</td>\n",
       "      <td>Diary</td>\n",
       "      <td>./data/ETFinalCutSample/NDARRK135YAZ/NDARRK135...</td>\n",
       "      <td>[0.9909269, 0.0072297263, 0.25944558, 2.781116...</td>\n",
       "      <td>-0.444444</td>\n",
       "      <td>17.732032</td>\n",
       "    </tr>\n",
       "    <tr>\n",
       "      <th>4</th>\n",
       "      <td>NDARRX443NVT</td>\n",
       "      <td>0.225326</td>\n",
       "      <td>359</td>\n",
       "      <td>0</td>\n",
       "      <td>Diary</td>\n",
       "      <td>./data/ETFinalCutSample/NDARRX443NVT/NDARRX443...</td>\n",
       "      <td>[1.0665051, 0.91483015, 5.000483, 0.08212221, ...</td>\n",
       "      <td>0.888888</td>\n",
       "      <td>12.058635</td>\n",
       "    </tr>\n",
       "  </tbody>\n",
       "</table>\n",
       "</div>"
      ],
      "text/plain": [
       "             ID  NSS_MEAN  FIX_IN_VID  FLAG VIDEO_NAME  \\\n",
       "0  NDARUG492VF0  0.275558         357     0      Diary   \n",
       "1  NDARJH925ZCD  0.264806         545     0      Diary   \n",
       "2  NDARGR106TJB  0.254832         338     0      Diary   \n",
       "3  NDARRK135YAZ  0.293484         479     0      Diary   \n",
       "4  NDARRX443NVT  0.225326         359     0      Diary   \n",
       "\n",
       "                                             ET_FILE  \\\n",
       "0  ./data/ETFinalCutSample/NDARUG492VF0/NDARUG492...   \n",
       "1  ./data/ETFinalCutSample/NDARJH925ZCD/NDARJH925...   \n",
       "2  ./data/ETFinalCutSample/NDARGR106TJB/NDARGR106...   \n",
       "3  ./data/ETFinalCutSample/NDARRK135YAZ/NDARRK135...   \n",
       "4  ./data/ETFinalCutSample/NDARRX443NVT/NDARRX443...   \n",
       "\n",
       "                                                 NSS      SWAN        Age  \n",
       "0  [4.7991614, 2.705862, 1.3183514, -0.01890319, ... -0.333333   9.506958  \n",
       "1  [-0.3963129, 0.8899732, 2.1758342, 0.4855892, ...  2.888888   9.964179  \n",
       "2  [4.16822, 4.344761, 4.622182, 2.2003243, 0.107...       NaN  19.379648  \n",
       "3  [0.9909269, 0.0072297263, 0.25944558, 2.781116... -0.444444  17.732032  \n",
       "4  [1.0665051, 0.91483015, 5.000483, 0.08212221, ...  0.888888  12.058635  "
      ]
     },
     "execution_count": 18,
     "metadata": {},
     "output_type": "execute_result"
    }
   ],
   "source": [
    "df_nss = pd.DataFrame(results_nss)\n",
    "df_nss.columns = ['ID', 'NSS_MEAN', 'FIX_IN_VID', 'FLAG', 'VIDEO_NAME', 'ET_FILE', 'NSS']\n",
    "df_nss = pd.merge(df_nss, metadata_aux,on='ID')\n",
    "df_nss.head()"
   ]
  },
  {
   "cell_type": "markdown",
   "id": "nasty-giving",
   "metadata": {},
   "source": [
    "### save nss"
   ]
  },
  {
   "cell_type": "code",
   "execution_count": 19,
   "id": "clear-geology",
   "metadata": {},
   "outputs": [],
   "source": [
    "# save\n",
    "results_path = './results/NSS/'\n",
    "\n",
    "df_nss.to_csv(results_path+'results_nss_swan_finegrained.csv')\n",
    "df_nss.to_json(results_path+'results_nss_swan_finegrained.json')"
   ]
  },
  {
   "cell_type": "markdown",
   "id": "cross-patch",
   "metadata": {},
   "source": [
    "### load nss"
   ]
  },
  {
   "cell_type": "code",
   "execution_count": 10,
   "id": "broke-appeal",
   "metadata": {},
   "outputs": [
    {
     "data": {
      "text/html": [
       "<div>\n",
       "<style scoped>\n",
       "    .dataframe tbody tr th:only-of-type {\n",
       "        vertical-align: middle;\n",
       "    }\n",
       "\n",
       "    .dataframe tbody tr th {\n",
       "        vertical-align: top;\n",
       "    }\n",
       "\n",
       "    .dataframe thead th {\n",
       "        text-align: right;\n",
       "    }\n",
       "</style>\n",
       "<table border=\"1\" class=\"dataframe\">\n",
       "  <thead>\n",
       "    <tr style=\"text-align: right;\">\n",
       "      <th></th>\n",
       "      <th>ID</th>\n",
       "      <th>NSS_MEAN</th>\n",
       "      <th>FIX_IN_VID</th>\n",
       "      <th>FLAG</th>\n",
       "      <th>VIDEO_NAME</th>\n",
       "      <th>ET_FILE</th>\n",
       "      <th>NSS</th>\n",
       "      <th>SWAN</th>\n",
       "      <th>Age</th>\n",
       "      <th>SWAN_bins</th>\n",
       "      <th>median_split</th>\n",
       "    </tr>\n",
       "  </thead>\n",
       "  <tbody>\n",
       "    <tr>\n",
       "      <th>0</th>\n",
       "      <td>NDARUG492VF0</td>\n",
       "      <td>1.611673</td>\n",
       "      <td>357</td>\n",
       "      <td>0</td>\n",
       "      <td>Diary</td>\n",
       "      <td>./data/ETFinalCutSample/NDARUG492VF0/NDARUG492...</td>\n",
       "      <td>0\n",
       "0    4.027165\n",
       "1    7.050632\n",
       "2   ...</td>\n",
       "      <td>-0.333333</td>\n",
       "      <td>9.506958</td>\n",
       "      <td>1</td>\n",
       "      <td>0</td>\n",
       "    </tr>\n",
       "    <tr>\n",
       "      <th>1</th>\n",
       "      <td>NDARJH925ZCD</td>\n",
       "      <td>1.436792</td>\n",
       "      <td>545</td>\n",
       "      <td>0</td>\n",
       "      <td>Diary</td>\n",
       "      <td>./data/ETFinalCutSample/NDARJH925ZCD/NDARJH925...</td>\n",
       "      <td>0\n",
       "0   -0.293100\n",
       "1    0.255356\n",
       "2   ...</td>\n",
       "      <td>2.888888</td>\n",
       "      <td>9.964179</td>\n",
       "      <td>2</td>\n",
       "      <td>1</td>\n",
       "    </tr>\n",
       "    <tr>\n",
       "      <th>2</th>\n",
       "      <td>NDARGR106TJB</td>\n",
       "      <td>0.847001</td>\n",
       "      <td>338</td>\n",
       "      <td>0</td>\n",
       "      <td>Diary</td>\n",
       "      <td>./data/ETFinalCutSample/NDARGR106TJB/NDARGR106...</td>\n",
       "      <td>0\n",
       "0    5.186548\n",
       "1    3.967170\n",
       "2   ...</td>\n",
       "      <td>NaN</td>\n",
       "      <td>19.379648</td>\n",
       "      <td>2</td>\n",
       "      <td>1</td>\n",
       "    </tr>\n",
       "    <tr>\n",
       "      <th>3</th>\n",
       "      <td>NDARRK135YAZ</td>\n",
       "      <td>1.687932</td>\n",
       "      <td>479</td>\n",
       "      <td>0</td>\n",
       "      <td>Diary</td>\n",
       "      <td>./data/ETFinalCutSample/NDARRK135YAZ/NDARRK135...</td>\n",
       "      <td>0\n",
       "0    0.174388\n",
       "1    2.850009\n",
       "2   ...</td>\n",
       "      <td>-0.444444</td>\n",
       "      <td>17.732032</td>\n",
       "      <td>1</td>\n",
       "      <td>0</td>\n",
       "    </tr>\n",
       "    <tr>\n",
       "      <th>4</th>\n",
       "      <td>NDARRX443NVT</td>\n",
       "      <td>1.416979</td>\n",
       "      <td>359</td>\n",
       "      <td>0</td>\n",
       "      <td>Diary</td>\n",
       "      <td>./data/ETFinalCutSample/NDARRX443NVT/NDARRX443...</td>\n",
       "      <td>0\n",
       "0    0.347190\n",
       "1    0.276754\n",
       "2   ...</td>\n",
       "      <td>0.888888</td>\n",
       "      <td>12.058635</td>\n",
       "      <td>2</td>\n",
       "      <td>1</td>\n",
       "    </tr>\n",
       "  </tbody>\n",
       "</table>\n",
       "</div>"
      ],
      "text/plain": [
       "             ID  NSS_MEAN  FIX_IN_VID  FLAG VIDEO_NAME  \\\n",
       "0  NDARUG492VF0  1.611673         357     0      Diary   \n",
       "1  NDARJH925ZCD  1.436792         545     0      Diary   \n",
       "2  NDARGR106TJB  0.847001         338     0      Diary   \n",
       "3  NDARRK135YAZ  1.687932         479     0      Diary   \n",
       "4  NDARRX443NVT  1.416979         359     0      Diary   \n",
       "\n",
       "                                             ET_FILE  \\\n",
       "0  ./data/ETFinalCutSample/NDARUG492VF0/NDARUG492...   \n",
       "1  ./data/ETFinalCutSample/NDARJH925ZCD/NDARJH925...   \n",
       "2  ./data/ETFinalCutSample/NDARGR106TJB/NDARGR106...   \n",
       "3  ./data/ETFinalCutSample/NDARRK135YAZ/NDARRK135...   \n",
       "4  ./data/ETFinalCutSample/NDARRX443NVT/NDARRX443...   \n",
       "\n",
       "                                                 NSS      SWAN        Age  \\\n",
       "0              0\n",
       "0    4.027165\n",
       "1    7.050632\n",
       "2   ... -0.333333   9.506958   \n",
       "1              0\n",
       "0   -0.293100\n",
       "1    0.255356\n",
       "2   ...  2.888888   9.964179   \n",
       "2              0\n",
       "0    5.186548\n",
       "1    3.967170\n",
       "2   ...       NaN  19.379648   \n",
       "3              0\n",
       "0    0.174388\n",
       "1    2.850009\n",
       "2   ... -0.444444  17.732032   \n",
       "4              0\n",
       "0    0.347190\n",
       "1    0.276754\n",
       "2   ...  0.888888  12.058635   \n",
       "\n",
       "   SWAN_bins  median_split  \n",
       "0          1             0  \n",
       "1          2             1  \n",
       "2          2             1  \n",
       "3          1             0  \n",
       "4          2             1  "
      ]
     },
     "execution_count": 10,
     "metadata": {},
     "output_type": "execute_result"
    }
   ],
   "source": [
    "results_path = './results/NSS/'\n",
    "df_nss = pd.read_json(results_path+'results_nss_swan.json')\n",
    "df_nss['NSS'] = df_nss['NSS'].apply(lambda x: pd.DataFrame(x,dtype=float))\n",
    "\n",
    "df_nss.head()"
   ]
  },
  {
   "cell_type": "code",
   "execution_count": 26,
   "id": "virgin-guitar",
   "metadata": {},
   "outputs": [],
   "source": [
    "len_nss = df_nss.NSS.apply(len)"
   ]
  },
  {
   "cell_type": "code",
   "execution_count": 27,
   "id": "arctic-advocacy",
   "metadata": {},
   "outputs": [
    {
     "data": {
      "image/png": "[encoded data removed]",
      "text/plain": [
       "<Figure size 432x288 with 1 Axes>"
      ]
     },
     "metadata": {},
     "output_type": "display_data"
    }
   ],
   "source": [
    "sns.set_style(\"darkgrid\")\n",
    "df_nss.NSS_MEAN.hist();"
   ]
  },
  {
   "cell_type": "code",
   "execution_count": 28,
   "id": "western-joyce",
   "metadata": {},
   "outputs": [
    {
     "data": {
      "text/plain": [
       "<Figure size 792x648 with 0 Axes>"
      ]
     },
     "metadata": {},
     "output_type": "display_data"
    },
    {
     "data": {
      "image/png": "[encoded data removed]",
      "text/plain": [
       "<Figure size 432x432 with 3 Axes>"
      ]
     },
     "metadata": {},
     "output_type": "display_data"
    }
   ],
   "source": [
    "plt.figure(figsize=(11,9))\n",
    "sns.jointplot(x='NSS_MEAN',y='SWAN',data=df_nss);\n",
    "# plt.savefig('figs/NSS/scatter_swan_NSS_video_{}.jpg'.format(vid_name))"
   ]
  },
  {
   "cell_type": "code",
   "execution_count": 29,
   "id": "activated-scene",
   "metadata": {},
   "outputs": [],
   "source": [
    "# load other swans\n",
    "df_nss = df_nss.merge(metadata[['ID','SWAN_IN','SWAN_HY']], on='ID', how='left').dropna(axis = 0, subset=['SWAN'])\n",
    "df_nss.SWAN_IN = df_nss.SWAN_IN.astype(float)\n",
    "df_nss.SWAN_HY = df_nss.SWAN_HY.astype(float)"
   ]
  },
  {
   "cell_type": "code",
   "execution_count": 30,
   "id": "finite-alexander",
   "metadata": {},
   "outputs": [
    {
     "data": {
      "image/png": "[encoded data removed]",
      "text/plain": [
       "<Figure size 432x432 with 3 Axes>"
      ]
     },
     "metadata": {},
     "output_type": "display_data"
    }
   ],
   "source": [
    "sns.jointplot(data=df_nss, x='SWAN_HY', y='NSS_MEAN');"
   ]
  },
  {
   "cell_type": "code",
   "execution_count": 31,
   "id": "mounted-factor",
   "metadata": {},
   "outputs": [
    {
     "data": {
      "image/png": "[encoded data removed]",
      "text/plain": [
       "<Figure size 432x432 with 3 Axes>"
      ]
     },
     "metadata": {},
     "output_type": "display_data"
    }
   ],
   "source": [
    "sns.jointplot(data=df_nss, x='SWAN_IN', y='NSS_MEAN');"
   ]
  },
  {
   "cell_type": "code",
   "execution_count": 37,
   "id": "taken-narrative",
   "metadata": {},
   "outputs": [
    {
     "data": {
      "text/plain": [
       "<Figure size 792x648 with 0 Axes>"
      ]
     },
     "metadata": {},
     "output_type": "display_data"
    },
    {
     "data": {
      "image/png": "[encoded data removed]",
      "text/plain": [
       "<Figure size 432x432 with 3 Axes>"
      ]
     },
     "metadata": {},
     "output_type": "display_data"
    }
   ],
   "source": [
    "# pintar con edad / swan vs edad - color nss\n",
    "plt.figure(figsize=(11,9));\n",
    "\n",
    "# swan_median_bins = np.digitize(df_cc.SWAN, bins=[df_cc.SWAN.median()])\n",
    "df_nss['median_split'] = swan_median_bins\n",
    "\n",
    "# fig_dims = (10, 7);\n",
    "# fig, ax = plt.subplots(figsize=fig_dims)\n",
    "# sns.boxplot(y = 'CC_MEAN', x = 'median_split', data = df_nss,ax=ax)\n",
    "\n",
    "# labels = ['Below median', 'Above median']\n",
    "# ax.axes.set_xticklabels(labels);\n",
    "\n",
    "sns.jointplot(data=df_nss, x='FIX_IN_VID', y='NSS_MEAN', hue='median_split');\n",
    "# plt.savefig('figs/NSS/scatter_swan_nfix_NSS_video_{}.jpg'.format(vid_name))"
   ]
  },
  {
   "cell_type": "code",
   "execution_count": 38,
   "id": "rational-haiti",
   "metadata": {},
   "outputs": [
    {
     "data": {
      "text/plain": [
       "<Figure size 792x648 with 0 Axes>"
      ]
     },
     "metadata": {},
     "output_type": "display_data"
    },
    {
     "data": {
      "image/png": "[encoded data removed]",
      "text/plain": [
       "<Figure size 432x432 with 3 Axes>"
      ]
     },
     "metadata": {},
     "output_type": "display_data"
    }
   ],
   "source": [
    "plt.figure(figsize=(11,9))\n",
    "sns.jointplot(data=df_nss, x='Age', y='NSS_MEAN', hue='median_split');\n",
    "# plt.savefig('figs/NSS/scatter_swan_age_NSS_video_{}.jpg'.format(vid_name))"
   ]
  },
  {
   "cell_type": "code",
   "execution_count": 39,
   "id": "handmade-subscriber",
   "metadata": {},
   "outputs": [
    {
     "data": {
      "image/png": "[encoded data removed]",
      "text/plain": [
       "<Figure size 720x504 with 1 Axes>"
      ]
     },
     "metadata": {},
     "output_type": "display_data"
    }
   ],
   "source": [
    "swan_bins = np.digitize(df_nss.SWAN,bins=[-0.51, 0.51])\n",
    "labels = ['Below 0', 'Swan 0', 'Above 0']\n",
    "df_nss['SWAN_bins'] = swan_bins\n",
    "fig_dims = (10, 7)\n",
    "fig, ax = plt.subplots(figsize=fig_dims)\n",
    "sns.boxplot(y = 'NSS_MEAN', x = 'SWAN_bins', data = df_nss,ax=ax);\n",
    "ax.axes.set_xticklabels(labels);\n",
    "ax.set_title(\"Mean NSS grouped by SWAN\");\n",
    "# plt.savefig('figs/NSS/boxplot_swan_nss_video_{}_dropped.jpg'.format(vid_name))"
   ]
  },
  {
   "cell_type": "code",
   "execution_count": 56,
   "id": "moving-nickname",
   "metadata": {},
   "outputs": [
    {
     "data": {
      "image/png": "[encoded data removed]",
      "text/plain": [
       "<Figure size 720x504 with 1 Axes>"
      ]
     },
     "metadata": {},
     "output_type": "display_data"
    }
   ],
   "source": [
    "swan_median_bins = np.digitize(df_nss.SWAN, bins=[df_nss.SWAN.median()])\n",
    "df_nss['median_split'] = swan_median_bins\n",
    "\n",
    "fig_dims = (10, 7)\n",
    "fig, ax = plt.subplots(figsize=fig_dims)\n",
    "sns.boxplot(y = 'NSS_MEAN', x = 'median_split', data = df_nss,ax=ax)\n",
    "\n",
    "labels = ['Below median', 'Above median']\n",
    "ax.axes.set_xticklabels(labels);\n",
    "\n",
    "# plt.savefig('figs/NSS/boxplot_NSS_median_split_swan_video_{}.jpg'.format(vid_name))"
   ]
  },
  {
   "cell_type": "code",
   "execution_count": 40,
   "id": "vocal-tumor",
   "metadata": {},
   "outputs": [
    {
     "name": "stdout",
     "output_type": "stream",
     "text": [
      "504\n",
      "521\n"
     ]
    },
    {
     "data": {
      "text/plain": [
       "Ttest_indResult(statistic=36.18048047356349, pvalue=2.417647879552666e-176)"
      ]
     },
     "execution_count": 40,
     "metadata": {},
     "output_type": "execute_result"
    }
   ],
   "source": [
    "from scipy.stats import ttest_ind\n",
    "\n",
    "nss_below = df_nss[df_nss['median_split']==0]\n",
    "nss_below = nss_below[nss_below['SWAN'].notna()]\n",
    "print(nss_below.shape[0])\n",
    "nss_above = df_nss[df_nss['median_split']==1]\n",
    "nss_above = nss_above[nss_above['SWAN'].notna()]\n",
    "print(nss_above.shape[0])\n",
    "\n",
    "ttest_ind(nss_above['SWAN'], nss_below['SWAN'], equal_var=False)"
   ]
  },
  {
   "cell_type": "markdown",
   "id": "hourly-repeat",
   "metadata": {},
   "source": [
    "****"
   ]
  },
  {
   "cell_type": "markdown",
   "id": "sustainable-draft",
   "metadata": {},
   "source": [
    "## save exploded csv"
   ]
  },
  {
   "cell_type": "code",
   "execution_count": 41,
   "id": "advisory-thinking",
   "metadata": {},
   "outputs": [],
   "source": [
    "def explode(frame, columns):\n",
    "    \"\"\"\n",
    "    This helper function explodes a new row\n",
    "        for each value in an array of values.\n",
    "    If there is more than one column to be exploded,\n",
    "        the array lengths must be the same (row-wise)\n",
    "    (Adapted from a SE code snippet)\n",
    "    Args:\n",
    "        frame: The input dataframe\n",
    "        columns: the columns with arrays to explode\n",
    "    Returns:\n",
    "        transformed dataframe\n",
    "    \"\"\"\n",
    "    # all columns that are not arrays of values\n",
    "    idx_cols = frame.columns.difference(columns)\n",
    "\n",
    "    # calculate lengths of arrays\n",
    "    lens = frame[columns[0]].str.len()\n",
    "\n",
    "    return pd.DataFrame({\n",
    "        col: np.repeat(frame[col].values, lens)\n",
    "        for col in idx_cols\n",
    "    }).assign(**{col: np.concatenate(frame[col].values)\n",
    "                 for col in columns}).loc[:, frame.columns]"
   ]
  },
  {
   "cell_type": "code",
   "execution_count": 44,
   "id": "bridal-angel",
   "metadata": {},
   "outputs": [],
   "source": [
    "df_cc2=df_cc.copy()\n",
    "df_nss2=df_nss.copy()"
   ]
  },
  {
   "cell_type": "code",
   "execution_count": 45,
   "id": "engaged-wallace",
   "metadata": {},
   "outputs": [],
   "source": [
    "df_cc2['CC_val'] = df_cc2['CC'].apply(lambda x: x.iloc[:,1].to_list())\n",
    "df_cc2['FIX_ts'] = df_cc2['CC'].apply(lambda x: x.iloc[:,2].to_list())\n",
    "df_cc2['FIX_idx'] = df_cc2['CC'].apply(lambda x: x.iloc[:,0].to_list())"
   ]
  },
  {
   "cell_type": "code",
   "execution_count": 46,
   "id": "international-sociology",
   "metadata": {},
   "outputs": [
    {
     "data": {
      "text/html": [
       "<div>\n",
       "<style scoped>\n",
       "    .dataframe tbody tr th:only-of-type {\n",
       "        vertical-align: middle;\n",
       "    }\n",
       "\n",
       "    .dataframe tbody tr th {\n",
       "        vertical-align: top;\n",
       "    }\n",
       "\n",
       "    .dataframe thead th {\n",
       "        text-align: right;\n",
       "    }\n",
       "</style>\n",
       "<table border=\"1\" class=\"dataframe\">\n",
       "  <thead>\n",
       "    <tr style=\"text-align: right;\">\n",
       "      <th></th>\n",
       "      <th>ID</th>\n",
       "      <th>CC</th>\n",
       "      <th>FIX_IN_VID</th>\n",
       "      <th>FLAG</th>\n",
       "      <th>VIDEO_NAME</th>\n",
       "      <th>ET_FILE</th>\n",
       "      <th>SWAN</th>\n",
       "      <th>Age</th>\n",
       "      <th>CC_MEAN</th>\n",
       "      <th>median_split</th>\n",
       "      <th>CC_val</th>\n",
       "      <th>FIX_ts</th>\n",
       "      <th>FIX_idx</th>\n",
       "      <th>NSS_MEAN</th>\n",
       "      <th>NSS_val</th>\n",
       "    </tr>\n",
       "  </thead>\n",
       "  <tbody>\n",
       "    <tr>\n",
       "      <th>0</th>\n",
       "      <td>NDARUG492VF0</td>\n",
       "      <td>index         0  start_time\n",
       "0        1  0...</td>\n",
       "      <td>357</td>\n",
       "      <td>0</td>\n",
       "      <td>Diary</td>\n",
       "      <td>./data/ETFinalCutSample/NDARUG492VF0/NDARUG492...</td>\n",
       "      <td>-0.333333</td>\n",
       "      <td>9.506958</td>\n",
       "      <td>0.009876</td>\n",
       "      <td>0</td>\n",
       "      <td>[0.05425828412727631, 0.05680557230244678, 0.0...</td>\n",
       "      <td>[328.089000000153, 544.679000000004, 794.57400...</td>\n",
       "      <td>[1, 3, 5, 8, 10, 12, 14, 16, 18, 20, 22, 24, 2...</td>\n",
       "      <td>0.275558</td>\n",
       "      <td>[4.7991614, 2.705862, 1.3183514, -0.01890319, ...</td>\n",
       "    </tr>\n",
       "    <tr>\n",
       "      <th>1</th>\n",
       "      <td>NDARJH925ZCD</td>\n",
       "      <td>index         0  start_time\n",
       "0        5 -0...</td>\n",
       "      <td>545</td>\n",
       "      <td>0</td>\n",
       "      <td>Diary</td>\n",
       "      <td>./data/ETFinalCutSample/NDARJH925ZCD/NDARJH925...</td>\n",
       "      <td>2.888888</td>\n",
       "      <td>9.964179</td>\n",
       "      <td>0.010195</td>\n",
       "      <td>1</td>\n",
       "      <td>[-0.019697046484441025, 0.04630408844696807, 0...</td>\n",
       "      <td>[254.45299999998, 454.385000000009, 704.297999...</td>\n",
       "      <td>[5, 7, 9, 11, 13, 15, 17, 19, 21, 23, 25, 27, ...</td>\n",
       "      <td>0.264806</td>\n",
       "      <td>[-0.3963129, 0.8899732, 2.1758342, 0.4855892, ...</td>\n",
       "    </tr>\n",
       "  </tbody>\n",
       "</table>\n",
       "</div>"
      ],
      "text/plain": [
       "             ID                                                 CC  \\\n",
       "0  NDARUG492VF0       index         0  start_time\n",
       "0        1  0...   \n",
       "1  NDARJH925ZCD       index         0  start_time\n",
       "0        5 -0...   \n",
       "\n",
       "   FIX_IN_VID  FLAG VIDEO_NAME  \\\n",
       "0         357     0      Diary   \n",
       "1         545     0      Diary   \n",
       "\n",
       "                                             ET_FILE      SWAN       Age  \\\n",
       "0  ./data/ETFinalCutSample/NDARUG492VF0/NDARUG492... -0.333333  9.506958   \n",
       "1  ./data/ETFinalCutSample/NDARJH925ZCD/NDARJH925...  2.888888  9.964179   \n",
       "\n",
       "    CC_MEAN  median_split                                             CC_val  \\\n",
       "0  0.009876             0  [0.05425828412727631, 0.05680557230244678, 0.0...   \n",
       "1  0.010195             1  [-0.019697046484441025, 0.04630408844696807, 0...   \n",
       "\n",
       "                                              FIX_ts  \\\n",
       "0  [328.089000000153, 544.679000000004, 794.57400...   \n",
       "1  [254.45299999998, 454.385000000009, 704.297999...   \n",
       "\n",
       "                                             FIX_idx  NSS_MEAN  \\\n",
       "0  [1, 3, 5, 8, 10, 12, 14, 16, 18, 20, 22, 24, 2...  0.275558   \n",
       "1  [5, 7, 9, 11, 13, 15, 17, 19, 21, 23, 25, 27, ...  0.264806   \n",
       "\n",
       "                                             NSS_val  \n",
       "0  [4.7991614, 2.705862, 1.3183514, -0.01890319, ...  \n",
       "1  [-0.3963129, 0.8899732, 2.1758342, 0.4855892, ...  "
      ]
     },
     "execution_count": 46,
     "metadata": {},
     "output_type": "execute_result"
    }
   ],
   "source": [
    "results_path ='./results/NSS/'\n",
    "# df_nss2 = pd.read_json(results_path+'results_nss_swan.json')\n",
    "df_final = pd.concat([df_cc2,df_nss2[['NSS_MEAN','NSS']]], axis=1)\n",
    "df_final=df_final.rename(columns = {'NSS':'NSS_val'})\n",
    "df_final.head(2)"
   ]
  },
  {
   "cell_type": "code",
   "execution_count": 47,
   "id": "polish-planet",
   "metadata": {},
   "outputs": [],
   "source": [
    "results_path = 'results/'\n",
    "df_final2 = explode(df_final, ['FIX_ts','FIX_idx','CC_val','NSS_val']).drop(columns='CC')\n",
    "# df_final2.to_csv(results_path+'results_all_s03_diary_exploded.csv')"
   ]
  },
  {
   "cell_type": "code",
   "execution_count": 48,
   "id": "ignored-bread",
   "metadata": {},
   "outputs": [
    {
     "data": {
      "text/html": [
       "<div>\n",
       "<style scoped>\n",
       "    .dataframe tbody tr th:only-of-type {\n",
       "        vertical-align: middle;\n",
       "    }\n",
       "\n",
       "    .dataframe tbody tr th {\n",
       "        vertical-align: top;\n",
       "    }\n",
       "\n",
       "    .dataframe thead th {\n",
       "        text-align: right;\n",
       "    }\n",
       "</style>\n",
       "<table border=\"1\" class=\"dataframe\">\n",
       "  <thead>\n",
       "    <tr style=\"text-align: right;\">\n",
       "      <th></th>\n",
       "      <th>ID</th>\n",
       "      <th>FIX_IN_VID</th>\n",
       "      <th>FLAG</th>\n",
       "      <th>VIDEO_NAME</th>\n",
       "      <th>ET_FILE</th>\n",
       "      <th>SWAN</th>\n",
       "      <th>Age</th>\n",
       "      <th>CC_MEAN</th>\n",
       "      <th>median_split</th>\n",
       "      <th>CC_val</th>\n",
       "      <th>FIX_ts</th>\n",
       "      <th>FIX_idx</th>\n",
       "      <th>NSS_MEAN</th>\n",
       "      <th>NSS_val</th>\n",
       "    </tr>\n",
       "  </thead>\n",
       "  <tbody>\n",
       "    <tr>\n",
       "      <th>0</th>\n",
       "      <td>NDARUG492VF0</td>\n",
       "      <td>357</td>\n",
       "      <td>0</td>\n",
       "      <td>Diary</td>\n",
       "      <td>./data/ETFinalCutSample/NDARUG492VF0/NDARUG492...</td>\n",
       "      <td>-0.333333</td>\n",
       "      <td>9.506958</td>\n",
       "      <td>0.009876</td>\n",
       "      <td>0</td>\n",
       "      <td>0.054258</td>\n",
       "      <td>328.089</td>\n",
       "      <td>1</td>\n",
       "      <td>0.275558</td>\n",
       "      <td>4.799161</td>\n",
       "    </tr>\n",
       "    <tr>\n",
       "      <th>1</th>\n",
       "      <td>NDARUG492VF0</td>\n",
       "      <td>357</td>\n",
       "      <td>0</td>\n",
       "      <td>Diary</td>\n",
       "      <td>./data/ETFinalCutSample/NDARUG492VF0/NDARUG492...</td>\n",
       "      <td>-0.333333</td>\n",
       "      <td>9.506958</td>\n",
       "      <td>0.009876</td>\n",
       "      <td>0</td>\n",
       "      <td>0.056806</td>\n",
       "      <td>544.679</td>\n",
       "      <td>3</td>\n",
       "      <td>0.275558</td>\n",
       "      <td>2.705862</td>\n",
       "    </tr>\n",
       "    <tr>\n",
       "      <th>2</th>\n",
       "      <td>NDARUG492VF0</td>\n",
       "      <td>357</td>\n",
       "      <td>0</td>\n",
       "      <td>Diary</td>\n",
       "      <td>./data/ETFinalCutSample/NDARUG492VF0/NDARUG492...</td>\n",
       "      <td>-0.333333</td>\n",
       "      <td>9.506958</td>\n",
       "      <td>0.009876</td>\n",
       "      <td>0</td>\n",
       "      <td>0.036780</td>\n",
       "      <td>794.574</td>\n",
       "      <td>5</td>\n",
       "      <td>0.275558</td>\n",
       "      <td>1.318351</td>\n",
       "    </tr>\n",
       "    <tr>\n",
       "      <th>3</th>\n",
       "      <td>NDARUG492VF0</td>\n",
       "      <td>357</td>\n",
       "      <td>0</td>\n",
       "      <td>Diary</td>\n",
       "      <td>./data/ETFinalCutSample/NDARUG492VF0/NDARUG492...</td>\n",
       "      <td>-0.333333</td>\n",
       "      <td>9.506958</td>\n",
       "      <td>0.009876</td>\n",
       "      <td>0</td>\n",
       "      <td>0.043314</td>\n",
       "      <td>1494.299</td>\n",
       "      <td>8</td>\n",
       "      <td>0.275558</td>\n",
       "      <td>-0.018903</td>\n",
       "    </tr>\n",
       "    <tr>\n",
       "      <th>4</th>\n",
       "      <td>NDARUG492VF0</td>\n",
       "      <td>357</td>\n",
       "      <td>0</td>\n",
       "      <td>Diary</td>\n",
       "      <td>./data/ETFinalCutSample/NDARUG492VF0/NDARUG492...</td>\n",
       "      <td>-0.333333</td>\n",
       "      <td>9.506958</td>\n",
       "      <td>0.009876</td>\n",
       "      <td>0</td>\n",
       "      <td>0.042812</td>\n",
       "      <td>1594.258</td>\n",
       "      <td>10</td>\n",
       "      <td>0.275558</td>\n",
       "      <td>0.964498</td>\n",
       "    </tr>\n",
       "  </tbody>\n",
       "</table>\n",
       "</div>"
      ],
      "text/plain": [
       "             ID  FIX_IN_VID  FLAG VIDEO_NAME  \\\n",
       "0  NDARUG492VF0         357     0      Diary   \n",
       "1  NDARUG492VF0         357     0      Diary   \n",
       "2  NDARUG492VF0         357     0      Diary   \n",
       "3  NDARUG492VF0         357     0      Diary   \n",
       "4  NDARUG492VF0         357     0      Diary   \n",
       "\n",
       "                                             ET_FILE      SWAN       Age  \\\n",
       "0  ./data/ETFinalCutSample/NDARUG492VF0/NDARUG492... -0.333333  9.506958   \n",
       "1  ./data/ETFinalCutSample/NDARUG492VF0/NDARUG492... -0.333333  9.506958   \n",
       "2  ./data/ETFinalCutSample/NDARUG492VF0/NDARUG492... -0.333333  9.506958   \n",
       "3  ./data/ETFinalCutSample/NDARUG492VF0/NDARUG492... -0.333333  9.506958   \n",
       "4  ./data/ETFinalCutSample/NDARUG492VF0/NDARUG492... -0.333333  9.506958   \n",
       "\n",
       "    CC_MEAN  median_split    CC_val    FIX_ts  FIX_idx  NSS_MEAN   NSS_val  \n",
       "0  0.009876             0  0.054258   328.089        1  0.275558  4.799161  \n",
       "1  0.009876             0  0.056806   544.679        3  0.275558  2.705862  \n",
       "2  0.009876             0  0.036780   794.574        5  0.275558  1.318351  \n",
       "3  0.009876             0  0.043314  1494.299        8  0.275558 -0.018903  \n",
       "4  0.009876             0  0.042812  1594.258       10  0.275558  0.964498  "
      ]
     },
     "execution_count": 48,
     "metadata": {},
     "output_type": "execute_result"
    }
   ],
   "source": [
    "df_final2.head()"
   ]
  },
  {
   "cell_type": "markdown",
   "id": "expanded-engineering",
   "metadata": {},
   "source": [
    "### load explode"
   ]
  },
  {
   "cell_type": "code",
   "execution_count": 50,
   "id": "missing-bottle",
   "metadata": {},
   "outputs": [],
   "source": [
    "# if alredy loaded\n",
    "df_exploded = df_final2.copy()"
   ]
  },
  {
   "cell_type": "code",
   "execution_count": 9,
   "id": "waiting-tribune",
   "metadata": {},
   "outputs": [
    {
     "data": {
      "text/html": [
       "<div>\n",
       "<style scoped>\n",
       "    .dataframe tbody tr th:only-of-type {\n",
       "        vertical-align: middle;\n",
       "    }\n",
       "\n",
       "    .dataframe tbody tr th {\n",
       "        vertical-align: top;\n",
       "    }\n",
       "\n",
       "    .dataframe thead th {\n",
       "        text-align: right;\n",
       "    }\n",
       "</style>\n",
       "<table border=\"1\" class=\"dataframe\">\n",
       "  <thead>\n",
       "    <tr style=\"text-align: right;\">\n",
       "      <th></th>\n",
       "      <th>Unnamed: 0</th>\n",
       "      <th>ID</th>\n",
       "      <th>FIX_IN_VID</th>\n",
       "      <th>FLAG</th>\n",
       "      <th>VIDEO_NAME</th>\n",
       "      <th>ET_FILE</th>\n",
       "      <th>SWAN</th>\n",
       "      <th>Age</th>\n",
       "      <th>CC_MEAN</th>\n",
       "      <th>CC_val</th>\n",
       "      <th>FIX_ts</th>\n",
       "      <th>FIX_idx</th>\n",
       "      <th>NSS_MEAN</th>\n",
       "      <th>NSS_val</th>\n",
       "    </tr>\n",
       "  </thead>\n",
       "  <tbody>\n",
       "    <tr>\n",
       "      <th>0</th>\n",
       "      <td>0</td>\n",
       "      <td>NDARUG492VF0</td>\n",
       "      <td>357</td>\n",
       "      <td>0</td>\n",
       "      <td>Diary</td>\n",
       "      <td>./data/ETFinalCutSample/NDARUG492VF0/NDARUG492...</td>\n",
       "      <td>-0.333333</td>\n",
       "      <td>9.506958</td>\n",
       "      <td>0.048263</td>\n",
       "      <td>0.097183</td>\n",
       "      <td>328.089</td>\n",
       "      <td>1</td>\n",
       "      <td>1.611673</td>\n",
       "      <td>4.027165</td>\n",
       "    </tr>\n",
       "    <tr>\n",
       "      <th>1</th>\n",
       "      <td>1</td>\n",
       "      <td>NDARUG492VF0</td>\n",
       "      <td>357</td>\n",
       "      <td>0</td>\n",
       "      <td>Diary</td>\n",
       "      <td>./data/ETFinalCutSample/NDARUG492VF0/NDARUG492...</td>\n",
       "      <td>-0.333333</td>\n",
       "      <td>9.506958</td>\n",
       "      <td>0.048263</td>\n",
       "      <td>0.101037</td>\n",
       "      <td>544.679</td>\n",
       "      <td>3</td>\n",
       "      <td>1.611673</td>\n",
       "      <td>7.050632</td>\n",
       "    </tr>\n",
       "    <tr>\n",
       "      <th>2</th>\n",
       "      <td>2</td>\n",
       "      <td>NDARUG492VF0</td>\n",
       "      <td>357</td>\n",
       "      <td>0</td>\n",
       "      <td>Diary</td>\n",
       "      <td>./data/ETFinalCutSample/NDARUG492VF0/NDARUG492...</td>\n",
       "      <td>-0.333333</td>\n",
       "      <td>9.506958</td>\n",
       "      <td>0.048263</td>\n",
       "      <td>0.031186</td>\n",
       "      <td>794.574</td>\n",
       "      <td>5</td>\n",
       "      <td>1.611673</td>\n",
       "      <td>1.138369</td>\n",
       "    </tr>\n",
       "    <tr>\n",
       "      <th>3</th>\n",
       "      <td>3</td>\n",
       "      <td>NDARUG492VF0</td>\n",
       "      <td>357</td>\n",
       "      <td>0</td>\n",
       "      <td>Diary</td>\n",
       "      <td>./data/ETFinalCutSample/NDARUG492VF0/NDARUG492...</td>\n",
       "      <td>-0.333333</td>\n",
       "      <td>9.506958</td>\n",
       "      <td>0.048263</td>\n",
       "      <td>0.003715</td>\n",
       "      <td>1494.299</td>\n",
       "      <td>8</td>\n",
       "      <td>1.611673</td>\n",
       "      <td>-0.225604</td>\n",
       "    </tr>\n",
       "    <tr>\n",
       "      <th>4</th>\n",
       "      <td>4</td>\n",
       "      <td>NDARUG492VF0</td>\n",
       "      <td>357</td>\n",
       "      <td>0</td>\n",
       "      <td>Diary</td>\n",
       "      <td>./data/ETFinalCutSample/NDARUG492VF0/NDARUG492...</td>\n",
       "      <td>-0.333333</td>\n",
       "      <td>9.506958</td>\n",
       "      <td>0.048263</td>\n",
       "      <td>0.017125</td>\n",
       "      <td>1594.258</td>\n",
       "      <td>10</td>\n",
       "      <td>1.611673</td>\n",
       "      <td>0.906723</td>\n",
       "    </tr>\n",
       "  </tbody>\n",
       "</table>\n",
       "</div>"
      ],
      "text/plain": [
       "   Unnamed: 0            ID  FIX_IN_VID  FLAG VIDEO_NAME  \\\n",
       "0           0  NDARUG492VF0         357     0      Diary   \n",
       "1           1  NDARUG492VF0         357     0      Diary   \n",
       "2           2  NDARUG492VF0         357     0      Diary   \n",
       "3           3  NDARUG492VF0         357     0      Diary   \n",
       "4           4  NDARUG492VF0         357     0      Diary   \n",
       "\n",
       "                                             ET_FILE      SWAN       Age  \\\n",
       "0  ./data/ETFinalCutSample/NDARUG492VF0/NDARUG492... -0.333333  9.506958   \n",
       "1  ./data/ETFinalCutSample/NDARUG492VF0/NDARUG492... -0.333333  9.506958   \n",
       "2  ./data/ETFinalCutSample/NDARUG492VF0/NDARUG492... -0.333333  9.506958   \n",
       "3  ./data/ETFinalCutSample/NDARUG492VF0/NDARUG492... -0.333333  9.506958   \n",
       "4  ./data/ETFinalCutSample/NDARUG492VF0/NDARUG492... -0.333333  9.506958   \n",
       "\n",
       "    CC_MEAN    CC_val    FIX_ts  FIX_idx  NSS_MEAN   NSS_val  \n",
       "0  0.048263  0.097183   328.089        1  1.611673  4.027165  \n",
       "1  0.048263  0.101037   544.679        3  1.611673  7.050632  \n",
       "2  0.048263  0.031186   794.574        5  1.611673  1.138369  \n",
       "3  0.048263  0.003715  1494.299        8  1.611673 -0.225604  \n",
       "4  0.048263  0.017125  1594.258       10  1.611673  0.906723  "
      ]
     },
     "execution_count": 9,
     "metadata": {},
     "output_type": "execute_result"
    }
   ],
   "source": [
    "results_path = 'results/'\n",
    "df_exploded = pd.read_csv('results/results_all_s03_diary_exploded.csv')\n",
    "df_exploded.head()"
   ]
  },
  {
   "cell_type": "code",
   "execution_count": 56,
   "id": "expired-improvement",
   "metadata": {},
   "outputs": [
    {
     "data": {
      "text/html": [
       "<div>\n",
       "<style scoped>\n",
       "    .dataframe tbody tr th:only-of-type {\n",
       "        vertical-align: middle;\n",
       "    }\n",
       "\n",
       "    .dataframe tbody tr th {\n",
       "        vertical-align: top;\n",
       "    }\n",
       "\n",
       "    .dataframe thead th {\n",
       "        text-align: right;\n",
       "    }\n",
       "</style>\n",
       "<table border=\"1\" class=\"dataframe\">\n",
       "  <thead>\n",
       "    <tr style=\"text-align: right;\">\n",
       "      <th></th>\n",
       "      <th></th>\n",
       "      <th>FilePath</th>\n",
       "      <th>VideoName</th>\n",
       "      <th>SRate</th>\n",
       "      <th>Start</th>\n",
       "      <th>Stop</th>\n",
       "      <th>Duration</th>\n",
       "    </tr>\n",
       "    <tr>\n",
       "      <th>ID</th>\n",
       "      <th>Video_ID</th>\n",
       "      <th></th>\n",
       "      <th></th>\n",
       "      <th></th>\n",
       "      <th></th>\n",
       "      <th></th>\n",
       "      <th></th>\n",
       "    </tr>\n",
       "  </thead>\n",
       "  <tbody>\n",
       "    <tr>\n",
       "      <th rowspan=\"2\" valign=\"top\">NDARAA075AMK</th>\n",
       "      <th>Video1</th>\n",
       "      <td>/Volumes/methlab_data/HBN/EEG-ET/NDARAA075AMK/...</td>\n",
       "      <td>Diary</td>\n",
       "      <td>60</td>\n",
       "      <td>2887191440</td>\n",
       "      <td>3.004585e+09</td>\n",
       "      <td>117393138.0</td>\n",
       "    </tr>\n",
       "    <tr>\n",
       "      <th>Video3</th>\n",
       "      <td>/Volumes/methlab_data/HBN/EEG-ET/NDARAA075AMK/...</td>\n",
       "      <td>Despicable</td>\n",
       "      <td>60</td>\n",
       "      <td>3788400246</td>\n",
       "      <td>3.958946e+09</td>\n",
       "      <td>170545550.0</td>\n",
       "    </tr>\n",
       "    <tr>\n",
       "      <th rowspan=\"2\" valign=\"top\">NDARAA117NEJ</th>\n",
       "      <th>Video1</th>\n",
       "      <td>/Volumes/methlab_data/HBN/EEG-ET/NDARAA117NEJ/...</td>\n",
       "      <td>Diary</td>\n",
       "      <td>60</td>\n",
       "      <td>3333897971</td>\n",
       "      <td>3.451293e+09</td>\n",
       "      <td>117395130.0</td>\n",
       "    </tr>\n",
       "    <tr>\n",
       "      <th>Video3</th>\n",
       "      <td>/Volumes/methlab_data/HBN/EEG-ET/NDARAA117NEJ/...</td>\n",
       "      <td>Despicable</td>\n",
       "      <td>60</td>\n",
       "      <td>4710198376</td>\n",
       "      <td>4.880739e+09</td>\n",
       "      <td>170540748.0</td>\n",
       "    </tr>\n",
       "    <tr>\n",
       "      <th>NDARAA306NT2</th>\n",
       "      <th>Video-DM</th>\n",
       "      <td>/Volumes/methlab_data/HBN/EEG-ET/NDARAA306NT2/...</td>\n",
       "      <td>Despicable</td>\n",
       "      <td>60</td>\n",
       "      <td>3125258026</td>\n",
       "      <td>3.295796e+09</td>\n",
       "      <td>170537702.0</td>\n",
       "    </tr>\n",
       "    <tr>\n",
       "      <th>...</th>\n",
       "      <th>...</th>\n",
       "      <td>...</td>\n",
       "      <td>...</td>\n",
       "      <td>...</td>\n",
       "      <td>...</td>\n",
       "      <td>...</td>\n",
       "      <td>...</td>\n",
       "    </tr>\n",
       "    <tr>\n",
       "      <th rowspan=\"2\" valign=\"top\">NDARZZ830JM7</th>\n",
       "      <th>Video-TP</th>\n",
       "      <td>/Volumes/methlab_data/HBN/EEG-ET/NDARZZ830JM7/...</td>\n",
       "      <td>Present</td>\n",
       "      <td>120</td>\n",
       "      <td>4628693960</td>\n",
       "      <td>4.831761e+09</td>\n",
       "      <td>203067108.0</td>\n",
       "    </tr>\n",
       "    <tr>\n",
       "      <th>Video-WK</th>\n",
       "      <td>/Volumes/methlab_data/HBN/EEG-ET/NDARZZ830JM7/...</td>\n",
       "      <td>Diary</td>\n",
       "      <td>120</td>\n",
       "      <td>2873024513</td>\n",
       "      <td>2.990411e+09</td>\n",
       "      <td>117386375.0</td>\n",
       "    </tr>\n",
       "    <tr>\n",
       "      <th rowspan=\"3\" valign=\"top\">NDARZZ993CEV</th>\n",
       "      <th>Video-DM</th>\n",
       "      <td>/Volumes/methlab_data/HBN/EEG-ET/NDARZZ993CEV/...</td>\n",
       "      <td>Despicable</td>\n",
       "      <td>30</td>\n",
       "      <td>2863666226</td>\n",
       "      <td>3.034200e+09</td>\n",
       "      <td>170534179.0</td>\n",
       "    </tr>\n",
       "    <tr>\n",
       "      <th>Video-TP</th>\n",
       "      <td>/Volumes/methlab_data/HBN/EEG-ET/NDARZZ993CEV/...</td>\n",
       "      <td>Present</td>\n",
       "      <td>30</td>\n",
       "      <td>3352926958</td>\n",
       "      <td>3.556191e+09</td>\n",
       "      <td>203264235.0</td>\n",
       "    </tr>\n",
       "    <tr>\n",
       "      <th>Video-WK</th>\n",
       "      <td>/Volumes/methlab_data/HBN/EEG-ET/NDARZZ993CEV/...</td>\n",
       "      <td>Diary</td>\n",
       "      <td>30</td>\n",
       "      <td>1681348179</td>\n",
       "      <td>1.798746e+09</td>\n",
       "      <td>117397730.0</td>\n",
       "    </tr>\n",
       "  </tbody>\n",
       "</table>\n",
       "<p>8290 rows × 6 columns</p>\n",
       "</div>"
      ],
      "text/plain": [
       "                                                                FilePath  \\\n",
       "ID           Video_ID                                                      \n",
       "NDARAA075AMK Video1    /Volumes/methlab_data/HBN/EEG-ET/NDARAA075AMK/...   \n",
       "             Video3    /Volumes/methlab_data/HBN/EEG-ET/NDARAA075AMK/...   \n",
       "NDARAA117NEJ Video1    /Volumes/methlab_data/HBN/EEG-ET/NDARAA117NEJ/...   \n",
       "             Video3    /Volumes/methlab_data/HBN/EEG-ET/NDARAA117NEJ/...   \n",
       "NDARAA306NT2 Video-DM  /Volumes/methlab_data/HBN/EEG-ET/NDARAA306NT2/...   \n",
       "...                                                                  ...   \n",
       "NDARZZ830JM7 Video-TP  /Volumes/methlab_data/HBN/EEG-ET/NDARZZ830JM7/...   \n",
       "             Video-WK  /Volumes/methlab_data/HBN/EEG-ET/NDARZZ830JM7/...   \n",
       "NDARZZ993CEV Video-DM  /Volumes/methlab_data/HBN/EEG-ET/NDARZZ993CEV/...   \n",
       "             Video-TP  /Volumes/methlab_data/HBN/EEG-ET/NDARZZ993CEV/...   \n",
       "             Video-WK  /Volumes/methlab_data/HBN/EEG-ET/NDARZZ993CEV/...   \n",
       "\n",
       "                        VideoName  SRate       Start          Stop  \\\n",
       "ID           Video_ID                                                \n",
       "NDARAA075AMK Video1         Diary     60  2887191440  3.004585e+09   \n",
       "             Video3    Despicable     60  3788400246  3.958946e+09   \n",
       "NDARAA117NEJ Video1         Diary     60  3333897971  3.451293e+09   \n",
       "             Video3    Despicable     60  4710198376  4.880739e+09   \n",
       "NDARAA306NT2 Video-DM  Despicable     60  3125258026  3.295796e+09   \n",
       "...                           ...    ...         ...           ...   \n",
       "NDARZZ830JM7 Video-TP     Present    120  4628693960  4.831761e+09   \n",
       "             Video-WK       Diary    120  2873024513  2.990411e+09   \n",
       "NDARZZ993CEV Video-DM  Despicable     30  2863666226  3.034200e+09   \n",
       "             Video-TP     Present     30  3352926958  3.556191e+09   \n",
       "             Video-WK       Diary     30  1681348179  1.798746e+09   \n",
       "\n",
       "                          Duration  \n",
       "ID           Video_ID               \n",
       "NDARAA075AMK Video1    117393138.0  \n",
       "             Video3    170545550.0  \n",
       "NDARAA117NEJ Video1    117395130.0  \n",
       "             Video3    170540748.0  \n",
       "NDARAA306NT2 Video-DM  170537702.0  \n",
       "...                            ...  \n",
       "NDARZZ830JM7 Video-TP  203067108.0  \n",
       "             Video-WK  117386375.0  \n",
       "NDARZZ993CEV Video-DM  170534179.0  \n",
       "             Video-TP  203264235.0  \n",
       "             Video-WK  117397730.0  \n",
       "\n",
       "[8290 rows x 6 columns]"
      ]
     },
     "execution_count": 56,
     "metadata": {},
     "output_type": "execute_result"
    }
   ],
   "source": [
    "trials_data"
   ]
  },
  {
   "cell_type": "code",
   "execution_count": 51,
   "id": "continuous-morgan",
   "metadata": {},
   "outputs": [],
   "source": [
    "dfs_list = []\n",
    "for idx in df_exploded.ID.unique():\n",
    "    \n",
    "    df_aux       = df_exploded[df_exploded.ID==idx].copy()\n",
    "    et_file      = df_aux.ET_FILE.iloc[0]\n",
    "    df_et        = pd.read_csv(et_file)\n",
    "    frame_timest = videos_data.loc[vid_name,'FramesTimestamps']\n",
    "    trial_init   = trials_data.loc[fold_subj].set_index('VideoName').loc[vid_name].Start\n",
    "    df_fix, flag = preprocess_fixations_new_dataset(df_et, frame_timest, trial_init)\n",
    "    frame_id     = df_fix.frames_seen.apply(lambda x: x[0])\n",
    "    df_aux       = df_aux.merge(frame_id,how='outer',left_on='FIX_idx',right_index=True)    \n",
    "    dfs_list.append(df_aux)    "
   ]
  },
  {
   "cell_type": "code",
   "execution_count": 53,
   "id": "worst-array",
   "metadata": {},
   "outputs": [
    {
     "data": {
      "text/html": [
       "<div>\n",
       "<style scoped>\n",
       "    .dataframe tbody tr th:only-of-type {\n",
       "        vertical-align: middle;\n",
       "    }\n",
       "\n",
       "    .dataframe tbody tr th {\n",
       "        vertical-align: top;\n",
       "    }\n",
       "\n",
       "    .dataframe thead th {\n",
       "        text-align: right;\n",
       "    }\n",
       "</style>\n",
       "<table border=\"1\" class=\"dataframe\">\n",
       "  <thead>\n",
       "    <tr style=\"text-align: right;\">\n",
       "      <th></th>\n",
       "      <th>ID</th>\n",
       "      <th>FIX_IN_VID</th>\n",
       "      <th>FLAG</th>\n",
       "      <th>VIDEO_NAME</th>\n",
       "      <th>ET_FILE</th>\n",
       "      <th>SWAN</th>\n",
       "      <th>Age</th>\n",
       "      <th>CC_MEAN</th>\n",
       "      <th>median_split</th>\n",
       "      <th>CC_val</th>\n",
       "      <th>FIX_ts</th>\n",
       "      <th>FIX_idx</th>\n",
       "      <th>NSS_MEAN</th>\n",
       "      <th>NSS_val</th>\n",
       "      <th>FRAME_idx</th>\n",
       "    </tr>\n",
       "  </thead>\n",
       "  <tbody>\n",
       "    <tr>\n",
       "      <th>0</th>\n",
       "      <td>NDARUG492VF0</td>\n",
       "      <td>357</td>\n",
       "      <td>0</td>\n",
       "      <td>Diary</td>\n",
       "      <td>./data/ETFinalCutSample/NDARUG492VF0/NDARUG492...</td>\n",
       "      <td>-0.333333</td>\n",
       "      <td>9.506958</td>\n",
       "      <td>0.009876</td>\n",
       "      <td>0</td>\n",
       "      <td>0.054258</td>\n",
       "      <td>328.089</td>\n",
       "      <td>1</td>\n",
       "      <td>0.275558</td>\n",
       "      <td>4.799161</td>\n",
       "      <td>8</td>\n",
       "    </tr>\n",
       "    <tr>\n",
       "      <th>1</th>\n",
       "      <td>NDARUG492VF0</td>\n",
       "      <td>357</td>\n",
       "      <td>0</td>\n",
       "      <td>Diary</td>\n",
       "      <td>./data/ETFinalCutSample/NDARUG492VF0/NDARUG492...</td>\n",
       "      <td>-0.333333</td>\n",
       "      <td>9.506958</td>\n",
       "      <td>0.009876</td>\n",
       "      <td>0</td>\n",
       "      <td>0.056806</td>\n",
       "      <td>544.679</td>\n",
       "      <td>3</td>\n",
       "      <td>0.275558</td>\n",
       "      <td>2.705862</td>\n",
       "      <td>14</td>\n",
       "    </tr>\n",
       "    <tr>\n",
       "      <th>2</th>\n",
       "      <td>NDARUG492VF0</td>\n",
       "      <td>357</td>\n",
       "      <td>0</td>\n",
       "      <td>Diary</td>\n",
       "      <td>./data/ETFinalCutSample/NDARUG492VF0/NDARUG492...</td>\n",
       "      <td>-0.333333</td>\n",
       "      <td>9.506958</td>\n",
       "      <td>0.009876</td>\n",
       "      <td>0</td>\n",
       "      <td>0.036780</td>\n",
       "      <td>794.574</td>\n",
       "      <td>5</td>\n",
       "      <td>0.275558</td>\n",
       "      <td>1.318351</td>\n",
       "      <td>20</td>\n",
       "    </tr>\n",
       "    <tr>\n",
       "      <th>3</th>\n",
       "      <td>NDARUG492VF0</td>\n",
       "      <td>357</td>\n",
       "      <td>0</td>\n",
       "      <td>Diary</td>\n",
       "      <td>./data/ETFinalCutSample/NDARUG492VF0/NDARUG492...</td>\n",
       "      <td>-0.333333</td>\n",
       "      <td>9.506958</td>\n",
       "      <td>0.009876</td>\n",
       "      <td>0</td>\n",
       "      <td>0.043314</td>\n",
       "      <td>1494.299</td>\n",
       "      <td>8</td>\n",
       "      <td>0.275558</td>\n",
       "      <td>-0.018903</td>\n",
       "      <td>36</td>\n",
       "    </tr>\n",
       "    <tr>\n",
       "      <th>4</th>\n",
       "      <td>NDARUG492VF0</td>\n",
       "      <td>357</td>\n",
       "      <td>0</td>\n",
       "      <td>Diary</td>\n",
       "      <td>./data/ETFinalCutSample/NDARUG492VF0/NDARUG492...</td>\n",
       "      <td>-0.333333</td>\n",
       "      <td>9.506958</td>\n",
       "      <td>0.009876</td>\n",
       "      <td>0</td>\n",
       "      <td>0.042812</td>\n",
       "      <td>1594.258</td>\n",
       "      <td>10</td>\n",
       "      <td>0.275558</td>\n",
       "      <td>0.964498</td>\n",
       "      <td>39</td>\n",
       "    </tr>\n",
       "  </tbody>\n",
       "</table>\n",
       "</div>"
      ],
      "text/plain": [
       "             ID  FIX_IN_VID  FLAG VIDEO_NAME  \\\n",
       "0  NDARUG492VF0         357     0      Diary   \n",
       "1  NDARUG492VF0         357     0      Diary   \n",
       "2  NDARUG492VF0         357     0      Diary   \n",
       "3  NDARUG492VF0         357     0      Diary   \n",
       "4  NDARUG492VF0         357     0      Diary   \n",
       "\n",
       "                                             ET_FILE      SWAN       Age  \\\n",
       "0  ./data/ETFinalCutSample/NDARUG492VF0/NDARUG492... -0.333333  9.506958   \n",
       "1  ./data/ETFinalCutSample/NDARUG492VF0/NDARUG492... -0.333333  9.506958   \n",
       "2  ./data/ETFinalCutSample/NDARUG492VF0/NDARUG492... -0.333333  9.506958   \n",
       "3  ./data/ETFinalCutSample/NDARUG492VF0/NDARUG492... -0.333333  9.506958   \n",
       "4  ./data/ETFinalCutSample/NDARUG492VF0/NDARUG492... -0.333333  9.506958   \n",
       "\n",
       "    CC_MEAN  median_split    CC_val    FIX_ts  FIX_idx  NSS_MEAN   NSS_val  \\\n",
       "0  0.009876             0  0.054258   328.089        1  0.275558  4.799161   \n",
       "1  0.009876             0  0.056806   544.679        3  0.275558  2.705862   \n",
       "2  0.009876             0  0.036780   794.574        5  0.275558  1.318351   \n",
       "3  0.009876             0  0.043314  1494.299        8  0.275558 -0.018903   \n",
       "4  0.009876             0  0.042812  1594.258       10  0.275558  0.964498   \n",
       "\n",
       "   FRAME_idx  \n",
       "0          8  \n",
       "1         14  \n",
       "2         20  \n",
       "3         36  \n",
       "4         39  "
      ]
     },
     "execution_count": 53,
     "metadata": {},
     "output_type": "execute_result"
    }
   ],
   "source": [
    "df_exploded_frames = pd.concat(dfs_list)\n",
    "df_exploded_frames.rename({'frames_seen':'FRAME_idx'}, axis=1, inplace=True)\n",
    "# df_exploded_frames.drop(columns=['Unnamed: 0'], inplace= True)\n",
    "df_exploded_frames.head()"
   ]
  },
  {
   "cell_type": "code",
   "execution_count": null,
   "id": "dense-positive",
   "metadata": {},
   "outputs": [],
   "source": []
  },
  {
   "cell_type": "markdown",
   "id": "shared-motivation",
   "metadata": {},
   "source": [
    "### save exploded with frame indexing"
   ]
  },
  {
   "cell_type": "code",
   "execution_count": 8,
   "id": "returning-flesh",
   "metadata": {},
   "outputs": [
    {
     "ename": "NameError",
     "evalue": "name 'df_exploded_frames' is not defined",
     "output_type": "error",
     "traceback": [
      "\u001b[0;31m---------------------------------------------------------------------------\u001b[0m",
      "\u001b[0;31mNameError\u001b[0m                                 Traceback (most recent call last)",
      "\u001b[0;32m<ipython-input-8-7b4cd20cb3c7>\u001b[0m in \u001b[0;36m<module>\u001b[0;34m\u001b[0m\n\u001b[1;32m      1\u001b[0m \u001b[0mexploded_file\u001b[0m \u001b[0;34m=\u001b[0m \u001b[0;34m'results/results_all_s03_diary_exploded.csv'\u001b[0m\u001b[0;34m\u001b[0m\u001b[0;34m\u001b[0m\u001b[0m\n\u001b[0;32m----> 2\u001b[0;31m \u001b[0mdf_exploded_frames\u001b[0m\u001b[0;34m.\u001b[0m\u001b[0mto_csv\u001b[0m\u001b[0;34m(\u001b[0m\u001b[0mexploded_file\u001b[0m\u001b[0;34m,\u001b[0m \u001b[0mindex\u001b[0m\u001b[0;34m=\u001b[0m\u001b[0;32mFalse\u001b[0m\u001b[0;34m)\u001b[0m\u001b[0;34m\u001b[0m\u001b[0;34m\u001b[0m\u001b[0m\n\u001b[0m",
      "\u001b[0;31mNameError\u001b[0m: name 'df_exploded_frames' is not defined"
     ]
    }
   ],
   "source": [
    "exploded_file = 'results/results_all_s03_diary_exploded.csv'\n",
    "df_exploded_frames.to_csv(exploded_file, index=False)"
   ]
  },
  {
   "cell_type": "code",
   "execution_count": 55,
   "id": "swiss-uncle",
   "metadata": {},
   "outputs": [
    {
     "data": {
      "text/html": [
       "<div>\n",
       "<style scoped>\n",
       "    .dataframe tbody tr th:only-of-type {\n",
       "        vertical-align: middle;\n",
       "    }\n",
       "\n",
       "    .dataframe tbody tr th {\n",
       "        vertical-align: top;\n",
       "    }\n",
       "\n",
       "    .dataframe thead th {\n",
       "        text-align: right;\n",
       "    }\n",
       "</style>\n",
       "<table border=\"1\" class=\"dataframe\">\n",
       "  <thead>\n",
       "    <tr style=\"text-align: right;\">\n",
       "      <th></th>\n",
       "      <th>ID</th>\n",
       "      <th>FIX_IN_VID</th>\n",
       "      <th>FLAG</th>\n",
       "      <th>VIDEO_NAME</th>\n",
       "      <th>ET_FILE</th>\n",
       "      <th>SWAN</th>\n",
       "      <th>Age</th>\n",
       "      <th>CC_MEAN</th>\n",
       "      <th>median_split</th>\n",
       "      <th>CC_val</th>\n",
       "      <th>FIX_ts</th>\n",
       "      <th>FIX_idx</th>\n",
       "      <th>NSS_MEAN</th>\n",
       "      <th>NSS_val</th>\n",
       "      <th>FRAME_idx</th>\n",
       "    </tr>\n",
       "  </thead>\n",
       "  <tbody>\n",
       "    <tr>\n",
       "      <th>0</th>\n",
       "      <td>NDARUG492VF0</td>\n",
       "      <td>357</td>\n",
       "      <td>0</td>\n",
       "      <td>Diary</td>\n",
       "      <td>./data/ETFinalCutSample/NDARUG492VF0/NDARUG492...</td>\n",
       "      <td>-0.333333</td>\n",
       "      <td>9.506958</td>\n",
       "      <td>0.009876</td>\n",
       "      <td>0</td>\n",
       "      <td>0.054258</td>\n",
       "      <td>328.089</td>\n",
       "      <td>1</td>\n",
       "      <td>0.275558</td>\n",
       "      <td>4.799161</td>\n",
       "      <td>8</td>\n",
       "    </tr>\n",
       "    <tr>\n",
       "      <th>1</th>\n",
       "      <td>NDARUG492VF0</td>\n",
       "      <td>357</td>\n",
       "      <td>0</td>\n",
       "      <td>Diary</td>\n",
       "      <td>./data/ETFinalCutSample/NDARUG492VF0/NDARUG492...</td>\n",
       "      <td>-0.333333</td>\n",
       "      <td>9.506958</td>\n",
       "      <td>0.009876</td>\n",
       "      <td>0</td>\n",
       "      <td>0.056806</td>\n",
       "      <td>544.679</td>\n",
       "      <td>3</td>\n",
       "      <td>0.275558</td>\n",
       "      <td>2.705862</td>\n",
       "      <td>14</td>\n",
       "    </tr>\n",
       "    <tr>\n",
       "      <th>2</th>\n",
       "      <td>NDARUG492VF0</td>\n",
       "      <td>357</td>\n",
       "      <td>0</td>\n",
       "      <td>Diary</td>\n",
       "      <td>./data/ETFinalCutSample/NDARUG492VF0/NDARUG492...</td>\n",
       "      <td>-0.333333</td>\n",
       "      <td>9.506958</td>\n",
       "      <td>0.009876</td>\n",
       "      <td>0</td>\n",
       "      <td>0.036780</td>\n",
       "      <td>794.574</td>\n",
       "      <td>5</td>\n",
       "      <td>0.275558</td>\n",
       "      <td>1.318351</td>\n",
       "      <td>20</td>\n",
       "    </tr>\n",
       "    <tr>\n",
       "      <th>3</th>\n",
       "      <td>NDARUG492VF0</td>\n",
       "      <td>357</td>\n",
       "      <td>0</td>\n",
       "      <td>Diary</td>\n",
       "      <td>./data/ETFinalCutSample/NDARUG492VF0/NDARUG492...</td>\n",
       "      <td>-0.333333</td>\n",
       "      <td>9.506958</td>\n",
       "      <td>0.009876</td>\n",
       "      <td>0</td>\n",
       "      <td>0.043314</td>\n",
       "      <td>1494.299</td>\n",
       "      <td>8</td>\n",
       "      <td>0.275558</td>\n",
       "      <td>-0.018903</td>\n",
       "      <td>36</td>\n",
       "    </tr>\n",
       "    <tr>\n",
       "      <th>4</th>\n",
       "      <td>NDARUG492VF0</td>\n",
       "      <td>357</td>\n",
       "      <td>0</td>\n",
       "      <td>Diary</td>\n",
       "      <td>./data/ETFinalCutSample/NDARUG492VF0/NDARUG492...</td>\n",
       "      <td>-0.333333</td>\n",
       "      <td>9.506958</td>\n",
       "      <td>0.009876</td>\n",
       "      <td>0</td>\n",
       "      <td>0.042812</td>\n",
       "      <td>1594.258</td>\n",
       "      <td>10</td>\n",
       "      <td>0.275558</td>\n",
       "      <td>0.964498</td>\n",
       "      <td>39</td>\n",
       "    </tr>\n",
       "  </tbody>\n",
       "</table>\n",
       "</div>"
      ],
      "text/plain": [
       "             ID  FIX_IN_VID  FLAG VIDEO_NAME  \\\n",
       "0  NDARUG492VF0         357     0      Diary   \n",
       "1  NDARUG492VF0         357     0      Diary   \n",
       "2  NDARUG492VF0         357     0      Diary   \n",
       "3  NDARUG492VF0         357     0      Diary   \n",
       "4  NDARUG492VF0         357     0      Diary   \n",
       "\n",
       "                                             ET_FILE      SWAN       Age  \\\n",
       "0  ./data/ETFinalCutSample/NDARUG492VF0/NDARUG492... -0.333333  9.506958   \n",
       "1  ./data/ETFinalCutSample/NDARUG492VF0/NDARUG492... -0.333333  9.506958   \n",
       "2  ./data/ETFinalCutSample/NDARUG492VF0/NDARUG492... -0.333333  9.506958   \n",
       "3  ./data/ETFinalCutSample/NDARUG492VF0/NDARUG492... -0.333333  9.506958   \n",
       "4  ./data/ETFinalCutSample/NDARUG492VF0/NDARUG492... -0.333333  9.506958   \n",
       "\n",
       "    CC_MEAN  median_split    CC_val    FIX_ts  FIX_idx  NSS_MEAN   NSS_val  \\\n",
       "0  0.009876             0  0.054258   328.089        1  0.275558  4.799161   \n",
       "1  0.009876             0  0.056806   544.679        3  0.275558  2.705862   \n",
       "2  0.009876             0  0.036780   794.574        5  0.275558  1.318351   \n",
       "3  0.009876             0  0.043314  1494.299        8  0.275558 -0.018903   \n",
       "4  0.009876             0  0.042812  1594.258       10  0.275558  0.964498   \n",
       "\n",
       "   FRAME_idx  \n",
       "0          8  \n",
       "1         14  \n",
       "2         20  \n",
       "3         36  \n",
       "4         39  "
      ]
     },
     "execution_count": 55,
     "metadata": {},
     "output_type": "execute_result"
    }
   ],
   "source": [
    "# loading only for sanity check\n",
    "df_check = pd.read_csv(exploded_file)\n",
    "df_check.head()"
   ]
  }
 ],
 "metadata": {
  "kernelspec": {
   "display_name": "Python 3",
   "language": "python",
   "name": "python3"
  },
  "language_info": {
   "codemirror_mode": {
    "name": "ipython",
    "version": 3
   },
   "file_extension": ".py",
   "mimetype": "text/x-python",
   "name": "python",
   "nbconvert_exporter": "python",
   "pygments_lexer": "ipython3",
   "version": "3.7.10"
  }
 },
 "nbformat": 4,
 "nbformat_minor": 5
}
