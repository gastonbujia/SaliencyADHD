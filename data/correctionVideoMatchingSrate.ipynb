{
 "cells": [
  {
   "cell_type": "code",
   "execution_count": 1,
   "id": "advanced-prairie",
   "metadata": {},
   "outputs": [],
   "source": [
    "import os\n",
    "import numpy as np\n",
    "import pandas as pd\n",
    "import cv2\n",
    "import datetime\n",
    "import tensorflow as tf\n",
    "import matplotlib.pyplot as plt\n",
    "%matplotlib inline"
   ]
  },
  {
   "cell_type": "code",
   "execution_count": 2,
   "id": "micro-hebrew",
   "metadata": {},
   "outputs": [],
   "source": [
    "df = pd.read_csv('VideoMatchingSrate.csv', sep='\\t')"
   ]
  },
  {
   "cell_type": "code",
   "execution_count": 3,
   "id": "accredited-decision",
   "metadata": {},
   "outputs": [
    {
     "data": {
      "text/html": [
       "<div>\n",
       "<style scoped>\n",
       "    .dataframe tbody tr th:only-of-type {\n",
       "        vertical-align: middle;\n",
       "    }\n",
       "\n",
       "    .dataframe tbody tr th {\n",
       "        vertical-align: top;\n",
       "    }\n",
       "\n",
       "    .dataframe thead th {\n",
       "        text-align: right;\n",
       "    }\n",
       "</style>\n",
       "<table border=\"1\" class=\"dataframe\">\n",
       "  <thead>\n",
       "    <tr style=\"text-align: right;\">\n",
       "      <th></th>\n",
       "      <th>FilePath, VideoName, SRate, Start, Stop, Duration</th>\n",
       "    </tr>\n",
       "  </thead>\n",
       "  <tbody>\n",
       "    <tr>\n",
       "      <th>0</th>\n",
       "      <td>/Volumes/methlab_data/HBN/EEG-ET/NDARAA075AMK/...</td>\n",
       "    </tr>\n",
       "    <tr>\n",
       "      <th>1</th>\n",
       "      <td>/Volumes/methlab_data/HBN/EEG-ET/NDARAA075AMK/...</td>\n",
       "    </tr>\n",
       "    <tr>\n",
       "      <th>2</th>\n",
       "      <td>/Volumes/methlab_data/HBN/EEG-ET/NDARAA117NEJ/...</td>\n",
       "    </tr>\n",
       "    <tr>\n",
       "      <th>3</th>\n",
       "      <td>/Volumes/methlab_data/HBN/EEG-ET/NDARAA117NEJ/...</td>\n",
       "    </tr>\n",
       "    <tr>\n",
       "      <th>4</th>\n",
       "      <td>/Volumes/methlab_data/HBN/EEG-ET/NDARAA306NT2/...</td>\n",
       "    </tr>\n",
       "  </tbody>\n",
       "</table>\n",
       "</div>"
      ],
      "text/plain": [
       "   FilePath, VideoName, SRate, Start, Stop, Duration\n",
       "0  /Volumes/methlab_data/HBN/EEG-ET/NDARAA075AMK/...\n",
       "1  /Volumes/methlab_data/HBN/EEG-ET/NDARAA075AMK/...\n",
       "2  /Volumes/methlab_data/HBN/EEG-ET/NDARAA117NEJ/...\n",
       "3  /Volumes/methlab_data/HBN/EEG-ET/NDARAA117NEJ/...\n",
       "4  /Volumes/methlab_data/HBN/EEG-ET/NDARAA306NT2/..."
      ]
     },
     "execution_count": 3,
     "metadata": {},
     "output_type": "execute_result"
    }
   ],
   "source": [
    "df.head()"
   ]
  },
  {
   "cell_type": "code",
   "execution_count": 4,
   "id": "freelance-lottery",
   "metadata": {},
   "outputs": [],
   "source": [
    "cols = df.iloc[:,0].apply(lambda s: s.split(','))"
   ]
  },
  {
   "cell_type": "code",
   "execution_count": 5,
   "id": "furnished-salvation",
   "metadata": {},
   "outputs": [
    {
     "data": {
      "text/plain": [
       "0       [/Volumes/methlab_data/HBN/EEG-ET/NDARAA075AMK...\n",
       "1       [/Volumes/methlab_data/HBN/EEG-ET/NDARAA075AMK...\n",
       "2       [/Volumes/methlab_data/HBN/EEG-ET/NDARAA117NEJ...\n",
       "3       [/Volumes/methlab_data/HBN/EEG-ET/NDARAA117NEJ...\n",
       "4       [/Volumes/methlab_data/HBN/EEG-ET/NDARAA306NT2...\n",
       "                              ...                        \n",
       "8285    [/Volumes/methlab_data/HBN/EEG-ET/NDARZZ830JM7...\n",
       "8286    [/Volumes/methlab_data/HBN/EEG-ET/NDARZZ830JM7...\n",
       "8287    [/Volumes/methlab_data/HBN/EEG-ET/NDARZZ993CEV...\n",
       "8288    [/Volumes/methlab_data/HBN/EEG-ET/NDARZZ993CEV...\n",
       "8289    [/Volumes/methlab_data/HBN/EEG-ET/NDARZZ993CEV...\n",
       "Name: FilePath, VideoName, SRate, Start, Stop, Duration, Length: 8290, dtype: object"
      ]
     },
     "execution_count": 5,
     "metadata": {},
     "output_type": "execute_result"
    }
   ],
   "source": [
    "cols"
   ]
  },
  {
   "cell_type": "code",
   "execution_count": 6,
   "id": "streaming-virgin",
   "metadata": {},
   "outputs": [
    {
     "name": "stdout",
     "output_type": "stream",
     "text": [
      "indice: 217\n",
      "value: ['2.582658e+08', ' 1.705471e+08', ' /Volumes/methlab_data/HBN/EEG-ET/NDARAP782TVC/NDARAP782TVC_Video2_Samples_ET.mat', ' Fractals', ' 120', ' 2608780758', ' 2771767670', ' 162986912']\n",
      "-\n",
      "valores extra: 2.582658e+08  1.705471e+08\n",
      "inicio,fin,dur (ANTERIOR):  2303153653  2390872282  2561419422\n",
      "inicio,fin,dur (ACTUAL):  2608780758  2771767670  162986912\n",
      "-\n",
      "170547140\n",
      "-\n",
      "fin-start(anterior): 87718629\n",
      "------------------------\n",
      "indice: 2339\n",
      "value: ['2.510055e+08', ' 1.705469e+08', ' /Volumes/methlab_data/HBN/EEG-ET/NDARGJ627BL2/NDARGJ627BL2_Video2_Samples_ET.mat', ' Fractals', ' 120', ' 3514859560', ' 3677846974', ' 162987414']\n",
      "-\n",
      "valores extra: 2.510055e+08  1.705469e+08\n",
      "inicio,fin,dur (ANTERIOR):  3097963641  3178422267  3348969140\n",
      "inicio,fin,dur (ACTUAL):  3514859560  3677846974  162987414\n",
      "-\n",
      "170546873\n",
      "-\n",
      "fin-start(anterior): 80458626\n",
      "------------------------\n",
      "indice: 2384\n",
      "value: ['4.159950e+08', ' 1.705565e+08', ' /Volumes/methlab_data/HBN/EEG-ET/NDARGL359WZA/NDARGL359WZA_Video2_Samples_ET.mat', ' Fractals', ' 120', ' 2106248458', ' 2269245872', ' 162997414']\n",
      "-\n",
      "valores extra: 4.159950e+08  1.705565e+08\n",
      "inicio,fin,dur (ANTERIOR):  1560923197  1806361714  1976918238\n",
      "inicio,fin,dur (ACTUAL):  2106248458  2269245872  162997414\n",
      "-\n",
      "170556524\n",
      "-\n",
      "fin-start(anterior): 245438517\n",
      "------------------------\n",
      "indice: 2571\n",
      "value: ['5.522029e+08', ' 1.629866e+08', ' /Volumes/methlab_data/HBN/EEG-ET/NDARGY959RN8/NDARGY959RN8_Video-TP_Samples_ET.mat', ' Present', ' 120', ' 6891661581', ' 7094728427', ' 203066846']\n",
      "-\n",
      "valores extra: 5.522029e+08  1.629866e+08\n",
      "inicio,fin,dur (ANTERIOR):  4312380510  4701596790  4864583414\n",
      "inicio,fin,dur (ACTUAL):  6891661581  7094728427  203066846\n",
      "-\n",
      "162986624\n",
      "-\n",
      "fin-start(anterior): 389216280\n",
      "------------------------\n",
      "indice: 2963\n",
      "value: ['2.562464e+08', ' 1.705485e+08', ' /Volumes/methlab_data/HBN/EEG-ET/NDARHY255FVU/NDARHY255FVU_Video2_Samples_ET.mat', ' Fractals', ' 120', ' 3380387057', ' 3543370768', ' 162983711']\n",
      "-\n",
      "valores extra: 2.562464e+08  1.705485e+08\n",
      "inicio,fin,dur (ANTERIOR):  3077931705  3163629556  3334178066\n",
      "inicio,fin,dur (ACTUAL):  3380387057  3543370768  162983711\n",
      "-\n",
      "170548510\n",
      "-\n",
      "fin-start(anterior): 85697851\n",
      "------------------------\n",
      "indice: 3250\n",
      "value: ['3.214558e+08', ' 1.705470e+08', ' /Volumes/methlab_data/HBN/EEG-ET/NDARJM828PAL/NDARJM828PAL_Video2_Samples_ET.mat', ' Fractals', ' 120', ' 2010465340', ' 2173461645', ' 162996305']\n",
      "-\n",
      "valores extra: 3.214558e+08  1.705470e+08\n",
      "inicio,fin,dur (ANTERIOR):  1624758519  1775667398  1946214364\n",
      "inicio,fin,dur (ACTUAL):  2010465340  2173461645  162996305\n",
      "-\n",
      "170546966\n",
      "-\n",
      "fin-start(anterior): 150908879\n",
      "------------------------\n",
      "indice: 4300\n",
      "value: ['4.823222e+09', ' 4.918152e+08', ' 286826838', ' 162988064', ' /Volumes/methlab_data/HBN/EEG-ET/NDARML926NEG/NDARML926NEG_Video2_Samples_ET.mat', ' Despicable', ' 120', ' 5605429092', ' 5775976013', ' 170546921']\n",
      "-\n",
      "valores extra: 4.823222e+09  4.918152e+08\n",
      "inicio,fin,dur (ANTERIOR):  4331406439  4536394842  4660233616\n",
      "inicio,fin,dur (ACTUAL):  5605429092  5775976013  170546921\n",
      "-\n",
      "123838774\n",
      "-\n",
      "fin-start(anterior): 204988403\n",
      "------------------------\n",
      "indice: 4551\n",
      "value: ['2.508660e+08', ' 1.705482e+08', ' /Volumes/methlab_data/HBN/EEG-ET/NDARNA335GX2/NDARNA335GX2_Video2_Samples_ET.mat', ' Fractals', ' 120', ' 6085552472', ' 6248549111', ' 162996639']\n",
      "-\n",
      "valores extra: 2.508660e+08  1.705482e+08\n",
      "inicio,fin,dur (ANTERIOR):  4792780830  4873098563  5043646800\n",
      "inicio,fin,dur (ACTUAL):  6085552472  6248549111  162996639\n",
      "-\n",
      "170548237\n",
      "-\n",
      "fin-start(anterior): 80317733\n",
      "------------------------\n",
      "indice: 4570\n",
      "value: ['2.408161e+08', ' 1.705469e+08', ' /Volumes/methlab_data/HBN/EEG-ET/NDARNA856AY1/NDARNA856AY1_Video2_Samples_ET.mat', ' Fractals', ' 120', ' 920341153', ' 1083328302', ' 162987149']\n",
      "-\n",
      "valores extra: 2.408161e+08  1.705469e+08\n",
      "inicio,fin,dur (ANTERIOR):  632244074  702513230  873060179\n",
      "inicio,fin,dur (ACTUAL):  920341153  1083328302  162987149\n",
      "-\n",
      "170546949\n",
      "-\n",
      "fin-start(anterior): 70269156\n",
      "------------------------\n",
      "indice: 4777\n",
      "value: ['2.581752e+08', ' 1.705468e+08', ' /Volumes/methlab_data/HBN/EEG-ET/NDARNP370WGP/NDARNP370WGP_Video2_Samples_ET.mat', ' Fractals', ' 120', ' 1801247620', ' 1964230019', ' 162982399']\n",
      "-\n",
      "valores extra: 2.581752e+08  1.705468e+08\n",
      "inicio,fin,dur (ANTERIOR):  1410431559  1498059959  1668606777\n",
      "inicio,fin,dur (ACTUAL):  1801247620  1964230019  162982399\n",
      "-\n",
      "170546818\n",
      "-\n",
      "fin-start(anterior): 87628400\n",
      "------------------------\n",
      "indice: 5201\n",
      "value: ['2.109845e+08', ' 1.705488e+08', ' /Volumes/methlab_data/HBN/EEG-ET/NDARPP726XBF/NDARPP726XBF_Video1_Samples_ET.mat', ' Diary', ' 60', ' 3787900709', ' 3905296788', ' 117396079']\n",
      "-\n",
      "valores extra: 2.109845e+08  1.705488e+08\n",
      "inicio,fin,dur (ANTERIOR):  726435958  766871627  937420434\n",
      "inicio,fin,dur (ACTUAL):  3787900709  3905296788  117396079\n",
      "-\n",
      "170548807\n",
      "-\n",
      "fin-start(anterior): 40435669\n",
      "------------------------\n",
      "indice: 5582\n",
      "value: ['2.353015e+08', ' 1.705477e+08', ' /Volumes/methlab_data/HBN/EEG-ET/NDARRV837BZQ/NDARRV837BZQ_Video2_Samples_ET.mat', ' Fractals', ' 120', ' 2426249044', ' 2589236703', ' 162987659']\n",
      "-\n",
      "valores extra: 2.353015e+08  1.705477e+08\n",
      "inicio,fin,dur (ANTERIOR):  2111827301  2176581169  2347128833\n",
      "inicio,fin,dur (ACTUAL):  2426249044  2589236703  162987659\n",
      "-\n",
      "170547664\n",
      "-\n",
      "fin-start(anterior): 64753868\n",
      "------------------------\n",
      "indice: 5660\n",
      "value: ['3.170255e+08', ' 1.705560e+08', ' /Volumes/methlab_data/HBN/EEG-ET/NDARRY715CY4/NDARRY715CY4_Video2_Samples_ET.mat', ' Fractals', ' 120', ' 2823122410', ' 2986109617', ' 162987207']\n",
      "-\n",
      "valores extra: 3.170255e+08  1.705560e+08\n",
      "inicio,fin,dur (ANTERIOR):  2378516346  2524985815  2695541861\n",
      "inicio,fin,dur (ACTUAL):  2823122410  2986109617  162987207\n",
      "-\n",
      "170556046\n",
      "-\n",
      "fin-start(anterior): 146469469\n",
      "------------------------\n",
      "indice: 5738\n",
      "value: ['3.940580e+08', ' 1.705428e+08', ' /Volumes/methlab_data/HBN/EEG-ET/NDARTC707KPU/NDARTC707KPU_Video1_Samples_ET.mat', ' Despicable', ' 120', ' 2304233335', ' 2474779829', ' 170546494']\n",
      "-\n",
      "valores extra: 3.940580e+08  1.705428e+08\n",
      "inicio,fin,dur (ANTERIOR):  5009441320  5232956587  5403499351\n",
      "inicio,fin,dur (ACTUAL):  2304233335  2474779829  170546494\n",
      "-\n",
      "170542764\n",
      "-\n",
      "fin-start(anterior): 223515267\n",
      "------------------------\n",
      "indice: 5912\n",
      "value: ['2.572872e+08', ' 1.705473e+08', ' /Volumes/methlab_data/HBN/EEG-ET/NDARTP190KAN/NDARTP190KAN_Video2_Samples_ET.mat', ' Fractals', ' 120', ' 2431044118', ' 2594031036', ' 162986918']\n",
      "-\n",
      "valores extra: 2.572872e+08  1.705473e+08\n",
      "inicio,fin,dur (ANTERIOR):  2148495660  2235235608  2405782882\n",
      "inicio,fin,dur (ACTUAL):  2431044118  2594031036  162986918\n",
      "-\n",
      "170547274\n",
      "-\n",
      "fin-start(anterior): 86739948\n",
      "------------------------\n",
      "indice: 6021\n",
      "value: ['3.130459e+08', ' 1.705470e+08', ' /Volumes/methlab_data/HBN/EEG-ET/NDARTX795AKR/NDARTX795AKR_Video2_Samples_ET.mat', ' Fractals', ' 120', ' 2900573903', ' 3063561312', ' 162987409']\n",
      "-\n",
      "valores extra: 3.130459e+08  1.705470e+08\n",
      "inicio,fin,dur (ANTERIOR):  2363958068  2506457029  2677004012\n",
      "inicio,fin,dur (ACTUAL):  2900573903  3063561312  162987409\n",
      "-\n",
      "170546983\n",
      "-\n",
      "fin-start(anterior): 142498961\n",
      "------------------------\n",
      "indice: 6259\n",
      "value: ['2.457753e+08', ' 1.705473e+08', ' /Volumes/methlab_data/HBN/EEG-ET/NDARUN221VCJ/NDARUN221VCJ_Video2_Samples_ET.mat', ' Fractals', ' 120', ' 2193181946', ' 2356168546', ' 162986600']\n",
      "-\n",
      "valores extra: 2.457753e+08  1.705473e+08\n",
      "inicio,fin,dur (ANTERIOR):  1864985107  1940213132  2110760453\n",
      "inicio,fin,dur (ACTUAL):  2193181946  2356168546  162986600\n",
      "-\n",
      "170547321\n",
      "-\n",
      "fin-start(anterior): 75228025\n",
      "------------------------\n",
      "indice: 7136\n",
      "value: ['2.513262e+08', ' 1.705466e+08', ' /Volumes/methlab_data/HBN/EEG-ET/NDARWW003WWW/NDARWW003WWW_Video2_Samples_ET.mat', ' Fractals', ' 120', ' 1880562853', ' 2043549609', ' 162986756']\n",
      "-\n",
      "valores extra: 2.513262e+08  1.705466e+08\n",
      "inicio,fin,dur (ANTERIOR):  1575835379  1656614884  1827161529\n",
      "inicio,fin,dur (ACTUAL):  1880562853  2043549609  162986756\n",
      "-\n",
      "170546645\n",
      "-\n",
      "fin-start(anterior): 80779505\n",
      "------------------------\n",
      "indice: 7166\n",
      "value: ['2.508941e+08', ' 1.705464e+08', ' /Volumes/methlab_data/HBN/EEG-ET/NDARWZ115KC6/NDARWZ115KC6_Video-DM_Samples_ET.mat', ' Despicable', ' 30', ' 4733378847', ' 4903923460', ' 170544613']\n",
      "-\n",
      "valores extra: 2.508941e+08  1.705464e+08\n",
      "inicio,fin,dur (ANTERIOR):  1626674613  1707022307  1877568723\n",
      "inicio,fin,dur (ACTUAL):  4733378847  4903923460  170544613\n",
      "-\n",
      "170546416\n",
      "-\n",
      "fin-start(anterior): 80347694\n",
      "------------------------\n",
      "indice: 7380\n",
      "value: ['6.282373e+08', ' 1.629838e+08', ' /Volumes/methlab_data/HBN/EEG-ET/NDARXL523GHX/NDARXL523GHX_Video2_Samples_ET.mat', ' Despicable', ' 120', ' 5383028984', ' 5553586248', ' 170557264']\n",
      "-\n",
      "valores extra: 6.282373e+08  1.629838e+08\n",
      "inicio,fin,dur (ANTERIOR):  3354261721  3819515200  3982499045\n",
      "inicio,fin,dur (ACTUAL):  5383028984  5553586248  170557264\n",
      "-\n",
      "162983845\n",
      "-\n",
      "fin-start(anterior): 465253479\n",
      "------------------------\n",
      "indice: 7609\n",
      "value: ['2.891157e+08', ' 1.705477e+08', ' /Volumes/methlab_data/HBN/EEG-ET/NDARYD546HCB/NDARYD546HCB_Video2_Samples_ET.mat', ' Fractals', ' 120', ' 4106262258', ' 4269249868', ' 162987610']\n",
      "-\n",
      "valores extra: 2.891157e+08  1.705477e+08\n",
      "inicio,fin,dur (ANTERIOR):  3755436264  3874004216  4044551932\n",
      "inicio,fin,dur (ACTUAL):  4106262258  4269249868  162987610\n",
      "-\n",
      "170547716\n",
      "-\n",
      "fin-start(anterior): 118567952\n",
      "------------------------\n",
      "indice: 7861\n",
      "value: ['2.239563e+08', ' 1.705365e+08', ' /Volumes/methlab_data/HBN/EEG-ET/NDARYX008UCU/NDARYX008UCU_Video1_Samples_ET.mat', ' Fractals', ' 120', ' 2872929077', ' 3035915925', ' 162986848']\n",
      "-\n",
      "valores extra: 2.239563e+08  1.705365e+08\n",
      "inicio,fin,dur (ANTERIOR):  1557716580  1611136322  1781672855\n",
      "inicio,fin,dur (ACTUAL):  2872929077  3035915925  162986848\n",
      "-\n",
      "170536533\n",
      "-\n",
      "fin-start(anterior): 53419742\n",
      "------------------------\n",
      "indice: 7891\n",
      "value: ['2.571006e+08', ' 1.705408e+08', ' /Volumes/methlab_data/HBN/EEG-ET/NDARYY218LU2/NDARYY218LU2_Video2_Samples_ET.mat', ' Fractals', ' 120', ' 1933925320', ' 2096912628', ' 162987308']\n",
      "-\n",
      "valores extra: 2.571006e+08  1.705408e+08\n",
      "inicio,fin,dur (ANTERIOR):  1617558478  1704118302  1874659115\n",
      "inicio,fin,dur (ACTUAL):  1933925320  2096912628  162987308\n",
      "-\n",
      "170540813\n",
      "-\n",
      "fin-start(anterior): 86559824\n",
      "------------------------\n",
      "indice: 7909\n",
      "value: ['2.249158e+08', ' 1.705478e+08', ' /Volumes/methlab_data/HBN/EEG-ET/NDARYZ363HP4/NDARYZ363HP4_Video2_Samples_ET.mat', ' Fractals', ' 120', ' 2778261070', ' 2941259356', ' 162998286']\n",
      "-\n",
      "valores extra: 2.249158e+08  1.705478e+08\n",
      "inicio,fin,dur (ANTERIOR):  2526294857  2580662931  2751210703\n",
      "inicio,fin,dur (ACTUAL):  2778261070  2941259356  162998286\n",
      "-\n",
      "170547772\n",
      "-\n",
      "fin-start(anterior): 54368074\n",
      "------------------------\n"
     ]
    }
   ],
   "source": [
    "for index, value in cols.items():\n",
    "    if len(value)>6:\n",
    "        print('indice:', index)\n",
    "        print('value:', value)\n",
    "        print('-')\n",
    "        print('valores extra:', value[0], value[1])\n",
    "        print('inicio,fin,dur (ANTERIOR):', cols[index-1][-3],cols[index-1][-2],cols[index-1][-1])\n",
    "        print('inicio,fin,dur (ACTUAL):', value[-3], value[-2], value[-1])\n",
    "        print('-')\n",
    "        print(int(cols[index-1][-1])-int(cols[index-1][-2]))\n",
    "        print('-')\n",
    "        print('fin-start(anterior):',int(cols[index-1][-2])-int(cols[index-1][-3]))\n",
    "        print('------------------------')"
   ]
  },
  {
   "cell_type": "markdown",
   "id": "renewable-amplifier",
   "metadata": {},
   "source": [
    "- En las filas que tienen columnas de mas\n",
    "    - Hay que sacar los dos primeros valores y agregarlos a la fila anterior\n",
    "    - El primer valor extra parece ser un tiempo que no sabemos a que corresponde\n",
    "    - El segundo valor extra sería la duracion\n",
    "    - De la fila anterior el ultimo es stop y el anteultimo es el start.\n",
    "    - El antepenultimo no sabemos que es\n",
    "    - El indice correspondiente al archivo '/Volumes/methlab_data/HBN/EEG-ET/NDARML926NEG/NDARML926NEG_Video2_Samples_ET.mat' (en mi caso el 4299-4300) tiene mas entradas erroneas que el resto"
   ]
  },
  {
   "cell_type": "code",
   "execution_count": 7,
   "id": "assured-breakdown",
   "metadata": {},
   "outputs": [],
   "source": [
    "filas = []\n",
    "colnames =  ['FilePath', 'VideoName', 'SRate', 'Start', 'Stop', 'Duration']\n",
    "for index, value in cols.items():\n",
    "    if len(value)>6:\n",
    "        fila_ant_d = filas.pop(-1)\n",
    "        fila_ant_corr_val = list(fila_ant_d.values())[:3] + [list(fila_ant_d.values())[4]] + [value[1]]\n",
    "        fila_ant_corr = dict(zip(colnames, fila_ant_corr_val))\n",
    "        filas.append(fila_ant_corr)\n",
    "        fila = dict(zip(colnames, value[2:]))\n",
    "    else:\n",
    "        fila = dict(zip(colnames, value))\n",
    "    filas.append(fila)\n",
    "df_filas_corr = pd.DataFrame(filas)"
   ]
  },
  {
   "cell_type": "code",
   "execution_count": 8,
   "id": "cleared-rocket",
   "metadata": {},
   "outputs": [
    {
     "data": {
      "text/html": [
       "<div>\n",
       "<style scoped>\n",
       "    .dataframe tbody tr th:only-of-type {\n",
       "        vertical-align: middle;\n",
       "    }\n",
       "\n",
       "    .dataframe tbody tr th {\n",
       "        vertical-align: top;\n",
       "    }\n",
       "\n",
       "    .dataframe thead th {\n",
       "        text-align: right;\n",
       "    }\n",
       "</style>\n",
       "<table border=\"1\" class=\"dataframe\">\n",
       "  <thead>\n",
       "    <tr style=\"text-align: right;\">\n",
       "      <th></th>\n",
       "      <th>FilePath</th>\n",
       "      <th>VideoName</th>\n",
       "      <th>SRate</th>\n",
       "      <th>Start</th>\n",
       "      <th>Stop</th>\n",
       "      <th>Duration</th>\n",
       "    </tr>\n",
       "  </thead>\n",
       "  <tbody>\n",
       "    <tr>\n",
       "      <th>0</th>\n",
       "      <td>/Volumes/methlab_data/HBN/EEG-ET/NDARAA075AMK/...</td>\n",
       "      <td>Diary</td>\n",
       "      <td>60</td>\n",
       "      <td>2887191440</td>\n",
       "      <td>3004584578</td>\n",
       "      <td>117393138</td>\n",
       "    </tr>\n",
       "    <tr>\n",
       "      <th>1</th>\n",
       "      <td>/Volumes/methlab_data/HBN/EEG-ET/NDARAA075AMK/...</td>\n",
       "      <td>Despicable</td>\n",
       "      <td>60</td>\n",
       "      <td>3788400246</td>\n",
       "      <td>3958945796</td>\n",
       "      <td>170545550</td>\n",
       "    </tr>\n",
       "    <tr>\n",
       "      <th>2</th>\n",
       "      <td>/Volumes/methlab_data/HBN/EEG-ET/NDARAA117NEJ/...</td>\n",
       "      <td>Diary</td>\n",
       "      <td>60</td>\n",
       "      <td>3333897971</td>\n",
       "      <td>3451293101</td>\n",
       "      <td>117395130</td>\n",
       "    </tr>\n",
       "    <tr>\n",
       "      <th>3</th>\n",
       "      <td>/Volumes/methlab_data/HBN/EEG-ET/NDARAA117NEJ/...</td>\n",
       "      <td>Despicable</td>\n",
       "      <td>60</td>\n",
       "      <td>4710198376</td>\n",
       "      <td>4880739124</td>\n",
       "      <td>170540748</td>\n",
       "    </tr>\n",
       "    <tr>\n",
       "      <th>4</th>\n",
       "      <td>/Volumes/methlab_data/HBN/EEG-ET/NDARAA306NT2/...</td>\n",
       "      <td>Despicable</td>\n",
       "      <td>60</td>\n",
       "      <td>3125258026</td>\n",
       "      <td>3295795728</td>\n",
       "      <td>170537702</td>\n",
       "    </tr>\n",
       "  </tbody>\n",
       "</table>\n",
       "</div>"
      ],
      "text/plain": [
       "                                            FilePath    VideoName SRate  \\\n",
       "0  /Volumes/methlab_data/HBN/EEG-ET/NDARAA075AMK/...        Diary    60   \n",
       "1  /Volumes/methlab_data/HBN/EEG-ET/NDARAA075AMK/...   Despicable    60   \n",
       "2  /Volumes/methlab_data/HBN/EEG-ET/NDARAA117NEJ/...        Diary    60   \n",
       "3  /Volumes/methlab_data/HBN/EEG-ET/NDARAA117NEJ/...   Despicable    60   \n",
       "4  /Volumes/methlab_data/HBN/EEG-ET/NDARAA306NT2/...   Despicable    60   \n",
       "\n",
       "         Start         Stop    Duration  \n",
       "0   2887191440   3004584578   117393138  \n",
       "1   3788400246   3958945796   170545550  \n",
       "2   3333897971   3451293101   117395130  \n",
       "3   4710198376   4880739124   170540748  \n",
       "4   3125258026   3295795728   170537702  "
      ]
     },
     "execution_count": 8,
     "metadata": {},
     "output_type": "execute_result"
    }
   ],
   "source": [
    "df_filas_corr.head()"
   ]
  },
  {
   "cell_type": "code",
   "execution_count": 9,
   "id": "vocal-approval",
   "metadata": {},
   "outputs": [
    {
     "data": {
      "text/plain": [
       "array([' Diary', ' Despicable', ' Present', ' Fractals', ' 162988064'],\n",
       "      dtype=object)"
      ]
     },
     "execution_count": 9,
     "metadata": {},
     "output_type": "execute_result"
    }
   ],
   "source": [
    "videos = df_filas_corr.VideoName.unique()\n",
    "videos"
   ]
  },
  {
   "cell_type": "code",
   "execution_count": 10,
   "id": "wrong-princess",
   "metadata": {},
   "outputs": [
    {
     "data": {
      "text/plain": [
       " Diary         2558\n",
       " Despicable    2555\n",
       " Present       1807\n",
       " Fractals      1369\n",
       " 162988064        1\n",
       "Name: VideoName, dtype: int64"
      ]
     },
     "execution_count": 10,
     "metadata": {},
     "output_type": "execute_result"
    }
   ],
   "source": [
    "df_filas_corr.VideoName.value_counts()"
   ]
  },
  {
   "cell_type": "code",
   "execution_count": 11,
   "id": "golden-extreme",
   "metadata": {},
   "outputs": [
    {
     "data": {
      "text/html": [
       "<div>\n",
       "<style scoped>\n",
       "    .dataframe tbody tr th:only-of-type {\n",
       "        vertical-align: middle;\n",
       "    }\n",
       "\n",
       "    .dataframe tbody tr th {\n",
       "        vertical-align: top;\n",
       "    }\n",
       "\n",
       "    .dataframe thead th {\n",
       "        text-align: right;\n",
       "    }\n",
       "</style>\n",
       "<table border=\"1\" class=\"dataframe\">\n",
       "  <thead>\n",
       "    <tr style=\"text-align: right;\">\n",
       "      <th></th>\n",
       "      <th>FilePath</th>\n",
       "      <th>VideoName</th>\n",
       "      <th>SRate</th>\n",
       "      <th>Start</th>\n",
       "      <th>Stop</th>\n",
       "      <th>Duration</th>\n",
       "    </tr>\n",
       "  </thead>\n",
       "  <tbody>\n",
       "    <tr>\n",
       "      <th>4300</th>\n",
       "      <td>286826838</td>\n",
       "      <td>162988064</td>\n",
       "      <td>/Volumes/methlab_data/HBN/EEG-ET/NDARML926NEG...</td>\n",
       "      <td>Despicable</td>\n",
       "      <td>120</td>\n",
       "      <td>5605429092</td>\n",
       "    </tr>\n",
       "  </tbody>\n",
       "</table>\n",
       "</div>"
      ],
      "text/plain": [
       "        FilePath   VideoName  \\\n",
       "4300   286826838   162988064   \n",
       "\n",
       "                                                  SRate        Start  Stop  \\\n",
       "4300   /Volumes/methlab_data/HBN/EEG-ET/NDARML926NEG...   Despicable   120   \n",
       "\n",
       "         Duration  \n",
       "4300   5605429092  "
      ]
     },
     "execution_count": 11,
     "metadata": {},
     "output_type": "execute_result"
    }
   ],
   "source": [
    "df_filas_corr[df_filas_corr.VideoName == videos[-1]]"
   ]
  },
  {
   "cell_type": "code",
   "execution_count": 12,
   "id": "juvenile-water",
   "metadata": {},
   "outputs": [],
   "source": [
    "fant = cols.iloc[4299]\n",
    "fact = cols.iloc[4300]"
   ]
  },
  {
   "cell_type": "code",
   "execution_count": 13,
   "id": "christian-payday",
   "metadata": {},
   "outputs": [
    {
     "data": {
      "text/plain": [
       "['/Volumes/methlab_data/HBN/EEG-ET/NDARML926NEG/NDARML926NEG_Video1_Samples_ET.mat',\n",
       " ' Fractals',\n",
       " ' 120',\n",
       " ' 4331406439',\n",
       " ' 4536394842',\n",
       " ' 4660233616']"
      ]
     },
     "execution_count": 13,
     "metadata": {},
     "output_type": "execute_result"
    }
   ],
   "source": [
    "fant"
   ]
  },
  {
   "cell_type": "code",
   "execution_count": 14,
   "id": "unsigned-commons",
   "metadata": {},
   "outputs": [
    {
     "data": {
      "text/plain": [
       "['4.823222e+09',\n",
       " ' 4.918152e+08',\n",
       " ' 286826838',\n",
       " ' 162988064',\n",
       " ' /Volumes/methlab_data/HBN/EEG-ET/NDARML926NEG/NDARML926NEG_Video2_Samples_ET.mat',\n",
       " ' Despicable',\n",
       " ' 120',\n",
       " ' 5605429092',\n",
       " ' 5775976013',\n",
       " ' 170546921']"
      ]
     },
     "execution_count": 14,
     "metadata": {},
     "output_type": "execute_result"
    }
   ],
   "source": [
    "fact"
   ]
  },
  {
   "cell_type": "code",
   "execution_count": 15,
   "id": "brilliant-companion",
   "metadata": {},
   "outputs": [
    {
     "data": {
      "text/plain": [
       "123838774"
      ]
     },
     "execution_count": 15,
     "metadata": {},
     "output_type": "execute_result"
    }
   ],
   "source": [
    "int(fant[-1]) - int(fant[-2])"
   ]
  },
  {
   "cell_type": "code",
   "execution_count": 16,
   "id": "powered-wyoming",
   "metadata": {},
   "outputs": [
    {
     "data": {
      "text/plain": [
       "204988403"
      ]
     },
     "execution_count": 16,
     "metadata": {},
     "output_type": "execute_result"
    }
   ],
   "source": [
    "int(fant[-2]) - int(fant[-3])"
   ]
  },
  {
   "cell_type": "code",
   "execution_count": 17,
   "id": "proud-anime",
   "metadata": {},
   "outputs": [
    {
     "data": {
      "text/plain": [
       "162988384.0"
      ]
     },
     "execution_count": 17,
     "metadata": {},
     "output_type": "execute_result"
    }
   ],
   "source": [
    "float(fact[0]) - int(fant[-1])"
   ]
  },
  {
   "cell_type": "code",
   "execution_count": 18,
   "id": "employed-senegal",
   "metadata": {},
   "outputs": [
    {
     "data": {
      "text/plain": [
       "-4331406800.0"
      ]
     },
     "execution_count": 18,
     "metadata": {},
     "output_type": "execute_result"
    }
   ],
   "source": [
    "float(fact[1]) - float(fact[0])"
   ]
  },
  {
   "cell_type": "code",
   "execution_count": 19,
   "id": "cutting-details",
   "metadata": {},
   "outputs": [
    {
     "data": {
      "text/plain": [
       "False"
      ]
     },
     "execution_count": 19,
     "metadata": {},
     "output_type": "execute_result"
    }
   ],
   "source": [
    "int(float(fact[0]) - float(fant[-1])) == int(fact[3])"
   ]
  },
  {
   "cell_type": "code",
   "execution_count": 20,
   "id": "guided-omega",
   "metadata": {},
   "outputs": [
    {
     "data": {
      "text/plain": [
       "320"
      ]
     },
     "execution_count": 20,
     "metadata": {},
     "output_type": "execute_result"
    }
   ],
   "source": [
    "int(float(fact[0]) - float(fant[-1])) - int(fact[3])"
   ]
  },
  {
   "cell_type": "code",
   "execution_count": 21,
   "id": "basic-exposure",
   "metadata": {},
   "outputs": [],
   "source": [
    "# Nueva corrreccion incluyendo la fila especifica esta\n",
    "# parece ser que el ultimo es el start, el primero de mas es el stop y el cuarto es la dur\n",
    "filas = []\n",
    "colnames =  ['FilePath', 'VideoName', 'SRate', 'Start', 'Stop', 'Duration']\n",
    "for index, value in cols.items():\n",
    "    if len(value)>6:\n",
    "        # saco la fila anterior que estaba mal\n",
    "        fila_ant_d = filas.pop(-1)\n",
    "        if index==4300:\n",
    "            fila_ant_corr_val = list(fila_ant_d.values())[:3] + [list(fila_ant_d.values())[-1]] + [value[0]]\n",
    "            # nueva fila para agregar\n",
    "            fila = dict(zip(colnames, value[4:]))\n",
    "        else:\n",
    "            fila_ant_corr_val = list(fila_ant_d.values())[:3] + [list(fila_ant_d.values())[4]] + [value[1]]\n",
    "            # nueva fila para agregar\n",
    "            fila = dict(zip(colnames, value[2:]))\n",
    "        fila_ant_corr = dict(zip(colnames, fila_ant_corr_val))\n",
    "        # agrego la fila anterior corregida\n",
    "        filas.append(fila_ant_corr)\n",
    "    else:\n",
    "        fila = dict(zip(colnames, value))\n",
    "    filas.append(fila)\n",
    "df_filas_corr = pd.DataFrame(filas)"
   ]
  },
  {
   "cell_type": "code",
   "execution_count": 22,
   "id": "wound-projector",
   "metadata": {},
   "outputs": [
    {
     "data": {
      "text/plain": [
       "array([' Diary', ' Despicable', ' Present', ' Fractals'], dtype=object)"
      ]
     },
     "execution_count": 22,
     "metadata": {},
     "output_type": "execute_result"
    }
   ],
   "source": [
    "# algunos chequeos basicos\n",
    "df_filas_corr.VideoName.unique()"
   ]
  },
  {
   "cell_type": "code",
   "execution_count": 23,
   "id": "loaded-pottery",
   "metadata": {},
   "outputs": [
    {
     "data": {
      "text/plain": [
       "array([' 60', ' 120', ' 30'], dtype=object)"
      ]
     },
     "execution_count": 23,
     "metadata": {},
     "output_type": "execute_result"
    }
   ],
   "source": [
    "df_filas_corr.SRate.unique()"
   ]
  },
  {
   "cell_type": "code",
   "execution_count": 24,
   "id": "crude-light",
   "metadata": {},
   "outputs": [
    {
     "name": "stdout",
     "output_type": "stream",
     "text": [
      "mean: 117252347.65011728\n",
      "std: 4023325.607407642\n"
     ]
    }
   ],
   "source": [
    "# chequeo duracion de un video\n",
    "vid_id = 0\n",
    "vid_mean = df_filas_corr[df_filas_corr.VideoName==videos[vid_id]].Duration.astype(int).mean()\n",
    "print('mean:', vid_mean)\n",
    "vid_std = df_filas_corr[df_filas_corr.VideoName==videos[vid_id]].Duration.astype(int).std()\n",
    "print('std:', vid_std)"
   ]
  },
  {
   "cell_type": "code",
   "execution_count": 25,
   "id": "driving-benefit",
   "metadata": {},
   "outputs": [],
   "source": [
    "# lo guardo\n",
    "df_filas_corr.to_csv('VideoMatchingSrate_corr.csv', index = False)"
   ]
  }
 ],
 "metadata": {
  "kernelspec": {
   "display_name": "Python 3",
   "language": "python",
   "name": "python3"
  },
  "language_info": {
   "codemirror_mode": {
    "name": "ipython",
    "version": 3
   },
   "file_extension": ".py",
   "mimetype": "text/x-python",
   "name": "python",
   "nbconvert_exporter": "python",
   "pygments_lexer": "ipython3",
   "version": "3.7.10"
  }
 },
 "nbformat": 4,
 "nbformat_minor": 5
}
